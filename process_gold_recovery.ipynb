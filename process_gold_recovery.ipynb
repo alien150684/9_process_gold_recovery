{
 "cells": [
  {
   "cell_type": "markdown",
   "metadata": {
    "toc": true
   },
   "source": [
    "<h1>Содержание<span class=\"tocSkip\"></span></h1>\n",
    "<div class=\"toc\"><ul class=\"toc-item\"><li><span><a href=\"#Подготовка-данных\" data-toc-modified-id=\"Подготовка-данных-1\"><span class=\"toc-item-num\">1&nbsp;&nbsp;</span>Подготовка данных</a></span><ul class=\"toc-item\"><li><span><a href=\"#Предварительный-анализ-исходных-данных\" data-toc-modified-id=\"Предварительный-анализ-исходных-данных-1.1\"><span class=\"toc-item-num\">1.1&nbsp;&nbsp;</span>Предварительный анализ исходных данных</a></span></li><li><span><a href=\"#Проверка-правильности-расчёта-эффективности-обогащения-(флотации)\" data-toc-modified-id=\"Проверка-правильности-расчёта-эффективности-обогащения-(флотации)-1.2\"><span class=\"toc-item-num\">1.2&nbsp;&nbsp;</span>Проверка правильности расчёта эффективности обогащения (флотации)</a></span></li><li><span><a href=\"#Анализ-признаков,-отсутствующих-в-тестовой-выборке\" data-toc-modified-id=\"Анализ-признаков,-отсутствующих-в-тестовой-выборке-1.3\"><span class=\"toc-item-num\">1.3&nbsp;&nbsp;</span>Анализ признаков, отсутствующих в тестовой выборке</a></span></li><li><span><a href=\"#Предобработка-данных\" data-toc-modified-id=\"Предобработка-данных-1.4\"><span class=\"toc-item-num\">1.4&nbsp;&nbsp;</span>Предобработка данных</a></span></li></ul></li><li><span><a href=\"#Анализ-данных\" data-toc-modified-id=\"Анализ-данных-2\"><span class=\"toc-item-num\">2&nbsp;&nbsp;</span>Анализ данных</a></span><ul class=\"toc-item\"><li><span><a href=\"#Изменение-концентрации-металлов-(Au,-Ag,-Pb)-на-различных-этапах-очистки.\" data-toc-modified-id=\"Изменение-концентрации-металлов-(Au,-Ag,-Pb)-на-различных-этапах-очистки.-2.1\"><span class=\"toc-item-num\">2.1&nbsp;&nbsp;</span>Изменение концентрации металлов (Au, Ag, Pb) на различных этапах очистки.</a></span></li><li><span><a href=\"#Сравнение-распределения-размеров-гранул-сырья-в-обучающей-и-тестовой-выборках\" data-toc-modified-id=\"Сравнение-распределения-размеров-гранул-сырья-в-обучающей-и-тестовой-выборках-2.2\"><span class=\"toc-item-num\">2.2&nbsp;&nbsp;</span>Сравнение распределения размеров гранул сырья в обучающей и тестовой выборках</a></span></li><li><span><a href=\"#Исследование-суммарной-концентрации-всех-веществ-на-разных-стадиях:-в-сырье,-в-черновом-и-финальном-концентратах.\" data-toc-modified-id=\"Исследование-суммарной-концентрации-всех-веществ-на-разных-стадиях:-в-сырье,-в-черновом-и-финальном-концентратах.-2.3\"><span class=\"toc-item-num\">2.3&nbsp;&nbsp;</span>Исследование суммарной концентрации всех веществ на разных стадиях: в сырье, в черновом и финальном концентратах.</a></span></li></ul></li><li><span><a href=\"#Модель\" data-toc-modified-id=\"Модель-3\"><span class=\"toc-item-num\">3&nbsp;&nbsp;</span>Модель</a></span><ul class=\"toc-item\"><li><span><a href=\"#Функция-для-вычисления-итоговой-метрики-sMAPE\" data-toc-modified-id=\"Функция-для-вычисления-итоговой-метрики-sMAPE-3.1\"><span class=\"toc-item-num\">3.1&nbsp;&nbsp;</span>Функция для вычисления итоговой метрики sMAPE</a></span></li><li><span><a href=\"#Создание-моделей-для-прогнозирования-эффективности-обогащения-концентратов\" data-toc-modified-id=\"Создание-моделей-для-прогнозирования-эффективности-обогащения-концентратов-3.2\"><span class=\"toc-item-num\">3.2&nbsp;&nbsp;</span>Создание моделей для прогнозирования эффективности обогащения концентратов</a></span><ul class=\"toc-item\"><li><span><a href=\"#Константая-(baseline)-модель\" data-toc-modified-id=\"Константая-(baseline)-модель-3.2.1\"><span class=\"toc-item-num\">3.2.1&nbsp;&nbsp;</span>Константая (baseline) модель</a></span></li><li><span><a href=\"#Линейная-регрессия\" data-toc-modified-id=\"Линейная-регрессия-3.2.2\"><span class=\"toc-item-num\">3.2.2&nbsp;&nbsp;</span>Линейная регрессия</a></span></li><li><span><a href=\"#Случайный-лес\" data-toc-modified-id=\"Случайный-лес-3.2.3\"><span class=\"toc-item-num\">3.2.3&nbsp;&nbsp;</span>Случайный лес</a></span></li><li><span><a href=\"#Проверка-лучших-моделей-на-тестовой-выборке\" data-toc-modified-id=\"Проверка-лучших-моделей-на-тестовой-выборке-3.2.4\"><span class=\"toc-item-num\">3.2.4&nbsp;&nbsp;</span>Проверка лучших моделей на тестовой выборке</a></span></li></ul></li></ul></li><li><span><a href=\"#Чек-лист-готовности-проекта\" data-toc-modified-id=\"Чек-лист-готовности-проекта-4\"><span class=\"toc-item-num\">4&nbsp;&nbsp;</span>Чек-лист готовности проекта</a></span></li></ul></div>"
   ]
  },
  {
   "cell_type": "markdown",
   "metadata": {},
   "source": [
    "# Исследование технологического процесса очистки золота"
   ]
  },
  {
   "cell_type": "markdown",
   "metadata": {},
   "source": [
    "Компания «Цифра» разрабатывает решения для эффективной работы промышленных предприятий.  \n",
    "\n",
    "Необходимо создать прототип модели машинного обучения для прогнозирования коэффициента восстановления золота из золотосодержащей руды. Модель поможет оптимизировать производство, чтобы не запускать предприятие с убыточными характеристиками. Для обучения и тестирования модели доступны данные с параметрами добычи и очистки."
   ]
  },
  {
   "cell_type": "code",
   "execution_count": 58,
   "metadata": {},
   "outputs": [],
   "source": [
    "import pandas as pd\n",
    "# отображение ВСЕХ столбцов\n",
    "pd.options.display.max_columns = None\n",
    "\n",
    "import numpy as np\n",
    "import matplotlib.pyplot as plt\n",
    "\n",
    "# модуль для масштабирования числовых признаков\n",
    "from sklearn.preprocessing import StandardScaler\n",
    "\n",
    "# алгорит для обучения baseline моделей\n",
    "from sklearn.dummy import DummyRegressor\n",
    "\n",
    "# импортируем алгоритм линейной регрессии\n",
    "from sklearn.linear_model import LinearRegression\n",
    "\n",
    "# модель решающего дерева из библиотеки sklearn\n",
    "from sklearn.tree import DecisionTreeRegressor\n",
    "\n",
    "# алгоритм случайного леса\n",
    "from sklearn.ensemble import RandomForestRegressor\n",
    "\n",
    "# импортируем модуль подбора гиперпараметров модели\n",
    "from sklearn.model_selection import GridSearchCV\n",
    "\n",
    "# функция расчёта метрик\n",
    "from sklearn.metrics import mean_absolute_error as mae, make_scorer\n",
    "\n",
    "# оценка качества модели кросс-валидацией \n",
    "from sklearn.model_selection import cross_val_score\n",
    "\n",
    "# игнорирование предупреждений\n",
    "import warnings\n",
    "warnings.filterwarnings('ignore')"
   ]
  },
  {
   "cell_type": "markdown",
   "metadata": {},
   "source": [
    "## Подготовка данных"
   ]
  },
  {
   "cell_type": "markdown",
   "metadata": {},
   "source": [
    "### Предварительный анализ исходных данных"
   ]
  },
  {
   "cell_type": "code",
   "execution_count": 59,
   "metadata": {
    "scrolled": false
   },
   "outputs": [
    {
     "name": "stdout",
     "output_type": "stream",
     "text": [
      "<class 'pandas.core.frame.DataFrame'>\n",
      "RangeIndex: 19439 entries, 0 to 19438\n",
      "Data columns (total 87 columns):\n",
      " #   Column                                              Non-Null Count  Dtype  \n",
      "---  ------                                              --------------  -----  \n",
      " 0   date                                                19439 non-null  object \n",
      " 1   final.output.concentrate_ag                         19438 non-null  float64\n",
      " 2   final.output.concentrate_pb                         19438 non-null  float64\n",
      " 3   final.output.concentrate_sol                        19228 non-null  float64\n",
      " 4   final.output.concentrate_au                         19439 non-null  float64\n",
      " 5   final.output.recovery                               19439 non-null  float64\n",
      " 6   final.output.tail_ag                                19438 non-null  float64\n",
      " 7   final.output.tail_pb                                19338 non-null  float64\n",
      " 8   final.output.tail_sol                               19433 non-null  float64\n",
      " 9   final.output.tail_au                                19439 non-null  float64\n",
      " 10  primary_cleaner.input.sulfate                       19415 non-null  float64\n",
      " 11  primary_cleaner.input.depressant                    19402 non-null  float64\n",
      " 12  primary_cleaner.input.feed_size                     19439 non-null  float64\n",
      " 13  primary_cleaner.input.xanthate                      19335 non-null  float64\n",
      " 14  primary_cleaner.output.concentrate_ag               19439 non-null  float64\n",
      " 15  primary_cleaner.output.concentrate_pb               19323 non-null  float64\n",
      " 16  primary_cleaner.output.concentrate_sol              19069 non-null  float64\n",
      " 17  primary_cleaner.output.concentrate_au               19439 non-null  float64\n",
      " 18  primary_cleaner.output.tail_ag                      19435 non-null  float64\n",
      " 19  primary_cleaner.output.tail_pb                      19418 non-null  float64\n",
      " 20  primary_cleaner.output.tail_sol                     19377 non-null  float64\n",
      " 21  primary_cleaner.output.tail_au                      19439 non-null  float64\n",
      " 22  primary_cleaner.state.floatbank8_a_air              19435 non-null  float64\n",
      " 23  primary_cleaner.state.floatbank8_a_level            19438 non-null  float64\n",
      " 24  primary_cleaner.state.floatbank8_b_air              19435 non-null  float64\n",
      " 25  primary_cleaner.state.floatbank8_b_level            19438 non-null  float64\n",
      " 26  primary_cleaner.state.floatbank8_c_air              19437 non-null  float64\n",
      " 27  primary_cleaner.state.floatbank8_c_level            19438 non-null  float64\n",
      " 28  primary_cleaner.state.floatbank8_d_air              19436 non-null  float64\n",
      " 29  primary_cleaner.state.floatbank8_d_level            19438 non-null  float64\n",
      " 30  rougher.calculation.sulfate_to_au_concentrate       19437 non-null  float64\n",
      " 31  rougher.calculation.floatbank10_sulfate_to_au_feed  19437 non-null  float64\n",
      " 32  rougher.calculation.floatbank11_sulfate_to_au_feed  19437 non-null  float64\n",
      " 33  rougher.calculation.au_pb_ratio                     19439 non-null  float64\n",
      " 34  rougher.input.feed_ag                               19439 non-null  float64\n",
      " 35  rougher.input.feed_pb                               19339 non-null  float64\n",
      " 36  rougher.input.feed_rate                             19428 non-null  float64\n",
      " 37  rougher.input.feed_size                             19294 non-null  float64\n",
      " 38  rougher.input.feed_sol                              19340 non-null  float64\n",
      " 39  rougher.input.feed_au                               19439 non-null  float64\n",
      " 40  rougher.input.floatbank10_sulfate                   19405 non-null  float64\n",
      " 41  rougher.input.floatbank10_xanthate                  19431 non-null  float64\n",
      " 42  rougher.input.floatbank11_sulfate                   19395 non-null  float64\n",
      " 43  rougher.input.floatbank11_xanthate                  18986 non-null  float64\n",
      " 44  rougher.output.concentrate_ag                       19439 non-null  float64\n",
      " 45  rougher.output.concentrate_pb                       19439 non-null  float64\n",
      " 46  rougher.output.concentrate_sol                      19416 non-null  float64\n",
      " 47  rougher.output.concentrate_au                       19439 non-null  float64\n",
      " 48  rougher.output.recovery                             19439 non-null  float64\n",
      " 49  rougher.output.tail_ag                              19438 non-null  float64\n",
      " 50  rougher.output.tail_pb                              19439 non-null  float64\n",
      " 51  rougher.output.tail_sol                             19439 non-null  float64\n",
      " 52  rougher.output.tail_au                              19439 non-null  float64\n",
      " 53  rougher.state.floatbank10_a_air                     19438 non-null  float64\n",
      " 54  rougher.state.floatbank10_a_level                   19438 non-null  float64\n",
      " 55  rougher.state.floatbank10_b_air                     19438 non-null  float64\n",
      " 56  rougher.state.floatbank10_b_level                   19438 non-null  float64\n",
      " 57  rougher.state.floatbank10_c_air                     19438 non-null  float64\n",
      " 58  rougher.state.floatbank10_c_level                   19438 non-null  float64\n",
      " 59  rougher.state.floatbank10_d_air                     19439 non-null  float64\n",
      " 60  rougher.state.floatbank10_d_level                   19439 non-null  float64\n",
      " 61  rougher.state.floatbank10_e_air                     19003 non-null  float64\n",
      " 62  rougher.state.floatbank10_e_level                   19439 non-null  float64\n",
      " 63  rougher.state.floatbank10_f_air                     19439 non-null  float64\n",
      " 64  rougher.state.floatbank10_f_level                   19439 non-null  float64\n",
      " 65  secondary_cleaner.output.tail_ag                    19437 non-null  float64\n",
      " 66  secondary_cleaner.output.tail_pb                    19427 non-null  float64\n",
      " 67  secondary_cleaner.output.tail_sol                   17691 non-null  float64\n",
      " 68  secondary_cleaner.output.tail_au                    19439 non-null  float64\n",
      " 69  secondary_cleaner.state.floatbank2_a_air            19219 non-null  float64\n",
      " 70  secondary_cleaner.state.floatbank2_a_level          19438 non-null  float64\n",
      " 71  secondary_cleaner.state.floatbank2_b_air            19416 non-null  float64\n",
      " 72  secondary_cleaner.state.floatbank2_b_level          19438 non-null  float64\n",
      " 73  secondary_cleaner.state.floatbank3_a_air            19426 non-null  float64\n",
      " 74  secondary_cleaner.state.floatbank3_a_level          19438 non-null  float64\n",
      " 75  secondary_cleaner.state.floatbank3_b_air            19438 non-null  float64\n",
      " 76  secondary_cleaner.state.floatbank3_b_level          19438 non-null  float64\n",
      " 77  secondary_cleaner.state.floatbank4_a_air            19433 non-null  float64\n",
      " 78  secondary_cleaner.state.floatbank4_a_level          19438 non-null  float64\n",
      " 79  secondary_cleaner.state.floatbank4_b_air            19438 non-null  float64\n",
      " 80  secondary_cleaner.state.floatbank4_b_level          19438 non-null  float64\n",
      " 81  secondary_cleaner.state.floatbank5_a_air            19438 non-null  float64\n",
      " 82  secondary_cleaner.state.floatbank5_a_level          19438 non-null  float64\n",
      " 83  secondary_cleaner.state.floatbank5_b_air            19438 non-null  float64\n",
      " 84  secondary_cleaner.state.floatbank5_b_level          19438 non-null  float64\n",
      " 85  secondary_cleaner.state.floatbank6_a_air            19437 non-null  float64\n",
      " 86  secondary_cleaner.state.floatbank6_a_level          19438 non-null  float64\n",
      "dtypes: float64(86), object(1)\n",
      "memory usage: 12.9+ MB\n"
     ]
    }
   ],
   "source": [
    "df = pd.read_csv('/datasets/gold_recovery_full_new.csv', sep=',', decimal='.')\n",
    "df_train = pd.read_csv('/datasets/gold_recovery_train_new.csv', sep=',', decimal='.')\n",
    "df_test = pd.read_csv('/datasets/gold_recovery_test_new.csv', sep=',', decimal='.')\n",
    "\n",
    "# Проверим наличие пропусков\n",
    "# print(df.shape, df_train.shape, df_test.shape)\n",
    "df.info()"
   ]
  },
  {
   "cell_type": "markdown",
   "metadata": {},
   "source": [
    "Выводы.\n",
    "1. Содержимое столбца 'date' необходимо преобразовать методом to_datetime().\n",
    "2. Столбцы с числовыми признаками содержат пропуски. Их требуется заполнить.\n",
    "3. Числовые признаки перед обучением моделей необходимо привести к одному масштабу.\n",
    "4. В тестовом наборе нет целевых признаков. Необходимо их добавить из исходного набора данных."
   ]
  },
  {
   "cell_type": "markdown",
   "metadata": {},
   "source": [
    "### Проверка правильности расчёта эффективности обогащения (флотации)"
   ]
  },
  {
   "cell_type": "code",
   "execution_count": 60,
   "metadata": {},
   "outputs": [
    {
     "name": "stdout",
     "output_type": "stream",
     "text": [
      "MAE между расчётным и значением признака: 9.73512347450521e-15\n"
     ]
    }
   ],
   "source": [
    "df_train['rougher.calculation.recovery'] = (\n",
    "                           df_train['rougher.output.concentrate_au']\n",
    "                        * (df_train['rougher.input.feed_au'] - df_train['rougher.output.tail_au'])\n",
    "                        / \n",
    "                          (df_train['rougher.input.feed_au']\n",
    "                        * (df_train['rougher.output.concentrate_au'] - df_train['rougher.output.tail_au']))\n",
    "                        *100\n",
    "                        )\n",
    "\n",
    "print(\"MAE между расчётным и значением признака:\", mae(df_train['rougher.output.recovery'], df_train['rougher.calculation.recovery']))"
   ]
  },
  {
   "cell_type": "markdown",
   "metadata": {},
   "source": [
    "### Анализ признаков, отсутствующих в тестовой выборке"
   ]
  },
  {
   "cell_type": "markdown",
   "metadata": {},
   "source": [
    "В описании проекта написано: \n",
    "\"Некоторые параметры недоступны, потому что замеряются и/или рассчитываются значительно позже. Из-за этого в тестовой выборке отсутствуют некоторые признаки, которые могут быть в обучающей\"."
   ]
  },
  {
   "cell_type": "code",
   "execution_count": 61,
   "metadata": {
    "scrolled": false
   },
   "outputs": [
    {
     "data": {
      "text/plain": [
       "Index(['final.output.concentrate_ag', 'final.output.concentrate_pb',\n",
       "       'final.output.concentrate_sol', 'final.output.concentrate_au',\n",
       "       'final.output.recovery', 'final.output.tail_ag', 'final.output.tail_pb',\n",
       "       'final.output.tail_sol', 'final.output.tail_au',\n",
       "       'primary_cleaner.output.concentrate_ag',\n",
       "       'primary_cleaner.output.concentrate_pb',\n",
       "       'primary_cleaner.output.concentrate_sol',\n",
       "       'primary_cleaner.output.concentrate_au',\n",
       "       'primary_cleaner.output.tail_ag', 'primary_cleaner.output.tail_pb',\n",
       "       'primary_cleaner.output.tail_sol', 'primary_cleaner.output.tail_au',\n",
       "       'rougher.calculation.sulfate_to_au_concentrate',\n",
       "       'rougher.calculation.floatbank10_sulfate_to_au_feed',\n",
       "       'rougher.calculation.floatbank11_sulfate_to_au_feed',\n",
       "       'rougher.calculation.au_pb_ratio', 'rougher.output.concentrate_ag',\n",
       "       'rougher.output.concentrate_pb', 'rougher.output.concentrate_sol',\n",
       "       'rougher.output.concentrate_au', 'rougher.output.recovery',\n",
       "       'rougher.output.tail_ag', 'rougher.output.tail_pb',\n",
       "       'rougher.output.tail_sol', 'rougher.output.tail_au',\n",
       "       'secondary_cleaner.output.tail_ag', 'secondary_cleaner.output.tail_pb',\n",
       "       'secondary_cleaner.output.tail_sol',\n",
       "       'secondary_cleaner.output.tail_au'],\n",
       "      dtype='object')"
      ]
     },
     "metadata": {},
     "output_type": "display_data"
    },
    {
     "data": {
      "text/plain": [
       "Index(['date', 'primary_cleaner.input.sulfate',\n",
       "       'primary_cleaner.input.depressant', 'primary_cleaner.input.feed_size',\n",
       "       'primary_cleaner.input.xanthate',\n",
       "       'primary_cleaner.state.floatbank8_a_air',\n",
       "       'primary_cleaner.state.floatbank8_a_level',\n",
       "       'primary_cleaner.state.floatbank8_b_air',\n",
       "       'primary_cleaner.state.floatbank8_b_level',\n",
       "       'primary_cleaner.state.floatbank8_c_air',\n",
       "       'primary_cleaner.state.floatbank8_c_level',\n",
       "       'primary_cleaner.state.floatbank8_d_air',\n",
       "       'primary_cleaner.state.floatbank8_d_level', 'rougher.input.feed_ag',\n",
       "       'rougher.input.feed_pb', 'rougher.input.feed_rate',\n",
       "       'rougher.input.feed_size', 'rougher.input.feed_sol',\n",
       "       'rougher.input.feed_au', 'rougher.input.floatbank10_sulfate',\n",
       "       'rougher.input.floatbank10_xanthate',\n",
       "       'rougher.input.floatbank11_sulfate',\n",
       "       'rougher.input.floatbank11_xanthate', 'rougher.state.floatbank10_a_air',\n",
       "       'rougher.state.floatbank10_a_level', 'rougher.state.floatbank10_b_air',\n",
       "       'rougher.state.floatbank10_b_level', 'rougher.state.floatbank10_c_air',\n",
       "       'rougher.state.floatbank10_c_level', 'rougher.state.floatbank10_d_air',\n",
       "       'rougher.state.floatbank10_d_level', 'rougher.state.floatbank10_e_air',\n",
       "       'rougher.state.floatbank10_e_level', 'rougher.state.floatbank10_f_air',\n",
       "       'rougher.state.floatbank10_f_level',\n",
       "       'secondary_cleaner.state.floatbank2_a_air',\n",
       "       'secondary_cleaner.state.floatbank2_a_level',\n",
       "       'secondary_cleaner.state.floatbank2_b_air',\n",
       "       'secondary_cleaner.state.floatbank2_b_level',\n",
       "       'secondary_cleaner.state.floatbank3_a_air',\n",
       "       'secondary_cleaner.state.floatbank3_a_level',\n",
       "       'secondary_cleaner.state.floatbank3_b_air',\n",
       "       'secondary_cleaner.state.floatbank3_b_level',\n",
       "       'secondary_cleaner.state.floatbank4_a_air',\n",
       "       'secondary_cleaner.state.floatbank4_a_level',\n",
       "       'secondary_cleaner.state.floatbank4_b_air',\n",
       "       'secondary_cleaner.state.floatbank4_b_level',\n",
       "       'secondary_cleaner.state.floatbank5_a_air',\n",
       "       'secondary_cleaner.state.floatbank5_a_level',\n",
       "       'secondary_cleaner.state.floatbank5_b_air',\n",
       "       'secondary_cleaner.state.floatbank5_b_level',\n",
       "       'secondary_cleaner.state.floatbank6_a_air',\n",
       "       'secondary_cleaner.state.floatbank6_a_level'],\n",
       "      dtype='object')"
      ]
     },
     "metadata": {},
     "output_type": "display_data"
    }
   ],
   "source": [
    "# Просмотр признаков, отсутствующих в тестовой выборке\n",
    "display(df.drop(df_test.columns, axis='columns').columns)\n",
    "\n",
    "# Просмотр признаков, присутствующих в тестовой выборке\n",
    "display(df_test.columns)"
   ]
  },
  {
   "cell_type": "markdown",
   "metadata": {},
   "source": [
    "Выводы.\n",
    "\n",
    "В тестовой выборке присутствуют параметры сырья (input) и параметры техпроцесса (state). Отсутствуют параметры продукта после каждого этапа переработки (output) и расчётные \n",
    "характеристики (calculation). Относительно этого есть два предположения:\n",
    "\n",
    "1. Для текущих \"входов\" (параметров input и state) соответствующие им выходные параметры продукта (output) становятся известны лишь спустя какое-то время, после предсказания модели.\n",
    "2. Расчётные характеристики (calculation) влияния на целевые признаки ('rougher.output.recovery', 'final.output.recovery') не оказывают. Cудя по названиям, расчётные характеристики рассчитывают через другие параметры типа input, state, output. Например, 'rougher.calculation.sulfate_to_au_concentrate', который отсутствует в тестовой выборке, скорее всего, рассчитывается через:\n",
    "    - rougher.input.floatbank10_sulfate,\n",
    "    - rougher.input.floatbank11_sulfate,\n",
    "    - rougher.state....."
   ]
  },
  {
   "cell_type": "markdown",
   "metadata": {},
   "source": [
    "### Предобработка данных"
   ]
  },
  {
   "cell_type": "code",
   "execution_count": 62,
   "metadata": {
    "scrolled": true
   },
   "outputs": [],
   "source": [
    "# Преобразование формата времени методом to_datatime()\n",
    "df['date'] = pd.to_datetime(df['date'], format='%Y-%m-%d %H:%M:%S')\n",
    "df_train['date'] = pd.to_datetime(df_train['date'], format='%Y-%m-%d %H:%M:%S')\n",
    "df_test['date'] = pd.to_datetime(df_test['date'], format='%Y-%m-%d %H:%M:%S')\n",
    "\n",
    "# df['date'].head()"
   ]
  },
  {
   "cell_type": "code",
   "execution_count": 63,
   "metadata": {},
   "outputs": [
    {
     "data": {
      "text/plain": [
       "0"
      ]
     },
     "execution_count": 63,
     "metadata": {},
     "output_type": "execute_result"
    }
   ],
   "source": [
    "# Проверим наличие дубликатов-строк в таблице с исходными данными\n",
    "df['date'].duplicated().sum()"
   ]
  },
  {
   "cell_type": "markdown",
   "metadata": {},
   "source": [
    "Дубликаты-строки отсутствуют.\n",
    "\n",
    "В описании проекта написано, что \"соседние по времени параметры часто похожи\". Временной ряд существенно отличается от простой выборки данных, так как при анализе учитывается взаимосвязь измерений со временем. Заполненим пропуски в таблицах с обучающими и тестовыми данными."
   ]
  },
  {
   "cell_type": "code",
   "execution_count": 64,
   "metadata": {},
   "outputs": [],
   "source": [
    "# Заполним пропуски в обучающей и тестовой выборках\n",
    "df_train.fillna(method='ffill', inplace=True)\n",
    "df_test.fillna(method='ffill', inplace=True)"
   ]
  },
  {
   "cell_type": "code",
   "execution_count": 65,
   "metadata": {},
   "outputs": [],
   "source": [
    "# Добавим столбцы с целевыми признаками в таблицу с тестовыми данными.\n",
    "for column in ['rougher.output.recovery', 'final.output.recovery']:\n",
    "    df_test[column] = (\n",
    "                       df.loc[df['date'].isin(df_test['date']), column]\n",
    "                                        .reset_index(drop=True)\n",
    "                      )"
   ]
  },
  {
   "cell_type": "code",
   "execution_count": 66,
   "metadata": {},
   "outputs": [],
   "source": [
    "# Удалим лишние столбцы из обучающей выборки.\n",
    "for column in df_train.columns:\n",
    "    if column not in df_test.columns:\n",
    "        df_train.drop(column, axis=1, inplace=True)"
   ]
  },
  {
   "cell_type": "code",
   "execution_count": 67,
   "metadata": {
    "scrolled": false
   },
   "outputs": [
    {
     "data": {
      "text/plain": [
       "(14149, 55)"
      ]
     },
     "metadata": {},
     "output_type": "display_data"
    },
    {
     "data": {
      "text/plain": [
       "(5290, 55)"
      ]
     },
     "metadata": {},
     "output_type": "display_data"
    }
   ],
   "source": [
    "# Контроль размеров обучающей и тестовой выборок\n",
    "display(df_train.shape, df_test.shape)"
   ]
  },
  {
   "cell_type": "markdown",
   "metadata": {},
   "source": [
    "## Анализ данных"
   ]
  },
  {
   "cell_type": "markdown",
   "metadata": {},
   "source": [
    "### Изменение концентрации металлов (Au, Ag, Pb) на различных этапах очистки."
   ]
  },
  {
   "cell_type": "code",
   "execution_count": 68,
   "metadata": {
    "scrolled": true
   },
   "outputs": [
    {
     "name": "stdout",
     "output_type": "stream",
     "text": [
      "Изменение концентраций элементов после флотации:\n",
      "au: 2.4\n",
      "ag: 1.4\n",
      "pb: 2.1\n",
      "Изменение концентраций элементов после первичной очистки:\n",
      "au: 1.6\n",
      "ag: 0.7\n",
      "pb: 1.3\n",
      "Изменение концентраций элементов после вторичной очистки:\n",
      "au: 1.4\n",
      "ag: 0.6\n",
      "pb: 1.0\n"
     ]
    }
   ],
   "source": [
    "print('Изменение концентраций элементов после флотации:')\n",
    "for element in ['au', 'ag', 'pb']:\n",
    "    ratio = df[f'rougher.output.concentrate_{element}'].mean() / df[f'rougher.input.feed_{element}'].mean()\n",
    "    print(f'{element}: {ratio:.1f}')\n",
    "\n",
    "print('Изменение концентраций элементов после первичной очистки:')\n",
    "for element in ['au', 'ag', 'pb']:\n",
    "    ratio = df[f'primary_cleaner.output.concentrate_{element}'].mean() / df[f'rougher.output.concentrate_{element}'].mean()\n",
    "    print(f'{element}: {ratio:.1f}')\n",
    "\n",
    "print('Изменение концентраций элементов после вторичной очистки:')\n",
    "for element in ['au', 'ag', 'pb']:\n",
    "    ratio = df[f'final.output.concentrate_{element}'].mean() / df[f'primary_cleaner.output.concentrate_{element}'].mean()\n",
    "    print(f'{element}: {ratio:.1f}')"
   ]
  },
  {
   "cell_type": "code",
   "execution_count": 69,
   "metadata": {},
   "outputs": [
    {
     "data": {
      "image/png": "[encoded data removed]",
      "text/plain": [
       "<Figure size 1080x216 with 3 Axes>"
      ]
     },
     "metadata": {
      "needs_background": "light"
     },
     "output_type": "display_data"
    }
   ],
   "source": [
    "# Построим гистограммы\n",
    "fig, ax = plt.subplots(1, 3, figsize=(15, 3))\n",
    "\n",
    "metalls = ['au', 'ag', 'pb']\n",
    "\n",
    "for i in range(3):\n",
    "    ax[i].hist(df[f'rougher.input.feed_{metalls[i]}'], density=True, \n",
    "               histtype='bar', label='rougher.input.feed',\n",
    "               alpha = 0.25)\n",
    "        \n",
    "    ax[i].hist(df[f'rougher.output.concentrate_{metalls[i]}'], density=True, \n",
    "               histtype='bar', label='rougher.output.concentrate',\n",
    "               alpha = 0.25)\n",
    "    \n",
    "    ax[i].hist(df[f'primary_cleaner.output.concentrate_{metalls[i]}'], density=True, \n",
    "               histtype='bar', label='primary_cleaner.output.concentrate',\n",
    "               alpha = 0.25)\n",
    "    \n",
    "    ax[i].hist(df[f'final.output.concentrate_{metalls[i]}'], density=True, \n",
    "               histtype='bar', label='final.output.concentrate',\n",
    "               alpha = 0.25)\n",
    "    \n",
    "    ax[i].legend()\n",
    "    ax[i].set_xlabel(f'Концентрация {metalls[i]}')\n",
    "    ax[i].grid()  \n",
    "\n",
    "ax[0].set_ylim([0, 0.4])    \n",
    "ax[1].set_ylim([0, 0.6])    \n",
    "ax[2].set_ylim([0, 0.7])    \n",
    "    \n",
    "plt.show()"
   ]
  },
  {
   "cell_type": "markdown",
   "metadata": {},
   "source": [
    "Выводы.\n",
    "1. После флотации концентрация металлов существенно повышается.\n",
    "2. В рамках первичной и вторичной очисток концентрация золота и свинца продолжает возрастать, но рост замедляется. Концентрация серебра падает."
   ]
  },
  {
   "cell_type": "markdown",
   "metadata": {},
   "source": [
    "### Сравнение распределения размеров гранул сырья в обучающей и тестовой выборках"
   ]
  },
  {
   "cell_type": "code",
   "execution_count": 70,
   "metadata": {
    "scrolled": true
   },
   "outputs": [
    {
     "data": {
      "image/png": "[encoded data removed]",
      "text/plain": [
       "<Figure size 432x288 with 1 Axes>"
      ]
     },
     "metadata": {
      "needs_background": "light"
     },
     "output_type": "display_data"
    }
   ],
   "source": [
    "# Построим гистограммы распределения размеров гранул сырья в обучающей и тестовой выборках\n",
    "\n",
    "ax = df_train.plot(\n",
    "                    kind='hist',\n",
    "                    y='rougher.input.feed_size',\n",
    "                    density=True,\n",
    "                    histtype='step',\n",
    "                    range=(30, 100),\n",
    "                    bins=10,\n",
    "                    linewidth=4,\n",
    "                    alpha=0.7,\n",
    "                    label='train',\n",
    "                    )\n",
    "df_test.plot(\n",
    "             kind='hist',\n",
    "             y='rougher.input.feed_size',\n",
    "             density=True,\n",
    "             histtype='step',\n",
    "             range=(30, 100),\n",
    "             bins=10,\n",
    "             linewidth=4,\n",
    "             alpha=0.7,\n",
    "             label='test',\n",
    "             ax=ax,\n",
    "             grid=True,\n",
    "             legend=True\n",
    "            )\n",
    "\n",
    "plt.show()"
   ]
  },
  {
   "cell_type": "code",
   "execution_count": 71,
   "metadata": {},
   "outputs": [
    {
     "data": {
      "text/plain": [
       "mean    60.239856\n",
       "std     23.005310\n",
       "Name: rougher.input.feed_size, dtype: float64"
      ]
     },
     "metadata": {},
     "output_type": "display_data"
    },
    {
     "data": {
      "text/plain": [
       "mean    55.952754\n",
       "std     19.080334\n",
       "Name: rougher.input.feed_size, dtype: float64"
      ]
     },
     "metadata": {},
     "output_type": "display_data"
    }
   ],
   "source": [
    "# Оценим параметры распределения размеров гранул сырья в обучающей и тестовой выборках\n",
    "display(df_train['rougher.input.feed_size'].agg(['mean', 'std']))\n",
    "display(df_test['rougher.input.feed_size'].agg(['mean', 'std']))"
   ]
  },
  {
   "cell_type": "markdown",
   "metadata": {},
   "source": [
    "Вывод. Распределения размеров гранул сырья в обучающей и тестовой выборках похожи."
   ]
  },
  {
   "cell_type": "markdown",
   "metadata": {},
   "source": [
    "### Исследование суммарной концентрации всех веществ на разных стадиях: в сырье, в черновом и финальном концентратах."
   ]
  },
  {
   "cell_type": "code",
   "execution_count": 72,
   "metadata": {},
   "outputs": [
    {
     "data": {
      "image/png": "[encoded data removed]",
      "text/plain": [
       "<Figure size 864x216 with 3 Axes>"
      ]
     },
     "metadata": {
      "needs_background": "light"
     },
     "output_type": "display_data"
    }
   ],
   "source": [
    "# Построим гистограммы\n",
    "fig, ax = plt.subplots(1, 3, figsize=(12, 3))\n",
    "\n",
    "ax[0].hist(df[['rougher.input.feed_au', 'rougher.input.feed_ag', \n",
    "               'rougher.input.feed_pb', 'rougher.input.feed_sol']].sum(axis=1), \n",
    "           density=True)\n",
    "ax[0].set_title('Сырьё')\n",
    "\n",
    "ax[1].hist(df[['rougher.output.concentrate_au', 'rougher.output.concentrate_ag', \n",
    "               'rougher.output.concentrate_pb', 'rougher.output.concentrate_sol']].sum(axis=1), \n",
    "           density=True)\n",
    "ax[1].set_title('Черновой концентрат')\n",
    "\n",
    "ax[2].hist(df[['final.output.concentrate_au', 'final.output.concentrate_ag', \n",
    "               'final.output.concentrate_pb', 'final.output.concentrate_sol']].sum(axis=1), \n",
    "           density=True)\n",
    "ax[2].set_title('Финальный концентрат')\n",
    "\n",
    "for i in range(3):\n",
    "    ax[i].set_xlabel('Суммарная концентрация')\n",
    "    ax[i].grid()  \n",
    "\n",
    "plt.show()"
   ]
  },
  {
   "cell_type": "markdown",
   "metadata": {},
   "source": [
    "Попробуем \"отсечь\" аномальные значения, из-за которых наблюдаются пропуски в гистограммах №2 и 3. Удалим соотвествующие строки из датасетов."
   ]
  },
  {
   "cell_type": "code",
   "execution_count": 73,
   "metadata": {},
   "outputs": [],
   "source": [
    "df = df.loc[(df[['rougher.output.concentrate_au', 'rougher.output.concentrate_ag', \n",
    "                'rougher.output.concentrate_pb', 'rougher.output.concentrate_sol']].sum(axis=1)>20) &\n",
    "            (df[['final.output.concentrate_au', 'final.output.concentrate_ag',\n",
    "                'final.output.concentrate_pb', 'final.output.concentrate_sol']].sum(axis=1)>20)]"
   ]
  },
  {
   "cell_type": "code",
   "execution_count": 74,
   "metadata": {
    "scrolled": true
   },
   "outputs": [
    {
     "data": {
      "image/png": "[encoded data removed]",
      "text/plain": [
       "<Figure size 864x216 with 3 Axes>"
      ]
     },
     "metadata": {
      "needs_background": "light"
     },
     "output_type": "display_data"
    }
   ],
   "source": [
    "# Построим новые гистограммы\n",
    "fig, ax = plt.subplots(1, 3, figsize=(12, 3))\n",
    "\n",
    "ax[0].hist(df[['rougher.input.feed_au', 'rougher.input.feed_ag', \n",
    "               'rougher.input.feed_pb', 'rougher.input.feed_sol']].sum(axis=1), \n",
    "           density=True)\n",
    "ax[0].set_title('Сырьё')\n",
    "\n",
    "ax[1].hist(df[['rougher.output.concentrate_au', 'rougher.output.concentrate_ag', \n",
    "               'rougher.output.concentrate_pb', 'rougher.output.concentrate_sol']].sum(axis=1), \n",
    "           density=True)\n",
    "ax[1].set_title('Черновой концентрат')\n",
    "\n",
    "ax[2].hist(df[['final.output.concentrate_au', 'final.output.concentrate_ag', \n",
    "               'final.output.concentrate_pb', 'final.output.concentrate_sol']].sum(axis=1), \n",
    "           density=True)\n",
    "ax[2].set_title('Финальный концентрат')\n",
    "\n",
    "for i in range(3):\n",
    "    ax[i].set_xlabel('Суммарная концентрация')\n",
    "    ax[i].grid()  \n",
    "\n",
    "plt.show()"
   ]
  },
  {
   "cell_type": "code",
   "execution_count": 75,
   "metadata": {},
   "outputs": [
    {
     "name": "stdout",
     "output_type": "stream",
     "text": [
      "(18895, 87) (13748, 55) (5147, 55)\n",
      "18895\n"
     ]
    }
   ],
   "source": [
    "# Удалим строки с аномальными значениями из обучающей и тестовой выборок.\n",
    "df_train = df_train.loc[df_train['date'].isin(df['date'])].reset_index(drop=True)\n",
    "df_test = df_test.loc[df_test['date'].isin(df['date'])].reset_index(drop=True)\n",
    "\n",
    "# Контроль объёмов выборок\n",
    "print(df.shape, df_train.shape, df_test.shape)\n",
    "print(df_train.shape[0] + df_test.shape[0])"
   ]
  },
  {
   "cell_type": "markdown",
   "metadata": {},
   "source": [
    "## Модель"
   ]
  },
  {
   "cell_type": "markdown",
   "metadata": {},
   "source": [
    "### Функция для вычисления итоговой метрики sMAPE"
   ]
  },
  {
   "cell_type": "code",
   "execution_count": 76,
   "metadata": {},
   "outputs": [],
   "source": [
    "# Создадим функуцию для вычисления sMAPE\n",
    "def f_smape(y, y_pred):\n",
    "    smape = (\n",
    "             2/len(y) *\n",
    "             sum(\n",
    "                 abs(y - y_pred) / \n",
    "                 (abs(y) + abs(y_pred))\n",
    "                 )\n",
    "            )\n",
    "    return smape\n",
    "\n",
    "# Создадим функуцию для итогового sMAPE\n",
    "def f_full_smape(smape_rough, smape_final):\n",
    "    full_smape = 0.25 * smape_rough + 0.75 * smape_final\n",
    "    return full_smape    "
   ]
  },
  {
   "cell_type": "markdown",
   "metadata": {},
   "source": [
    "### Создание моделей для прогнозирования эффективности обогащения концентратов"
   ]
  },
  {
   "cell_type": "code",
   "execution_count": 77,
   "metadata": {},
   "outputs": [],
   "source": [
    "# Создадим обучающую и тестовую выборки\n",
    "x_train = df_train.drop(['date', 'rougher.output.recovery', 'final.output.recovery'], axis=1)\n",
    "y_train = df_train[['rougher.output.recovery', 'final.output.recovery']]\n",
    "\n",
    "x_test = df_test.drop(['date', 'rougher.output.recovery', 'final.output.recovery'], axis=1)\n",
    "y_test = df_test[['rougher.output.recovery', 'final.output.recovery']]"
   ]
  },
  {
   "cell_type": "code",
   "execution_count": 78,
   "metadata": {},
   "outputs": [],
   "source": [
    "# Cоздадим модель масштабирования числовых признаков\n",
    "scaler = StandardScaler()\n",
    "scaler.fit(x_train)\n",
    "\n",
    "# При записи изменённых признаков в исходный датафрейм код может вызывать предупреждение SettingWithCopy. \n",
    "# Чтобы предупреждение не появлялось, в код добавим строчку:\n",
    "pd.options.mode.chained_assignment = None\n",
    "\n",
    "# Преобразуем выборки функцией transform().\n",
    "x_train = scaler.transform(x_train)\n",
    "x_test = scaler.transform(x_test)"
   ]
  },
  {
   "cell_type": "markdown",
   "metadata": {},
   "source": [
    "#### Константая (baseline) модель"
   ]
  },
  {
   "cell_type": "code",
   "execution_count": 79,
   "metadata": {},
   "outputs": [
    {
     "name": "stdout",
     "output_type": "stream",
     "text": [
      "sMAPE константных моделей на обучающей выборке:\n",
      "sMAPE константных моделей на обучающей выборке:\n"
     ]
    },
    {
     "data": {
      "text/plain": [
       "rougher    0.077653\n",
       "final      0.103884\n",
       "dtype: float64"
      ]
     },
     "metadata": {},
     "output_type": "display_data"
    },
    {
     "name": "stdout",
     "output_type": "stream",
     "text": [
      "Итоговое sMAPE константных моделей на обучающей выборке:  0.09732633493754952\n"
     ]
    }
   ],
   "source": [
    "# Инициализируем константную модель\n",
    "dummy_reg = DummyRegressor(strategy=\"median\")\n",
    "\n",
    "# Создадим метрику для оценки качества обученной модели\n",
    "smape_score = make_scorer(f_smape)\n",
    "\n",
    "# Создадим пустой датафрейм для записи оценок sMAPE\n",
    "smape = pd.DataFrame()\n",
    "\n",
    "# Оценим sMAPE с помощью кросс-валидации\n",
    "for stage in ['rougher', 'final']:\n",
    "    smape[stage] = cross_val_score(dummy_reg, \n",
    "                                   x_train, \n",
    "                                   y_train[f'{stage}.output.recovery'], \n",
    "                                   scoring=smape_score, \n",
    "                                   cv=5)\n",
    "\n",
    "    print('sMAPE константных моделей на обучающей выборке:')\n",
    "display(smape.mean())\n",
    "\n",
    "# Оценим итоговое sMAPE\n",
    "print('Итоговое sMAPE константных моделей на обучающей выборке: ',\n",
    "      f_full_smape(smape['rougher'].mean(), smape['final'].mean()))"
   ]
  },
  {
   "cell_type": "markdown",
   "metadata": {},
   "source": [
    "#### Линейная регрессия"
   ]
  },
  {
   "cell_type": "code",
   "execution_count": 80,
   "metadata": {},
   "outputs": [
    {
     "name": "stdout",
     "output_type": "stream",
     "text": [
      "sMAPE моделей линейной регрессии на обучающей выборке:\n"
     ]
    },
    {
     "data": {
      "text/plain": [
       "rougher    0.071717\n",
       "final      0.109424\n",
       "dtype: float64"
      ]
     },
     "metadata": {},
     "output_type": "display_data"
    },
    {
     "name": "stdout",
     "output_type": "stream",
     "text": [
      "Итоговое sMAPE моделей линейной регрессии на обучающей выборке:  0.09999723940429847\n"
     ]
    }
   ],
   "source": [
    "# Инициализируем модель линейной регрессии\n",
    "linear_reg = LinearRegression()\n",
    "\n",
    "# Оценим sMAPE с помощью кросс-валидации\n",
    "for stage in ['rougher', 'final']:\n",
    "    smape[stage] = cross_val_score(linear_reg, \n",
    "                                   x_train, \n",
    "                                   y_train[f'{stage}.output.recovery'], \n",
    "                                   scoring=smape_score, \n",
    "                                   cv=5)\n",
    "\n",
    "# Оценим sMAPE\n",
    "print('sMAPE моделей линейной регрессии на обучающей выборке:')\n",
    "display(smape.mean())\n",
    "\n",
    "# Оценим итоговое sMAPE\n",
    "print('Итоговое sMAPE моделей линейной регрессии на обучающей выборке: ',\n",
    "      f_full_smape(smape['rougher'].mean(), smape['final'].mean()))"
   ]
  },
  {
   "cell_type": "markdown",
   "metadata": {},
   "source": [
    "Вывод. Качество прогнозирования с помощью линейной регрессии находится на уровне константной модели."
   ]
  },
  {
   "cell_type": "markdown",
   "metadata": {},
   "source": [
    "#### Случайный лес"
   ]
  },
  {
   "cell_type": "code",
   "execution_count": 81,
   "metadata": {},
   "outputs": [],
   "source": [
    "# Варьируемые гиперпараметры:\n",
    "# n_estimators – число деревьев в лесу;\n",
    "# max_depth – глубина дерева.\n",
    "\n",
    "hyperparameters = { 'n_estimators': range (10, 51, 10),\n",
    "                    'max_depth': range (1,11, 2) }\n",
    "\n",
    "# Инициализируем модель случайного леса\n",
    "model_forest = RandomForestRegressor(random_state=12345)\n",
    "\n",
    "# Создадим метрику для оценки качества обученной модели\n",
    "smape_score = make_scorer(f_smape, greater_is_better=False)\n",
    "\n",
    "# Создадим пустой Series для записи оценок sMAPE\n",
    "smape = pd.Series()\n",
    "\n",
    "grid = GridSearchCV(model_forest, hyperparameters, scoring=smape_score, cv=5)"
   ]
  },
  {
   "cell_type": "code",
   "execution_count": 82,
   "metadata": {
    "scrolled": true
   },
   "outputs": [
    {
     "name": "stdout",
     "output_type": "stream",
     "text": [
      "Гиперпараметры лучшей модели случайного леса для 'rougher.output.recovery':  {'max_depth': 3, 'n_estimators': 10} \n",
      "\n",
      "Гиперпараметры лучшей модели случайного леса для 'final.output.recovery':  {'max_depth': 3, 'n_estimators': 10} \n",
      "\n",
      "sMAPE моделей случайного леса на обучающей выборке:\n"
     ]
    },
    {
     "data": {
      "text/plain": [
       "rougher    0.063824\n",
       "final      0.091667\n",
       "dtype: float64"
      ]
     },
     "metadata": {},
     "output_type": "display_data"
    },
    {
     "name": "stdout",
     "output_type": "stream",
     "text": [
      "Итоговое sMAPE моделей случайного леса на обучающей выборке:  0.08470587204361746 \n",
      "\n"
     ]
    }
   ],
   "source": [
    "# %%script false --no-raise-error\n",
    "\n",
    "# Оценим sMAPE с помощью кросс-валидации\n",
    "for stage in ['rougher', 'final']:\n",
    "    \n",
    "    # Запускаем обучение модели случайного леса с использованием кросс-валидации\n",
    "    grid.fit(x_train, y_train[f'{stage}.output.recovery'])\n",
    "\n",
    "    # Определим лучшие гиперпараметры модели\n",
    "    print(f\"Гиперпараметры лучшей модели случайного леса для '{stage}.output.recovery': \", \n",
    "          grid.best_params_, '\\n')\n",
    "\n",
    "    # Оценим sMAPE моделей\n",
    "    smape[stage] = abs(grid.best_score_)\n",
    "    \n",
    "print('sMAPE моделей случайного леса на обучающей выборке:')\n",
    "display(smape)\n",
    "\n",
    "# Оценим итоговое sMAPE\n",
    "print('Итоговое sMAPE моделей случайного леса на обучающей выборке: ', \n",
    "      f_full_smape(smape['rougher'], smape['final']), '\\n')"
   ]
  },
  {
   "cell_type": "markdown",
   "metadata": {},
   "source": [
    "Вывод. Качество прогнозирования с помощью моделей случайного леса оказалось самым высоким, что и следовало ожидать. \n",
    "- Гиперпараметры модели случайного леса для 'rougher.output.recovery': {'max_depth': 3, 'n_estimators': 10}\n",
    "- Гиперпараметры модели случайного леса для 'final.output.recovery': {'max_depth': 3, 'n_estimators': 10}. \n",
    "- Итоговое sMAPE модели линейной регрессии на обучающей выборке: 0.085"
   ]
  },
  {
   "cell_type": "markdown",
   "metadata": {},
   "source": [
    "#### Проверка лучших моделей на тестовой выборке"
   ]
  },
  {
   "cell_type": "code",
   "execution_count": 83,
   "metadata": {
    "scrolled": true
   },
   "outputs": [
    {
     "name": "stdout",
     "output_type": "stream",
     "text": [
      "sMAPE моделей случайного леса на тестовой выборке:\n"
     ]
    },
    {
     "data": {
      "text/plain": [
       "rougher    0.049195\n",
       "final      0.076978\n",
       "dtype: float64"
      ]
     },
     "metadata": {},
     "output_type": "display_data"
    },
    {
     "name": "stdout",
     "output_type": "stream",
     "text": [
      "Итоговое sMAPE моделей случайного леса на тестовой выборке:  0.07003200368425082\n"
     ]
    }
   ],
   "source": [
    "# Инициализируем модели случайного леса с подобранными гиперпараметрами\n",
    "model_rougher = RandomForestRegressor(random_state=12345, max_depth=3, n_estimators=10) \n",
    "model_final = RandomForestRegressor(random_state=12345, max_depth=3, n_estimators=10) \n",
    "\n",
    "# Обучим модели\n",
    "model_rougher.fit(x_train, y_train['rougher.output.recovery'])\n",
    "model_final.fit(x_train, y_train['final.output.recovery'])\n",
    "\n",
    "# Получим предсказания моделей на тестовой выборке\n",
    "y_pred = pd.DataFrame()\n",
    "y_pred['rougher'] = model_rougher.predict(x_test) \n",
    "y_pred['final'] = model_final.predict(x_test) \n",
    "\n",
    "# Оценим sMAPE полученных моделей\n",
    "for stage in ['rougher', 'final']:\n",
    "    smape[stage] = f_smape(y_test[f'{stage}.output.recovery'], y_pred[f'{stage}'])\n",
    "\n",
    "print('sMAPE моделей случайного леса на тестовой выборке:')\n",
    "display(smape)\n",
    "\n",
    "# Оценим итоговое sMAPE\n",
    "print('Итоговое sMAPE моделей случайного леса на тестовой выборке: ', \n",
    "      f_full_smape(smape['rougher'], smape['final']))"
   ]
  },
  {
   "cell_type": "markdown",
   "metadata": {},
   "source": [
    "Вывод. Итоговое sMAPE моделей случайного леса на тестовой выборке: 0,07 или 7%."
   ]
  },
  {
   "cell_type": "markdown",
   "metadata": {},
   "source": [
    "## Чек-лист готовности проекта"
   ]
  },
  {
   "cell_type": "markdown",
   "metadata": {},
   "source": [
    "- [x]  Jupyter Notebook открыт\n",
    "- [x]  Весь код выполняется без ошибок\n",
    "- [x]  Ячейки с кодом расположены в порядке выполнения\n",
    "- [x]  Выполнен шаг 1: данные подготовлены\n",
    "    - [x]  Проверена формула вычисления эффективности обогащения\n",
    "    - [x]  Проанализированы признаки, недоступные в тестовой выборке\n",
    "    - [x]  Проведена предобработка данных\n",
    "- [x]  Выполнен шаг 2: данные проанализированы\n",
    "    - [x]  Исследовано изменение концентрации элементов на каждом этапе\n",
    "    - [x]  Проанализированы распределения размеров гранул на обучающей и тестовой выборках\n",
    "    - [x]  Исследованы суммарные концентрации\n",
    "- [x]  Выполнен шаг 3: построена модель прогнозирования\n",
    "    - [x]  Написана функция для вычисления итогового *sMAPE*\n",
    "    - [x]  Обучено и проверено несколько моделей\n",
    "    - [x]  Выбрана лучшая модель, её качество проверено на тестовой выборке"
   ]
  }
 ],
 "metadata": {
  "ExecuteTimeLog": [
   {
    "duration": 1130,
    "start_time": "2022-03-07T12:43:49.962Z"
   },
   {
    "duration": 711,
    "start_time": "2022-03-07T12:47:10.294Z"
   },
   {
    "duration": 731,
    "start_time": "2022-03-07T13:54:31.531Z"
   },
   {
    "duration": 675,
    "start_time": "2022-03-07T13:55:19.806Z"
   },
   {
    "duration": 652,
    "start_time": "2022-03-07T13:55:35.721Z"
   },
   {
    "duration": 698,
    "start_time": "2022-03-07T14:07:14.175Z"
   },
   {
    "duration": 3,
    "start_time": "2022-03-07T14:08:24.402Z"
   },
   {
    "duration": 751,
    "start_time": "2022-03-07T14:08:28.886Z"
   },
   {
    "duration": 711,
    "start_time": "2022-03-07T14:08:57.869Z"
   },
   {
    "duration": 685,
    "start_time": "2022-03-07T14:09:08.323Z"
   },
   {
    "duration": 661,
    "start_time": "2022-03-07T14:10:53.423Z"
   },
   {
    "duration": 91,
    "start_time": "2022-03-07T14:29:13.436Z"
   },
   {
    "duration": 3661,
    "start_time": "2022-03-07T14:29:32.539Z"
   },
   {
    "duration": 76,
    "start_time": "2022-03-07T14:29:40.734Z"
   },
   {
    "duration": 78,
    "start_time": "2022-03-07T14:29:53.838Z"
   },
   {
    "duration": 5,
    "start_time": "2022-03-07T14:32:14.134Z"
   },
   {
    "duration": 58,
    "start_time": "2022-03-07T14:37:56.340Z"
   },
   {
    "duration": 7,
    "start_time": "2022-03-07T14:42:02.988Z"
   },
   {
    "duration": 7,
    "start_time": "2022-03-07T14:42:17.092Z"
   },
   {
    "duration": 10,
    "start_time": "2022-03-07T14:43:18.607Z"
   },
   {
    "duration": 198,
    "start_time": "2022-03-07T14:43:33.366Z"
   },
   {
    "duration": 10,
    "start_time": "2022-03-07T14:43:44.099Z"
   },
   {
    "duration": 13,
    "start_time": "2022-03-07T14:44:10.740Z"
   },
   {
    "duration": 84,
    "start_time": "2022-03-07T14:52:35.861Z"
   },
   {
    "duration": 6,
    "start_time": "2022-03-07T14:52:45.894Z"
   },
   {
    "duration": 78,
    "start_time": "2022-03-07T14:53:45.998Z"
   },
   {
    "duration": 5,
    "start_time": "2022-03-07T14:54:10.092Z"
   },
   {
    "duration": 62,
    "start_time": "2022-03-07T14:56:24.028Z"
   },
   {
    "duration": 78,
    "start_time": "2022-03-07T14:56:38.997Z"
   },
   {
    "duration": 85,
    "start_time": "2022-03-07T14:57:23.280Z"
   },
   {
    "duration": 271,
    "start_time": "2022-03-07T14:58:09.555Z"
   },
   {
    "duration": 83,
    "start_time": "2022-03-07T14:58:24.912Z"
   },
   {
    "duration": 75,
    "start_time": "2022-03-07T14:58:31.102Z"
   },
   {
    "duration": 66,
    "start_time": "2022-03-07T14:58:36.386Z"
   },
   {
    "duration": 9,
    "start_time": "2022-03-07T14:59:28.140Z"
   },
   {
    "duration": 200,
    "start_time": "2022-03-07T15:00:43.288Z"
   },
   {
    "duration": 5,
    "start_time": "2022-03-07T15:00:49.243Z"
   },
   {
    "duration": 11,
    "start_time": "2022-03-07T15:01:05.523Z"
   },
   {
    "duration": 10,
    "start_time": "2022-03-07T15:01:15.914Z"
   },
   {
    "duration": 11,
    "start_time": "2022-03-07T15:01:30.007Z"
   },
   {
    "duration": 10,
    "start_time": "2022-03-07T15:01:33.319Z"
   },
   {
    "duration": 10,
    "start_time": "2022-03-07T15:02:22.167Z"
   },
   {
    "duration": 10,
    "start_time": "2022-03-07T15:03:28.726Z"
   },
   {
    "duration": 10,
    "start_time": "2022-03-07T15:03:37.962Z"
   },
   {
    "duration": 6,
    "start_time": "2022-03-07T15:06:56.634Z"
   },
   {
    "duration": 70,
    "start_time": "2022-03-07T15:07:09.061Z"
   },
   {
    "duration": 7,
    "start_time": "2022-03-07T15:07:40.235Z"
   },
   {
    "duration": 7,
    "start_time": "2022-03-07T15:07:53.549Z"
   },
   {
    "duration": 3394,
    "start_time": "2022-03-07T15:08:55.594Z"
   },
   {
    "duration": 8,
    "start_time": "2022-03-07T15:09:00.884Z"
   },
   {
    "duration": 6,
    "start_time": "2022-03-07T15:09:27.170Z"
   },
   {
    "duration": 6,
    "start_time": "2022-03-07T15:11:10.808Z"
   },
   {
    "duration": 196,
    "start_time": "2022-03-07T15:14:28.583Z"
   },
   {
    "duration": 178,
    "start_time": "2022-03-07T15:15:00.379Z"
   },
   {
    "duration": 200,
    "start_time": "2022-03-07T15:15:06.137Z"
   },
   {
    "duration": 208,
    "start_time": "2022-03-07T15:15:29.649Z"
   },
   {
    "duration": 203,
    "start_time": "2022-03-07T15:18:48.726Z"
   },
   {
    "duration": 62,
    "start_time": "2022-03-07T17:03:15.107Z"
   },
   {
    "duration": 209,
    "start_time": "2022-03-07T17:03:28.252Z"
   },
   {
    "duration": 7,
    "start_time": "2022-03-07T17:30:00.492Z"
   },
   {
    "duration": 6,
    "start_time": "2022-03-07T17:30:08.515Z"
   },
   {
    "duration": 6,
    "start_time": "2022-03-07T17:30:11.989Z"
   },
   {
    "duration": 6,
    "start_time": "2022-03-07T17:30:19.220Z"
   },
   {
    "duration": 11,
    "start_time": "2022-03-07T17:31:20.989Z"
   },
   {
    "duration": 9,
    "start_time": "2022-03-07T17:31:25.931Z"
   },
   {
    "duration": 10,
    "start_time": "2022-03-07T17:31:30.587Z"
   },
   {
    "duration": 7,
    "start_time": "2022-03-07T17:32:11.868Z"
   },
   {
    "duration": 211,
    "start_time": "2022-03-07T17:35:37.078Z"
   },
   {
    "duration": 73,
    "start_time": "2022-03-07T17:36:28.065Z"
   },
   {
    "duration": 4,
    "start_time": "2022-03-07T17:36:34.049Z"
   },
   {
    "duration": 376,
    "start_time": "2022-03-07T17:37:09.635Z"
   },
   {
    "duration": 3,
    "start_time": "2022-03-07T17:39:46.786Z"
   },
   {
    "duration": 383,
    "start_time": "2022-03-07T17:39:48.820Z"
   },
   {
    "duration": 184,
    "start_time": "2022-03-07T17:41:29.860Z"
   },
   {
    "duration": 192,
    "start_time": "2022-03-07T17:41:57.444Z"
   },
   {
    "duration": 10,
    "start_time": "2022-03-07T17:42:16.346Z"
   },
   {
    "duration": 69,
    "start_time": "2022-03-07T17:42:33.702Z"
   },
   {
    "duration": 12,
    "start_time": "2022-03-07T17:42:37.589Z"
   },
   {
    "duration": 12,
    "start_time": "2022-03-07T17:43:12.477Z"
   },
   {
    "duration": 14,
    "start_time": "2022-03-07T17:43:21.175Z"
   },
   {
    "duration": 12,
    "start_time": "2022-03-07T17:43:56.573Z"
   },
   {
    "duration": 14,
    "start_time": "2022-03-07T17:44:00.475Z"
   },
   {
    "duration": 13,
    "start_time": "2022-03-07T17:44:10.254Z"
   },
   {
    "duration": 4,
    "start_time": "2022-03-07T17:45:25.579Z"
   },
   {
    "duration": 391,
    "start_time": "2022-03-07T17:45:31.350Z"
   },
   {
    "duration": 9,
    "start_time": "2022-03-07T17:45:54.138Z"
   },
   {
    "duration": 78,
    "start_time": "2022-03-07T17:46:31.404Z"
   },
   {
    "duration": 7,
    "start_time": "2022-03-07T17:46:54.512Z"
   },
   {
    "duration": 199,
    "start_time": "2022-03-07T17:47:23.972Z"
   },
   {
    "duration": 6,
    "start_time": "2022-03-07T17:47:53.097Z"
   },
   {
    "duration": 63,
    "start_time": "2022-03-07T17:48:11.238Z"
   },
   {
    "duration": 8,
    "start_time": "2022-03-07T17:48:15.970Z"
   },
   {
    "duration": 6,
    "start_time": "2022-03-07T17:49:03.878Z"
   },
   {
    "duration": 9,
    "start_time": "2022-03-07T17:49:11.417Z"
   },
   {
    "duration": 65,
    "start_time": "2022-03-07T17:49:21.537Z"
   },
   {
    "duration": 1247,
    "start_time": "2022-03-07T17:49:27.436Z"
   },
   {
    "duration": 188,
    "start_time": "2022-03-07T17:50:53.047Z"
   },
   {
    "duration": 190,
    "start_time": "2022-03-07T17:51:04.545Z"
   },
   {
    "duration": 7,
    "start_time": "2022-03-07T17:51:20.479Z"
   },
   {
    "duration": 6,
    "start_time": "2022-03-07T17:51:30.444Z"
   },
   {
    "duration": 5,
    "start_time": "2022-03-07T17:51:36.294Z"
   },
   {
    "duration": 6,
    "start_time": "2022-03-07T17:51:44.080Z"
   },
   {
    "duration": 7,
    "start_time": "2022-03-07T17:52:00.849Z"
   },
   {
    "duration": 9,
    "start_time": "2022-03-07T17:52:07.077Z"
   },
   {
    "duration": 209,
    "start_time": "2022-03-07T17:52:27.487Z"
   },
   {
    "duration": 8,
    "start_time": "2022-03-07T17:52:47.493Z"
   },
   {
    "duration": 73,
    "start_time": "2022-03-07T17:56:12.133Z"
   },
   {
    "duration": 8,
    "start_time": "2022-03-07T17:56:19.733Z"
   },
   {
    "duration": 198,
    "start_time": "2022-03-07T17:56:34.854Z"
   },
   {
    "duration": 74,
    "start_time": "2022-03-07T18:00:39.508Z"
   },
   {
    "duration": 187,
    "start_time": "2022-03-07T18:00:43.510Z"
   },
   {
    "duration": 206,
    "start_time": "2022-03-07T18:00:57.749Z"
   },
   {
    "duration": 192,
    "start_time": "2022-03-07T18:05:10.124Z"
   },
   {
    "duration": 7,
    "start_time": "2022-03-07T18:05:13.998Z"
   },
   {
    "duration": 202,
    "start_time": "2022-03-07T18:05:36.430Z"
   },
   {
    "duration": 185,
    "start_time": "2022-03-07T18:05:46.328Z"
   },
   {
    "duration": 196,
    "start_time": "2022-03-07T18:05:58.844Z"
   },
   {
    "duration": 38,
    "start_time": "2022-03-07T18:08:04.919Z"
   },
   {
    "duration": 73,
    "start_time": "2022-03-07T18:08:26.108Z"
   },
   {
    "duration": 34,
    "start_time": "2022-03-07T18:08:35.779Z"
   },
   {
    "duration": 40,
    "start_time": "2022-03-07T18:08:54.268Z"
   },
   {
    "duration": 196,
    "start_time": "2022-03-07T18:09:19.950Z"
   },
   {
    "duration": 33,
    "start_time": "2022-03-07T18:09:23.883Z"
   },
   {
    "duration": 202,
    "start_time": "2022-03-07T18:09:36.278Z"
   },
   {
    "duration": 31,
    "start_time": "2022-03-07T18:09:47.667Z"
   },
   {
    "duration": 31,
    "start_time": "2022-03-07T18:10:13.589Z"
   },
   {
    "duration": 185,
    "start_time": "2022-03-07T18:10:26.732Z"
   },
   {
    "duration": 194,
    "start_time": "2022-03-07T18:10:41.112Z"
   },
   {
    "duration": 204,
    "start_time": "2022-03-07T18:12:07.033Z"
   },
   {
    "duration": 192,
    "start_time": "2022-03-07T18:12:29.814Z"
   },
   {
    "duration": 46,
    "start_time": "2022-03-07T18:12:49.079Z"
   },
   {
    "duration": 208,
    "start_time": "2022-03-07T18:12:56.911Z"
   },
   {
    "duration": 44,
    "start_time": "2022-03-07T18:13:16.737Z"
   },
   {
    "duration": 198,
    "start_time": "2022-03-07T18:16:22.958Z"
   },
   {
    "duration": 7,
    "start_time": "2022-03-07T18:16:28.602Z"
   },
   {
    "duration": 190,
    "start_time": "2022-03-07T18:16:50.674Z"
   },
   {
    "duration": 248,
    "start_time": "2022-03-07T18:16:54.277Z"
   },
   {
    "duration": 9,
    "start_time": "2022-03-07T18:16:58.432Z"
   },
   {
    "duration": 8,
    "start_time": "2022-03-07T18:17:29.644Z"
   },
   {
    "duration": 7,
    "start_time": "2022-03-07T18:17:53.894Z"
   },
   {
    "duration": 9,
    "start_time": "2022-03-07T18:18:13.682Z"
   },
   {
    "duration": 211,
    "start_time": "2022-03-07T18:19:05.141Z"
   },
   {
    "duration": 210,
    "start_time": "2022-03-07T18:19:12.592Z"
   },
   {
    "duration": 8,
    "start_time": "2022-03-07T18:19:45.586Z"
   },
   {
    "duration": 194,
    "start_time": "2022-03-07T18:20:01.242Z"
   },
   {
    "duration": 184,
    "start_time": "2022-03-07T18:21:25.544Z"
   },
   {
    "duration": 40,
    "start_time": "2022-03-07T18:21:34.103Z"
   },
   {
    "duration": 6,
    "start_time": "2022-03-07T18:41:11.221Z"
   },
   {
    "duration": 8,
    "start_time": "2022-03-07T18:41:20.749Z"
   },
   {
    "duration": 198,
    "start_time": "2022-03-07T18:43:06.984Z"
   },
   {
    "duration": 202,
    "start_time": "2022-03-07T18:43:27.322Z"
   },
   {
    "duration": 5,
    "start_time": "2022-03-07T18:46:03.671Z"
   },
   {
    "duration": 403,
    "start_time": "2022-03-07T18:46:12.867Z"
   },
   {
    "duration": 44,
    "start_time": "2022-03-07T18:47:46.023Z"
   },
   {
    "duration": 40,
    "start_time": "2022-03-07T18:48:10.505Z"
   },
   {
    "duration": 239,
    "start_time": "2022-03-07T18:48:37.669Z"
   },
   {
    "duration": 235,
    "start_time": "2022-03-07T18:49:17.681Z"
   },
   {
    "duration": 40,
    "start_time": "2022-03-07T18:49:36.939Z"
   },
   {
    "duration": 38,
    "start_time": "2022-03-07T18:49:40.301Z"
   },
   {
    "duration": 67,
    "start_time": "2022-03-07T18:50:09.047Z"
   },
   {
    "duration": 61,
    "start_time": "2022-03-07T18:50:28.471Z"
   },
   {
    "duration": 40,
    "start_time": "2022-03-07T18:50:36.063Z"
   },
   {
    "duration": 41,
    "start_time": "2022-03-07T18:50:59.514Z"
   },
   {
    "duration": 44,
    "start_time": "2022-03-07T18:51:23.662Z"
   },
   {
    "duration": 703,
    "start_time": "2022-03-07T18:52:56.595Z"
   },
   {
    "duration": 44,
    "start_time": "2022-03-07T18:53:23.179Z"
   },
   {
    "duration": 44,
    "start_time": "2022-03-07T18:53:33.174Z"
   },
   {
    "duration": 41,
    "start_time": "2022-03-07T18:53:43.699Z"
   },
   {
    "duration": 43,
    "start_time": "2022-03-07T18:54:12.323Z"
   },
   {
    "duration": 248,
    "start_time": "2022-03-07T18:57:22.894Z"
   },
   {
    "duration": 235,
    "start_time": "2022-03-07T18:57:50.058Z"
   },
   {
    "duration": 242,
    "start_time": "2022-03-07T18:58:19.858Z"
   },
   {
    "duration": 44,
    "start_time": "2022-03-07T18:58:23.414Z"
   },
   {
    "duration": 247,
    "start_time": "2022-03-07T18:58:26.948Z"
   },
   {
    "duration": 4,
    "start_time": "2022-03-07T18:59:52.221Z"
   },
   {
    "duration": 724,
    "start_time": "2022-03-07T18:59:52.230Z"
   },
   {
    "duration": 60,
    "start_time": "2022-03-07T18:59:52.956Z"
   },
   {
    "duration": 17,
    "start_time": "2022-03-07T18:59:53.018Z"
   },
   {
    "duration": 23,
    "start_time": "2022-03-07T18:59:53.037Z"
   },
   {
    "duration": 10,
    "start_time": "2022-03-07T18:59:53.061Z"
   },
   {
    "duration": 6,
    "start_time": "2022-03-07T18:59:53.073Z"
   },
   {
    "duration": 228,
    "start_time": "2022-03-07T18:59:53.081Z"
   },
   {
    "duration": 7,
    "start_time": "2022-03-07T18:59:53.310Z"
   },
   {
    "duration": 3,
    "start_time": "2022-03-07T18:59:53.320Z"
   },
   {
    "duration": 9,
    "start_time": "2022-03-07T18:59:53.324Z"
   },
   {
    "duration": 61,
    "start_time": "2022-03-07T18:59:53.335Z"
   },
   {
    "duration": 11,
    "start_time": "2022-03-07T19:00:37.217Z"
   },
   {
    "duration": 43,
    "start_time": "2022-03-07T19:04:07.114Z"
   },
   {
    "duration": 59,
    "start_time": "2022-03-07T19:04:34.567Z"
   },
   {
    "duration": 54,
    "start_time": "2022-03-07T19:04:55.086Z"
   },
   {
    "duration": 66,
    "start_time": "2022-03-07T19:04:57.719Z"
   },
   {
    "duration": 70,
    "start_time": "2022-03-07T19:05:20.813Z"
   },
   {
    "duration": 48,
    "start_time": "2022-03-07T19:05:28.571Z"
   },
   {
    "duration": 42,
    "start_time": "2022-03-07T19:05:33.018Z"
   },
   {
    "duration": 277,
    "start_time": "2022-03-07T19:10:11.215Z"
   },
   {
    "duration": 6,
    "start_time": "2022-03-07T19:11:24.067Z"
   },
   {
    "duration": 5,
    "start_time": "2022-03-07T19:11:42.289Z"
   },
   {
    "duration": 5,
    "start_time": "2022-03-07T19:12:01.722Z"
   },
   {
    "duration": 6,
    "start_time": "2022-03-07T19:12:25.000Z"
   },
   {
    "duration": 234,
    "start_time": "2022-03-07T19:13:37.893Z"
   },
   {
    "duration": 42,
    "start_time": "2022-03-07T19:13:41.467Z"
   },
   {
    "duration": 237,
    "start_time": "2022-03-07T19:13:49.284Z"
   },
   {
    "duration": 45,
    "start_time": "2022-03-07T19:14:01.583Z"
   },
   {
    "duration": 245,
    "start_time": "2022-03-07T19:14:25.629Z"
   },
   {
    "duration": 48,
    "start_time": "2022-03-07T19:15:07.152Z"
   },
   {
    "duration": 269,
    "start_time": "2022-03-07T19:15:12.750Z"
   },
   {
    "duration": 5,
    "start_time": "2022-03-07T19:15:17.111Z"
   },
   {
    "duration": 48,
    "start_time": "2022-03-07T19:21:02.291Z"
   },
   {
    "duration": 217,
    "start_time": "2022-03-07T19:21:11.670Z"
   },
   {
    "duration": 50,
    "start_time": "2022-03-07T19:21:58.446Z"
   },
   {
    "duration": 290,
    "start_time": "2022-03-07T19:22:00.618Z"
   },
   {
    "duration": 51,
    "start_time": "2022-03-07T19:22:07.465Z"
   },
   {
    "duration": 272,
    "start_time": "2022-03-07T19:22:13.097Z"
   },
   {
    "duration": 6,
    "start_time": "2022-03-07T19:22:20.389Z"
   },
   {
    "duration": 5,
    "start_time": "2022-03-07T19:22:22.251Z"
   },
   {
    "duration": 4,
    "start_time": "2022-03-07T19:22:48.208Z"
   },
   {
    "duration": 5,
    "start_time": "2022-03-07T19:23:05.043Z"
   },
   {
    "duration": 51,
    "start_time": "2022-03-07T19:23:18.968Z"
   },
   {
    "duration": 279,
    "start_time": "2022-03-07T19:23:21.279Z"
   },
   {
    "duration": 5,
    "start_time": "2022-03-07T19:23:41.313Z"
   },
   {
    "duration": 4,
    "start_time": "2022-03-07T19:24:42.664Z"
   },
   {
    "duration": 720,
    "start_time": "2022-03-07T19:24:42.674Z"
   },
   {
    "duration": 65,
    "start_time": "2022-03-07T19:24:43.396Z"
   },
   {
    "duration": 17,
    "start_time": "2022-03-07T19:24:43.464Z"
   },
   {
    "duration": 4,
    "start_time": "2022-03-07T19:24:43.483Z"
   },
   {
    "duration": 10,
    "start_time": "2022-03-07T19:24:43.489Z"
   },
   {
    "duration": 6,
    "start_time": "2022-03-07T19:24:43.501Z"
   },
   {
    "duration": 5,
    "start_time": "2022-03-07T19:24:43.509Z"
   },
   {
    "duration": 45,
    "start_time": "2022-03-07T19:24:43.515Z"
   },
   {
    "duration": 3,
    "start_time": "2022-03-07T19:24:43.563Z"
   },
   {
    "duration": 9,
    "start_time": "2022-03-07T19:24:43.568Z"
   },
   {
    "duration": 40,
    "start_time": "2022-03-07T19:24:43.579Z"
   },
   {
    "duration": 5,
    "start_time": "2022-03-07T19:24:43.621Z"
   },
   {
    "duration": 74,
    "start_time": "2022-03-07T19:24:43.628Z"
   },
   {
    "duration": 280,
    "start_time": "2022-03-07T19:24:43.704Z"
   },
   {
    "duration": 6,
    "start_time": "2022-03-07T19:24:43.985Z"
   },
   {
    "duration": 5,
    "start_time": "2022-03-07T19:25:20.793Z"
   },
   {
    "duration": 16,
    "start_time": "2022-03-07T19:28:28.113Z"
   },
   {
    "duration": 299,
    "start_time": "2022-03-07T19:28:31.104Z"
   },
   {
    "duration": 16,
    "start_time": "2022-03-07T19:28:40.025Z"
   },
   {
    "duration": 16,
    "start_time": "2022-03-07T19:28:42.883Z"
   },
   {
    "duration": 297,
    "start_time": "2022-03-07T19:28:43.745Z"
   },
   {
    "duration": 276,
    "start_time": "2022-03-07T19:28:46.514Z"
   },
   {
    "duration": 16,
    "start_time": "2022-03-07T19:28:53.236Z"
   },
   {
    "duration": 296,
    "start_time": "2022-03-07T19:28:55.659Z"
   },
   {
    "duration": 16,
    "start_time": "2022-03-07T19:28:59.652Z"
   },
   {
    "duration": 352,
    "start_time": "2022-03-07T19:29:01.709Z"
   },
   {
    "duration": 17,
    "start_time": "2022-03-07T19:29:16.457Z"
   },
   {
    "duration": 296,
    "start_time": "2022-03-07T19:29:18.747Z"
   },
   {
    "duration": 16,
    "start_time": "2022-03-07T19:29:26.225Z"
   },
   {
    "duration": 281,
    "start_time": "2022-03-07T19:29:28.318Z"
   },
   {
    "duration": 15,
    "start_time": "2022-03-07T19:29:38.483Z"
   },
   {
    "duration": 288,
    "start_time": "2022-03-07T19:29:40.576Z"
   },
   {
    "duration": 4,
    "start_time": "2022-03-07T19:30:08.946Z"
   },
   {
    "duration": 711,
    "start_time": "2022-03-07T19:30:08.952Z"
   },
   {
    "duration": 59,
    "start_time": "2022-03-07T19:30:09.665Z"
   },
   {
    "duration": 16,
    "start_time": "2022-03-07T19:30:09.726Z"
   },
   {
    "duration": 5,
    "start_time": "2022-03-07T19:30:09.759Z"
   },
   {
    "duration": 11,
    "start_time": "2022-03-07T19:30:09.766Z"
   },
   {
    "duration": 7,
    "start_time": "2022-03-07T19:30:09.778Z"
   },
   {
    "duration": 15,
    "start_time": "2022-03-07T19:30:09.787Z"
   },
   {
    "duration": 12,
    "start_time": "2022-03-07T19:30:09.803Z"
   },
   {
    "duration": 4,
    "start_time": "2022-03-07T19:30:09.816Z"
   },
   {
    "duration": 11,
    "start_time": "2022-03-07T19:30:09.821Z"
   },
   {
    "duration": 66,
    "start_time": "2022-03-07T19:30:09.833Z"
   },
   {
    "duration": 5,
    "start_time": "2022-03-07T19:30:09.900Z"
   },
   {
    "duration": 61,
    "start_time": "2022-03-07T19:30:09.906Z"
   },
   {
    "duration": 280,
    "start_time": "2022-03-07T19:30:12.582Z"
   },
   {
    "duration": 4,
    "start_time": "2022-03-07T19:30:56.279Z"
   },
   {
    "duration": 718,
    "start_time": "2022-03-07T19:30:56.285Z"
   },
   {
    "duration": 65,
    "start_time": "2022-03-07T19:30:57.005Z"
   },
   {
    "duration": 17,
    "start_time": "2022-03-07T19:30:57.072Z"
   },
   {
    "duration": 4,
    "start_time": "2022-03-07T19:30:57.091Z"
   },
   {
    "duration": 10,
    "start_time": "2022-03-07T19:30:57.096Z"
   },
   {
    "duration": 6,
    "start_time": "2022-03-07T19:30:57.107Z"
   },
   {
    "duration": 5,
    "start_time": "2022-03-07T19:30:57.116Z"
   },
   {
    "duration": 7,
    "start_time": "2022-03-07T19:30:57.160Z"
   },
   {
    "duration": 3,
    "start_time": "2022-03-07T19:30:57.169Z"
   },
   {
    "duration": 9,
    "start_time": "2022-03-07T19:30:57.174Z"
   },
   {
    "duration": 45,
    "start_time": "2022-03-07T19:30:57.184Z"
   },
   {
    "duration": 4,
    "start_time": "2022-03-07T19:30:57.231Z"
   },
   {
    "duration": 28,
    "start_time": "2022-03-07T19:30:57.259Z"
   },
   {
    "duration": 303,
    "start_time": "2022-03-07T19:30:57.289Z"
   },
   {
    "duration": 5,
    "start_time": "2022-03-07T19:31:33.517Z"
   },
   {
    "duration": 742,
    "start_time": "2022-03-07T19:31:33.524Z"
   },
   {
    "duration": 59,
    "start_time": "2022-03-07T19:31:34.268Z"
   },
   {
    "duration": 34,
    "start_time": "2022-03-07T19:31:34.329Z"
   },
   {
    "duration": 4,
    "start_time": "2022-03-07T19:31:34.365Z"
   },
   {
    "duration": 10,
    "start_time": "2022-03-07T19:31:34.371Z"
   },
   {
    "duration": 6,
    "start_time": "2022-03-07T19:31:34.383Z"
   },
   {
    "duration": 4,
    "start_time": "2022-03-07T19:31:34.391Z"
   },
   {
    "duration": 8,
    "start_time": "2022-03-07T19:31:34.397Z"
   },
   {
    "duration": 3,
    "start_time": "2022-03-07T19:31:34.407Z"
   },
   {
    "duration": 47,
    "start_time": "2022-03-07T19:31:34.412Z"
   },
   {
    "duration": 41,
    "start_time": "2022-03-07T19:31:34.461Z"
   },
   {
    "duration": 5,
    "start_time": "2022-03-07T19:31:34.503Z"
   },
   {
    "duration": 359,
    "start_time": "2022-03-07T19:31:34.509Z"
   },
   {
    "duration": 4,
    "start_time": "2022-03-07T19:35:36.918Z"
   },
   {
    "duration": 707,
    "start_time": "2022-03-07T19:35:36.926Z"
   },
   {
    "duration": 71,
    "start_time": "2022-03-07T19:35:37.635Z"
   },
   {
    "duration": 17,
    "start_time": "2022-03-07T19:35:37.708Z"
   },
   {
    "duration": 4,
    "start_time": "2022-03-07T19:35:37.727Z"
   },
   {
    "duration": 32,
    "start_time": "2022-03-07T19:35:37.732Z"
   },
   {
    "duration": 6,
    "start_time": "2022-03-07T19:35:37.765Z"
   },
   {
    "duration": 6,
    "start_time": "2022-03-07T19:35:37.773Z"
   },
   {
    "duration": 13,
    "start_time": "2022-03-07T19:35:37.781Z"
   },
   {
    "duration": 3,
    "start_time": "2022-03-07T19:35:37.796Z"
   },
   {
    "duration": 9,
    "start_time": "2022-03-07T19:35:37.801Z"
   },
   {
    "duration": 66,
    "start_time": "2022-03-07T19:35:37.811Z"
   },
   {
    "duration": 4,
    "start_time": "2022-03-07T19:35:37.879Z"
   },
   {
    "duration": 331,
    "start_time": "2022-03-07T19:35:37.885Z"
   },
   {
    "duration": 59,
    "start_time": "2022-03-07T21:16:25.621Z"
   },
   {
    "duration": 10,
    "start_time": "2022-03-07T21:16:31.792Z"
   },
   {
    "duration": 9,
    "start_time": "2022-03-07T21:19:01.366Z"
   },
   {
    "duration": 196,
    "start_time": "2022-03-07T21:19:17.282Z"
   },
   {
    "duration": 197,
    "start_time": "2022-03-07T21:19:29.446Z"
   },
   {
    "duration": 215,
    "start_time": "2022-03-07T21:19:30.750Z"
   },
   {
    "duration": 194,
    "start_time": "2022-03-07T21:19:44.596Z"
   },
   {
    "duration": 183,
    "start_time": "2022-03-07T21:19:45.631Z"
   },
   {
    "duration": 5,
    "start_time": "2022-03-07T21:19:53.986Z"
   },
   {
    "duration": 4,
    "start_time": "2022-03-07T21:20:10.573Z"
   },
   {
    "duration": 71,
    "start_time": "2022-03-07T21:21:54.271Z"
   },
   {
    "duration": 493,
    "start_time": "2022-03-07T21:22:00.123Z"
   },
   {
    "duration": 4,
    "start_time": "2022-03-07T21:22:22.568Z"
   },
   {
    "duration": 735,
    "start_time": "2022-03-07T21:22:22.578Z"
   },
   {
    "duration": 64,
    "start_time": "2022-03-07T21:22:23.315Z"
   },
   {
    "duration": 17,
    "start_time": "2022-03-07T21:22:23.381Z"
   },
   {
    "duration": 5,
    "start_time": "2022-03-07T21:22:23.400Z"
   },
   {
    "duration": 11,
    "start_time": "2022-03-07T21:22:23.406Z"
   },
   {
    "duration": 41,
    "start_time": "2022-03-07T21:22:23.419Z"
   },
   {
    "duration": 10,
    "start_time": "2022-03-07T21:22:23.462Z"
   },
   {
    "duration": 6,
    "start_time": "2022-03-07T21:22:23.474Z"
   },
   {
    "duration": 4,
    "start_time": "2022-03-07T21:22:23.482Z"
   },
   {
    "duration": 8,
    "start_time": "2022-03-07T21:22:23.487Z"
   },
   {
    "duration": 73,
    "start_time": "2022-03-07T21:22:23.497Z"
   },
   {
    "duration": 5,
    "start_time": "2022-03-07T21:22:23.572Z"
   },
   {
    "duration": 444,
    "start_time": "2022-03-07T21:22:23.579Z"
   },
   {
    "duration": -27,
    "start_time": "2022-03-07T21:22:24.051Z"
   },
   {
    "duration": -55,
    "start_time": "2022-03-07T21:22:24.080Z"
   },
   {
    "duration": 5,
    "start_time": "2022-03-07T21:22:48.880Z"
   },
   {
    "duration": 4,
    "start_time": "2022-03-07T21:22:56.632Z"
   },
   {
    "duration": 3,
    "start_time": "2022-03-07T21:23:08.563Z"
   },
   {
    "duration": 718,
    "start_time": "2022-03-07T21:23:08.570Z"
   },
   {
    "duration": 56,
    "start_time": "2022-03-07T21:23:09.289Z"
   },
   {
    "duration": 26,
    "start_time": "2022-03-07T21:23:09.347Z"
   },
   {
    "duration": 5,
    "start_time": "2022-03-07T21:23:09.374Z"
   },
   {
    "duration": 10,
    "start_time": "2022-03-07T21:23:09.380Z"
   },
   {
    "duration": 7,
    "start_time": "2022-03-07T21:23:09.391Z"
   },
   {
    "duration": 8,
    "start_time": "2022-03-07T21:23:09.399Z"
   },
   {
    "duration": 7,
    "start_time": "2022-03-07T21:23:09.409Z"
   },
   {
    "duration": 41,
    "start_time": "2022-03-07T21:23:09.418Z"
   },
   {
    "duration": 18,
    "start_time": "2022-03-07T21:23:09.461Z"
   },
   {
    "duration": 42,
    "start_time": "2022-03-07T21:23:09.480Z"
   },
   {
    "duration": 6,
    "start_time": "2022-03-07T21:23:09.524Z"
   },
   {
    "duration": 338,
    "start_time": "2022-03-07T21:23:09.532Z"
   },
   {
    "duration": 77,
    "start_time": "2022-03-07T21:23:09.794Z"
   },
   {
    "duration": 75,
    "start_time": "2022-03-07T21:23:09.797Z"
   },
   {
    "duration": 73,
    "start_time": "2022-03-07T21:23:09.800Z"
   },
   {
    "duration": 4,
    "start_time": "2022-03-07T21:24:48.278Z"
   },
   {
    "duration": 775,
    "start_time": "2022-03-07T21:24:48.286Z"
   },
   {
    "duration": 56,
    "start_time": "2022-03-07T21:24:49.063Z"
   },
   {
    "duration": 17,
    "start_time": "2022-03-07T21:24:49.121Z"
   },
   {
    "duration": 5,
    "start_time": "2022-03-07T21:24:49.160Z"
   },
   {
    "duration": 10,
    "start_time": "2022-03-07T21:24:49.166Z"
   },
   {
    "duration": 6,
    "start_time": "2022-03-07T21:24:49.178Z"
   },
   {
    "duration": 10,
    "start_time": "2022-03-07T21:24:49.186Z"
   },
   {
    "duration": 10,
    "start_time": "2022-03-07T21:24:49.198Z"
   },
   {
    "duration": 3,
    "start_time": "2022-03-07T21:24:49.210Z"
   },
   {
    "duration": 45,
    "start_time": "2022-03-07T21:24:49.215Z"
   },
   {
    "duration": 39,
    "start_time": "2022-03-07T21:24:49.262Z"
   },
   {
    "duration": 5,
    "start_time": "2022-03-07T21:24:49.303Z"
   },
   {
    "duration": 65,
    "start_time": "2022-03-07T21:24:49.310Z"
   },
   {
    "duration": 71,
    "start_time": "2022-03-07T21:26:05.035Z"
   },
   {
    "duration": 69,
    "start_time": "2022-03-07T21:26:13.871Z"
   },
   {
    "duration": 272,
    "start_time": "2022-03-07T21:26:55.083Z"
   },
   {
    "duration": 260,
    "start_time": "2022-03-07T21:27:09.168Z"
   },
   {
    "duration": 218,
    "start_time": "2022-03-07T21:27:40.014Z"
   },
   {
    "duration": 196,
    "start_time": "2022-03-07T21:28:00.384Z"
   },
   {
    "duration": 4,
    "start_time": "2022-03-07T21:29:11.751Z"
   },
   {
    "duration": 696,
    "start_time": "2022-03-07T21:29:11.761Z"
   },
   {
    "duration": 60,
    "start_time": "2022-03-07T21:29:12.459Z"
   },
   {
    "duration": 18,
    "start_time": "2022-03-07T21:29:12.522Z"
   },
   {
    "duration": 19,
    "start_time": "2022-03-07T21:29:12.542Z"
   },
   {
    "duration": 10,
    "start_time": "2022-03-07T21:29:12.563Z"
   },
   {
    "duration": 7,
    "start_time": "2022-03-07T21:29:12.574Z"
   },
   {
    "duration": 8,
    "start_time": "2022-03-07T21:29:12.583Z"
   },
   {
    "duration": 8,
    "start_time": "2022-03-07T21:29:12.592Z"
   },
   {
    "duration": 4,
    "start_time": "2022-03-07T21:29:12.602Z"
   },
   {
    "duration": 54,
    "start_time": "2022-03-07T21:29:12.607Z"
   },
   {
    "duration": 48,
    "start_time": "2022-03-07T21:29:12.664Z"
   },
   {
    "duration": 5,
    "start_time": "2022-03-07T21:29:12.714Z"
   },
   {
    "duration": 263,
    "start_time": "2022-03-07T21:29:12.721Z"
   },
   {
    "duration": 43,
    "start_time": "2022-03-07T21:29:38.296Z"
   },
   {
    "duration": 230,
    "start_time": "2022-03-07T21:29:44.967Z"
   },
   {
    "duration": 197,
    "start_time": "2022-03-07T21:30:13.383Z"
   },
   {
    "duration": 209,
    "start_time": "2022-03-07T21:30:22.902Z"
   },
   {
    "duration": 212,
    "start_time": "2022-03-07T21:30:28.228Z"
   },
   {
    "duration": 225,
    "start_time": "2022-03-07T21:30:42.860Z"
   },
   {
    "duration": 213,
    "start_time": "2022-03-07T21:30:58.736Z"
   },
   {
    "duration": 4,
    "start_time": "2022-03-07T21:31:31.705Z"
   },
   {
    "duration": 734,
    "start_time": "2022-03-07T21:31:31.711Z"
   },
   {
    "duration": 58,
    "start_time": "2022-03-07T21:31:32.448Z"
   },
   {
    "duration": 17,
    "start_time": "2022-03-07T21:31:32.508Z"
   },
   {
    "duration": 9,
    "start_time": "2022-03-07T21:31:32.526Z"
   },
   {
    "duration": 27,
    "start_time": "2022-03-07T21:31:32.536Z"
   },
   {
    "duration": 7,
    "start_time": "2022-03-07T21:31:32.565Z"
   },
   {
    "duration": 10,
    "start_time": "2022-03-07T21:31:32.575Z"
   },
   {
    "duration": 8,
    "start_time": "2022-03-07T21:31:32.588Z"
   },
   {
    "duration": 5,
    "start_time": "2022-03-07T21:31:32.598Z"
   },
   {
    "duration": 9,
    "start_time": "2022-03-07T21:31:32.605Z"
   },
   {
    "duration": 87,
    "start_time": "2022-03-07T21:31:32.616Z"
   },
   {
    "duration": 6,
    "start_time": "2022-03-07T21:31:32.705Z"
   },
   {
    "duration": 73,
    "start_time": "2022-03-07T21:31:32.713Z"
   },
   {
    "duration": 242,
    "start_time": "2022-03-07T21:31:32.788Z"
   },
   {
    "duration": 9,
    "start_time": "2022-03-07T21:39:57.620Z"
   },
   {
    "duration": 201,
    "start_time": "2022-03-07T21:42:24.669Z"
   },
   {
    "duration": 212,
    "start_time": "2022-03-07T21:42:43.955Z"
   },
   {
    "duration": 714,
    "start_time": "2022-03-07T21:47:14.466Z"
   },
   {
    "duration": 719,
    "start_time": "2022-03-07T21:47:26.268Z"
   },
   {
    "duration": 4,
    "start_time": "2022-03-07T21:55:56.609Z"
   },
   {
    "duration": 4,
    "start_time": "2022-03-07T21:56:02.220Z"
   },
   {
    "duration": 7,
    "start_time": "2022-03-07T22:01:06.854Z"
   },
   {
    "duration": 4,
    "start_time": "2022-03-07T22:01:15.450Z"
   },
   {
    "duration": 413,
    "start_time": "2022-03-07T22:01:27.999Z"
   },
   {
    "duration": 3,
    "start_time": "2022-03-07T22:02:26.004Z"
   },
   {
    "duration": 457,
    "start_time": "2022-03-07T22:02:27.539Z"
   },
   {
    "duration": 4,
    "start_time": "2022-03-07T22:03:34.342Z"
   },
   {
    "duration": 683,
    "start_time": "2022-03-07T22:03:34.348Z"
   },
   {
    "duration": 60,
    "start_time": "2022-03-07T22:03:35.033Z"
   },
   {
    "duration": 16,
    "start_time": "2022-03-07T22:03:35.094Z"
   },
   {
    "duration": 4,
    "start_time": "2022-03-07T22:03:35.112Z"
   },
   {
    "duration": 9,
    "start_time": "2022-03-07T22:03:35.117Z"
   },
   {
    "duration": 33,
    "start_time": "2022-03-07T22:03:35.127Z"
   },
   {
    "duration": 7,
    "start_time": "2022-03-07T22:03:35.162Z"
   },
   {
    "duration": 12,
    "start_time": "2022-03-07T22:03:35.171Z"
   },
   {
    "duration": 4,
    "start_time": "2022-03-07T22:03:35.185Z"
   },
   {
    "duration": 52,
    "start_time": "2022-03-07T22:03:35.190Z"
   },
   {
    "duration": 40,
    "start_time": "2022-03-07T22:03:35.259Z"
   },
   {
    "duration": 5,
    "start_time": "2022-03-07T22:03:35.301Z"
   },
   {
    "duration": 66,
    "start_time": "2022-03-07T22:03:35.307Z"
   },
   {
    "duration": 219,
    "start_time": "2022-03-07T22:03:35.375Z"
   },
   {
    "duration": 8,
    "start_time": "2022-03-07T22:03:35.596Z"
   },
   {
    "duration": 4,
    "start_time": "2022-03-07T22:03:43.001Z"
   },
   {
    "duration": 4,
    "start_time": "2022-03-07T22:04:51.014Z"
   },
   {
    "duration": 746,
    "start_time": "2022-03-07T22:04:51.020Z"
   },
   {
    "duration": 58,
    "start_time": "2022-03-07T22:04:51.768Z"
   },
   {
    "duration": 35,
    "start_time": "2022-03-07T22:04:51.828Z"
   },
   {
    "duration": 5,
    "start_time": "2022-03-07T22:04:51.864Z"
   },
   {
    "duration": 12,
    "start_time": "2022-03-07T22:04:51.870Z"
   },
   {
    "duration": 7,
    "start_time": "2022-03-07T22:04:51.883Z"
   },
   {
    "duration": 8,
    "start_time": "2022-03-07T22:04:51.893Z"
   },
   {
    "duration": 7,
    "start_time": "2022-03-07T22:04:51.902Z"
   },
   {
    "duration": 5,
    "start_time": "2022-03-07T22:04:51.911Z"
   },
   {
    "duration": 44,
    "start_time": "2022-03-07T22:04:53.826Z"
   },
   {
    "duration": 10,
    "start_time": "2022-03-07T22:05:36.451Z"
   },
   {
    "duration": 4,
    "start_time": "2022-03-07T22:06:31.165Z"
   },
   {
    "duration": 749,
    "start_time": "2022-03-07T22:06:31.173Z"
   },
   {
    "duration": 60,
    "start_time": "2022-03-07T22:06:31.924Z"
   },
   {
    "duration": 18,
    "start_time": "2022-03-07T22:06:31.986Z"
   },
   {
    "duration": 4,
    "start_time": "2022-03-07T22:06:32.006Z"
   },
   {
    "duration": 13,
    "start_time": "2022-03-07T22:06:32.011Z"
   },
   {
    "duration": 8,
    "start_time": "2022-03-07T22:06:32.025Z"
   },
   {
    "duration": 12,
    "start_time": "2022-03-07T22:06:32.034Z"
   },
   {
    "duration": 13,
    "start_time": "2022-03-07T22:06:32.047Z"
   },
   {
    "duration": 3,
    "start_time": "2022-03-07T22:06:32.062Z"
   },
   {
    "duration": 52,
    "start_time": "2022-03-07T22:06:32.067Z"
   },
   {
    "duration": 9,
    "start_time": "2022-03-07T22:06:38.239Z"
   },
   {
    "duration": 4,
    "start_time": "2022-03-07T22:13:39.679Z"
   },
   {
    "duration": 755,
    "start_time": "2022-03-07T22:13:39.688Z"
   },
   {
    "duration": 61,
    "start_time": "2022-03-07T22:13:40.445Z"
   },
   {
    "duration": 18,
    "start_time": "2022-03-07T22:13:40.508Z"
   },
   {
    "duration": 5,
    "start_time": "2022-03-07T22:13:40.528Z"
   },
   {
    "duration": 34,
    "start_time": "2022-03-07T22:13:40.534Z"
   },
   {
    "duration": 6,
    "start_time": "2022-03-07T22:13:40.570Z"
   },
   {
    "duration": 9,
    "start_time": "2022-03-07T22:13:40.578Z"
   },
   {
    "duration": 8,
    "start_time": "2022-03-07T22:13:40.588Z"
   },
   {
    "duration": 4,
    "start_time": "2022-03-07T22:13:40.598Z"
   },
   {
    "duration": 44,
    "start_time": "2022-03-07T22:13:45.057Z"
   },
   {
    "duration": 9,
    "start_time": "2022-03-07T22:13:51.653Z"
   },
   {
    "duration": 4,
    "start_time": "2022-03-07T22:14:15.168Z"
   },
   {
    "duration": 738,
    "start_time": "2022-03-07T22:14:15.177Z"
   },
   {
    "duration": 65,
    "start_time": "2022-03-07T22:14:15.916Z"
   },
   {
    "duration": 17,
    "start_time": "2022-03-07T22:14:15.983Z"
   },
   {
    "duration": 3,
    "start_time": "2022-03-07T22:14:16.002Z"
   },
   {
    "duration": 10,
    "start_time": "2022-03-07T22:14:16.007Z"
   },
   {
    "duration": 6,
    "start_time": "2022-03-07T22:14:16.019Z"
   },
   {
    "duration": 8,
    "start_time": "2022-03-07T22:14:16.060Z"
   },
   {
    "duration": 9,
    "start_time": "2022-03-07T22:14:16.070Z"
   },
   {
    "duration": 4,
    "start_time": "2022-03-07T22:14:16.081Z"
   },
   {
    "duration": 48,
    "start_time": "2022-03-07T22:14:16.086Z"
   },
   {
    "duration": 9,
    "start_time": "2022-03-07T22:14:19.052Z"
   },
   {
    "duration": 6,
    "start_time": "2022-03-07T22:20:55.345Z"
   },
   {
    "duration": 2,
    "start_time": "2022-03-07T22:21:03.501Z"
   },
   {
    "duration": 258,
    "start_time": "2022-03-07T22:23:21.337Z"
   },
   {
    "duration": 39,
    "start_time": "2022-03-07T22:24:16.014Z"
   },
   {
    "duration": 3107,
    "start_time": "2022-03-07T22:24:36.595Z"
   },
   {
    "duration": 3253,
    "start_time": "2022-03-07T22:24:46.863Z"
   },
   {
    "duration": 261,
    "start_time": "2022-03-07T22:25:04.190Z"
   },
   {
    "duration": 240,
    "start_time": "2022-03-07T22:26:39.072Z"
   },
   {
    "duration": 51,
    "start_time": "2022-03-07T22:26:57.957Z"
   },
   {
    "duration": 53,
    "start_time": "2022-03-07T22:27:28.150Z"
   },
   {
    "duration": 52,
    "start_time": "2022-03-07T22:27:37.958Z"
   },
   {
    "duration": 52,
    "start_time": "2022-03-07T22:27:52.264Z"
   },
   {
    "duration": 56,
    "start_time": "2022-03-07T22:28:15.995Z"
   },
   {
    "duration": 50,
    "start_time": "2022-03-07T22:28:55.721Z"
   },
   {
    "duration": 15,
    "start_time": "2022-03-07T22:30:20.512Z"
   },
   {
    "duration": 4,
    "start_time": "2022-03-07T22:31:00.142Z"
   },
   {
    "duration": 744,
    "start_time": "2022-03-07T22:31:00.151Z"
   },
   {
    "duration": 68,
    "start_time": "2022-03-07T22:31:00.896Z"
   },
   {
    "duration": 17,
    "start_time": "2022-03-07T22:31:00.966Z"
   },
   {
    "duration": 4,
    "start_time": "2022-03-07T22:31:00.986Z"
   },
   {
    "duration": 16,
    "start_time": "2022-03-07T22:31:00.991Z"
   },
   {
    "duration": 14,
    "start_time": "2022-03-07T22:31:01.009Z"
   },
   {
    "duration": 20,
    "start_time": "2022-03-07T22:31:01.025Z"
   },
   {
    "duration": 12,
    "start_time": "2022-03-07T22:31:01.059Z"
   },
   {
    "duration": 12,
    "start_time": "2022-03-07T22:31:01.073Z"
   },
   {
    "duration": 58,
    "start_time": "2022-03-07T22:31:01.087Z"
   },
   {
    "duration": 9,
    "start_time": "2022-03-07T22:31:01.146Z"
   },
   {
    "duration": 282,
    "start_time": "2022-03-07T22:31:01.156Z"
   },
   {
    "duration": 28,
    "start_time": "2022-03-07T22:31:01.412Z"
   },
   {
    "duration": 27,
    "start_time": "2022-03-07T22:31:01.415Z"
   },
   {
    "duration": 25,
    "start_time": "2022-03-07T22:31:01.418Z"
   },
   {
    "duration": 23,
    "start_time": "2022-03-07T22:31:01.421Z"
   },
   {
    "duration": 22,
    "start_time": "2022-03-07T22:31:01.423Z"
   },
   {
    "duration": 21,
    "start_time": "2022-03-07T22:31:01.425Z"
   },
   {
    "duration": 20,
    "start_time": "2022-03-07T22:31:01.427Z"
   },
   {
    "duration": -1,
    "start_time": "2022-03-07T22:31:01.449Z"
   },
   {
    "duration": -3,
    "start_time": "2022-03-07T22:31:01.453Z"
   },
   {
    "duration": 4,
    "start_time": "2022-03-07T22:31:44.914Z"
   },
   {
    "duration": 722,
    "start_time": "2022-03-07T22:31:44.923Z"
   },
   {
    "duration": 59,
    "start_time": "2022-03-07T22:31:45.647Z"
   },
   {
    "duration": 18,
    "start_time": "2022-03-07T22:31:45.709Z"
   },
   {
    "duration": 4,
    "start_time": "2022-03-07T22:31:45.728Z"
   },
   {
    "duration": 31,
    "start_time": "2022-03-07T22:31:45.734Z"
   },
   {
    "duration": 7,
    "start_time": "2022-03-07T22:31:45.766Z"
   },
   {
    "duration": 18,
    "start_time": "2022-03-07T22:31:45.774Z"
   },
   {
    "duration": 8,
    "start_time": "2022-03-07T22:31:45.794Z"
   },
   {
    "duration": 8,
    "start_time": "2022-03-07T22:31:45.804Z"
   },
   {
    "duration": 65,
    "start_time": "2022-03-07T22:31:45.813Z"
   },
   {
    "duration": 8,
    "start_time": "2022-03-07T22:31:45.880Z"
   },
   {
    "duration": 12,
    "start_time": "2022-03-07T22:31:45.890Z"
   },
   {
    "duration": 291,
    "start_time": "2022-03-07T22:31:45.904Z"
   },
   {
    "duration": -11,
    "start_time": "2022-03-07T22:31:46.208Z"
   },
   {
    "duration": -14,
    "start_time": "2022-03-07T22:31:46.212Z"
   },
   {
    "duration": -16,
    "start_time": "2022-03-07T22:31:46.215Z"
   },
   {
    "duration": -21,
    "start_time": "2022-03-07T22:31:46.221Z"
   },
   {
    "duration": -22,
    "start_time": "2022-03-07T22:31:46.223Z"
   },
   {
    "duration": -24,
    "start_time": "2022-03-07T22:31:46.226Z"
   },
   {
    "duration": -26,
    "start_time": "2022-03-07T22:31:46.228Z"
   },
   {
    "duration": 3414,
    "start_time": "2022-03-07T22:33:03.884Z"
   },
   {
    "duration": 16,
    "start_time": "2022-03-07T22:33:09.893Z"
   },
   {
    "duration": 1527,
    "start_time": "2022-03-08T20:34:26.600Z"
   },
   {
    "duration": 911,
    "start_time": "2022-03-08T20:34:28.130Z"
   },
   {
    "duration": 22,
    "start_time": "2022-03-08T20:34:29.045Z"
   },
   {
    "duration": 19,
    "start_time": "2022-03-08T20:34:29.069Z"
   },
   {
    "duration": 5231,
    "start_time": "2022-03-08T20:34:29.090Z"
   },
   {
    "duration": 5,
    "start_time": "2022-03-08T20:35:33.284Z"
   },
   {
    "duration": 907,
    "start_time": "2022-03-08T20:35:33.291Z"
   },
   {
    "duration": 21,
    "start_time": "2022-03-08T20:35:34.201Z"
   },
   {
    "duration": 7,
    "start_time": "2022-03-08T20:35:34.224Z"
   },
   {
    "duration": 5271,
    "start_time": "2022-03-08T20:35:34.234Z"
   },
   {
    "duration": 3,
    "start_time": "2022-03-08T20:35:39.507Z"
   },
   {
    "duration": 182,
    "start_time": "2022-03-08T20:37:47.865Z"
   },
   {
    "duration": 146,
    "start_time": "2022-03-08T20:38:18.385Z"
   },
   {
    "duration": 82,
    "start_time": "2022-03-08T20:40:24.624Z"
   },
   {
    "duration": 58,
    "start_time": "2022-03-08T20:40:50.673Z"
   },
   {
    "duration": 82,
    "start_time": "2022-03-08T20:41:00.320Z"
   },
   {
    "duration": 54,
    "start_time": "2022-03-08T20:41:07.979Z"
   },
   {
    "duration": 205,
    "start_time": "2022-03-08T20:41:21.684Z"
   },
   {
    "duration": 51,
    "start_time": "2022-03-08T20:42:21.968Z"
   },
   {
    "duration": 80,
    "start_time": "2022-03-08T20:42:27.491Z"
   },
   {
    "duration": 52,
    "start_time": "2022-03-08T20:43:00.118Z"
   },
   {
    "duration": 191,
    "start_time": "2022-03-08T20:43:06.471Z"
   },
   {
    "duration": 55,
    "start_time": "2022-03-08T20:43:20.526Z"
   },
   {
    "duration": 129,
    "start_time": "2022-03-08T20:43:38.757Z"
   },
   {
    "duration": 3,
    "start_time": "2022-03-08T20:56:26.936Z"
   },
   {
    "duration": 182,
    "start_time": "2022-03-08T20:56:29.434Z"
   },
   {
    "duration": 173,
    "start_time": "2022-03-08T20:56:31.478Z"
   },
   {
    "duration": 3,
    "start_time": "2022-03-08T20:57:09.319Z"
   },
   {
    "duration": 3,
    "start_time": "2022-03-08T20:58:43.206Z"
   },
   {
    "duration": 7,
    "start_time": "2022-03-08T20:58:47.953Z"
   },
   {
    "duration": 127,
    "start_time": "2022-03-08T21:06:21.452Z"
   },
   {
    "duration": 83,
    "start_time": "2022-03-08T21:07:19.825Z"
   },
   {
    "duration": 111,
    "start_time": "2022-03-08T21:08:24.603Z"
   },
   {
    "duration": 90,
    "start_time": "2022-03-08T21:08:44.022Z"
   },
   {
    "duration": 85,
    "start_time": "2022-03-08T21:09:57.288Z"
   },
   {
    "duration": 87,
    "start_time": "2022-03-08T21:10:06.711Z"
   },
   {
    "duration": 173,
    "start_time": "2022-03-08T21:11:18.884Z"
   },
   {
    "duration": 176,
    "start_time": "2022-03-08T21:12:33.069Z"
   },
   {
    "duration": 166,
    "start_time": "2022-03-08T21:12:52.597Z"
   },
   {
    "duration": 365,
    "start_time": "2022-03-08T21:13:49.756Z"
   },
   {
    "duration": 10,
    "start_time": "2022-03-08T21:13:57.605Z"
   },
   {
    "duration": 10,
    "start_time": "2022-03-08T21:14:12.822Z"
   },
   {
    "duration": 10,
    "start_time": "2022-03-08T21:14:16.711Z"
   },
   {
    "duration": 9,
    "start_time": "2022-03-08T21:14:32.245Z"
   },
   {
    "duration": 9,
    "start_time": "2022-03-08T21:14:55.019Z"
   },
   {
    "duration": 9,
    "start_time": "2022-03-08T21:15:02.466Z"
   },
   {
    "duration": 6,
    "start_time": "2022-03-08T21:15:45.541Z"
   },
   {
    "duration": 832,
    "start_time": "2022-03-08T21:15:45.549Z"
   },
   {
    "duration": 20,
    "start_time": "2022-03-08T21:15:46.384Z"
   },
   {
    "duration": 19,
    "start_time": "2022-03-08T21:15:46.407Z"
   },
   {
    "duration": 589,
    "start_time": "2022-03-08T21:15:46.428Z"
   },
   {
    "duration": 328,
    "start_time": "2022-03-08T21:15:46.692Z"
   },
   {
    "duration": 326,
    "start_time": "2022-03-08T21:15:46.695Z"
   },
   {
    "duration": 322,
    "start_time": "2022-03-08T21:15:46.700Z"
   },
   {
    "duration": 5366,
    "start_time": "2022-03-08T21:17:47.875Z"
   },
   {
    "duration": 10,
    "start_time": "2022-03-08T21:17:59.682Z"
   },
   {
    "duration": 5,
    "start_time": "2022-03-08T21:26:50.918Z"
   },
   {
    "duration": 809,
    "start_time": "2022-03-08T21:26:50.926Z"
   },
   {
    "duration": 20,
    "start_time": "2022-03-08T21:26:51.738Z"
   },
   {
    "duration": 7,
    "start_time": "2022-03-08T21:26:51.761Z"
   },
   {
    "duration": 5472,
    "start_time": "2022-03-08T21:26:51.787Z"
   },
   {
    "duration": 6,
    "start_time": "2022-03-08T21:27:10.067Z"
   },
   {
    "duration": 817,
    "start_time": "2022-03-08T21:27:10.075Z"
   },
   {
    "duration": 21,
    "start_time": "2022-03-08T21:27:10.895Z"
   },
   {
    "duration": 7,
    "start_time": "2022-03-08T21:27:10.918Z"
   },
   {
    "duration": 5,
    "start_time": "2022-03-08T21:27:24.083Z"
   },
   {
    "duration": 856,
    "start_time": "2022-03-08T21:27:24.090Z"
   },
   {
    "duration": 21,
    "start_time": "2022-03-08T21:27:24.949Z"
   },
   {
    "duration": 6,
    "start_time": "2022-03-08T21:27:24.972Z"
   },
   {
    "duration": 556,
    "start_time": "2022-03-08T21:27:24.987Z"
   },
   {
    "duration": 6,
    "start_time": "2022-03-08T21:28:10.138Z"
   },
   {
    "duration": 825,
    "start_time": "2022-03-08T21:28:10.146Z"
   },
   {
    "duration": 25,
    "start_time": "2022-03-08T21:28:10.974Z"
   },
   {
    "duration": 9,
    "start_time": "2022-03-08T21:28:11.002Z"
   },
   {
    "duration": 5027,
    "start_time": "2022-03-08T21:28:11.013Z"
   },
   {
    "duration": 5,
    "start_time": "2022-03-08T21:28:31.993Z"
   },
   {
    "duration": 867,
    "start_time": "2022-03-08T21:28:32.001Z"
   },
   {
    "duration": 24,
    "start_time": "2022-03-08T21:28:32.871Z"
   },
   {
    "duration": 10,
    "start_time": "2022-03-08T21:28:32.897Z"
   },
   {
    "duration": 572,
    "start_time": "2022-03-08T21:28:32.909Z"
   },
   {
    "duration": 9,
    "start_time": "2022-03-08T21:29:18.950Z"
   },
   {
    "duration": 5,
    "start_time": "2022-03-08T21:29:40.653Z"
   },
   {
    "duration": 798,
    "start_time": "2022-03-08T21:29:40.660Z"
   },
   {
    "duration": 32,
    "start_time": "2022-03-08T21:29:41.461Z"
   },
   {
    "duration": 6,
    "start_time": "2022-03-08T21:29:41.496Z"
   },
   {
    "duration": 588,
    "start_time": "2022-03-08T21:29:41.504Z"
   },
   {
    "duration": 6,
    "start_time": "2022-03-08T21:31:17.488Z"
   },
   {
    "duration": 879,
    "start_time": "2022-03-08T21:31:17.496Z"
   },
   {
    "duration": 21,
    "start_time": "2022-03-08T21:31:18.378Z"
   },
   {
    "duration": 6,
    "start_time": "2022-03-08T21:31:18.401Z"
   },
   {
    "duration": 518,
    "start_time": "2022-03-08T21:31:18.410Z"
   },
   {
    "duration": 4946,
    "start_time": "2022-03-08T21:31:51.408Z"
   },
   {
    "duration": 526,
    "start_time": "2022-03-08T21:32:21.511Z"
   },
   {
    "duration": 5214,
    "start_time": "2022-03-08T21:35:59.656Z"
   },
   {
    "duration": 5,
    "start_time": "2022-03-08T21:38:59.446Z"
   },
   {
    "duration": 894,
    "start_time": "2022-03-08T21:38:59.454Z"
   },
   {
    "duration": 21,
    "start_time": "2022-03-08T21:39:00.352Z"
   },
   {
    "duration": 24,
    "start_time": "2022-03-08T21:39:00.376Z"
   },
   {
    "duration": 5528,
    "start_time": "2022-03-08T21:39:00.402Z"
   },
   {
    "duration": 3,
    "start_time": "2022-03-08T21:39:05.933Z"
   },
   {
    "duration": 12,
    "start_time": "2022-03-08T21:39:05.939Z"
   },
   {
    "duration": 35,
    "start_time": "2022-03-08T21:39:05.953Z"
   },
   {
    "duration": 76,
    "start_time": "2022-03-08T21:42:33.982Z"
   },
   {
    "duration": 234,
    "start_time": "2022-03-08T21:42:38.217Z"
   },
   {
    "duration": 233,
    "start_time": "2022-03-08T21:43:07.955Z"
   },
   {
    "duration": 8,
    "start_time": "2022-03-08T21:43:25.799Z"
   },
   {
    "duration": 36,
    "start_time": "2022-03-08T21:43:41.804Z"
   },
   {
    "duration": 5206,
    "start_time": "2022-03-08T21:44:00.953Z"
   },
   {
    "duration": 16,
    "start_time": "2022-03-08T21:44:33.483Z"
   },
   {
    "duration": 107,
    "start_time": "2022-03-08T21:45:10.706Z"
   },
   {
    "duration": 104,
    "start_time": "2022-03-08T21:45:14.684Z"
   },
   {
    "duration": 63,
    "start_time": "2022-03-08T21:45:36.250Z"
   },
   {
    "duration": 8,
    "start_time": "2022-03-08T21:46:06.111Z"
   },
   {
    "duration": 61,
    "start_time": "2022-03-08T21:46:16.840Z"
   },
   {
    "duration": 243,
    "start_time": "2022-03-08T21:46:58.861Z"
   },
   {
    "duration": 13,
    "start_time": "2022-03-08T21:47:14.566Z"
   },
   {
    "duration": 10,
    "start_time": "2022-03-08T21:48:54.147Z"
   },
   {
    "duration": 144,
    "start_time": "2022-03-08T21:50:05.464Z"
   },
   {
    "duration": 13,
    "start_time": "2022-03-08T21:51:09.308Z"
   },
   {
    "duration": 5,
    "start_time": "2022-03-08T21:52:38.450Z"
   },
   {
    "duration": 832,
    "start_time": "2022-03-08T21:52:38.457Z"
   },
   {
    "duration": 20,
    "start_time": "2022-03-08T21:52:39.292Z"
   },
   {
    "duration": 9,
    "start_time": "2022-03-08T21:52:39.315Z"
   },
   {
    "duration": 5493,
    "start_time": "2022-03-08T21:52:39.326Z"
   },
   {
    "duration": 5349,
    "start_time": "2022-03-08T21:57:51.349Z"
   },
   {
    "duration": 6,
    "start_time": "2022-03-08T21:58:41.659Z"
   },
   {
    "duration": 841,
    "start_time": "2022-03-08T21:58:41.668Z"
   },
   {
    "duration": 20,
    "start_time": "2022-03-08T21:58:42.512Z"
   },
   {
    "duration": 6,
    "start_time": "2022-03-08T21:58:42.534Z"
   },
   {
    "duration": 5628,
    "start_time": "2022-03-08T21:58:42.543Z"
   },
   {
    "duration": 12,
    "start_time": "2022-03-08T21:58:59.912Z"
   },
   {
    "duration": 15,
    "start_time": "2022-03-08T21:59:18.395Z"
   },
   {
    "duration": 5439,
    "start_time": "2022-03-08T22:04:01.495Z"
   },
   {
    "duration": 5334,
    "start_time": "2022-03-08T22:04:44.180Z"
   },
   {
    "duration": 3,
    "start_time": "2022-03-08T22:04:54.758Z"
   },
   {
    "duration": 8,
    "start_time": "2022-03-08T22:05:08.867Z"
   },
   {
    "duration": 7,
    "start_time": "2022-03-08T22:05:26.147Z"
   },
   {
    "duration": 3,
    "start_time": "2022-03-08T22:05:30.061Z"
   },
   {
    "duration": 252,
    "start_time": "2022-03-08T22:08:06.200Z"
   },
   {
    "duration": 9,
    "start_time": "2022-03-08T22:09:13.294Z"
   },
   {
    "duration": 9,
    "start_time": "2022-03-08T22:10:28.498Z"
   },
   {
    "duration": 17,
    "start_time": "2022-03-08T22:10:52.050Z"
   },
   {
    "duration": 12,
    "start_time": "2022-03-08T22:11:54.490Z"
   },
   {
    "duration": 18,
    "start_time": "2022-03-08T22:12:13.302Z"
   },
   {
    "duration": 234,
    "start_time": "2022-03-08T22:12:27.401Z"
   },
   {
    "duration": 17,
    "start_time": "2022-03-08T22:12:48.367Z"
   },
   {
    "duration": 17,
    "start_time": "2022-03-08T22:13:37.726Z"
   },
   {
    "duration": 14,
    "start_time": "2022-03-08T22:15:01.428Z"
   },
   {
    "duration": 24,
    "start_time": "2022-03-08T22:15:53.317Z"
   },
   {
    "duration": 25,
    "start_time": "2022-03-08T22:17:38.423Z"
   },
   {
    "duration": 265,
    "start_time": "2022-03-08T22:18:30.796Z"
   },
   {
    "duration": 28,
    "start_time": "2022-03-08T22:18:49.266Z"
   },
   {
    "duration": 7,
    "start_time": "2022-03-08T22:19:29.323Z"
   },
   {
    "duration": 901,
    "start_time": "2022-03-08T22:19:29.332Z"
   },
   {
    "duration": 22,
    "start_time": "2022-03-08T22:19:30.236Z"
   },
   {
    "duration": 20,
    "start_time": "2022-03-08T22:19:30.260Z"
   },
   {
    "duration": 5634,
    "start_time": "2022-03-08T22:19:30.286Z"
   },
   {
    "duration": 3,
    "start_time": "2022-03-08T22:19:35.922Z"
   },
   {
    "duration": 11,
    "start_time": "2022-03-08T22:19:35.927Z"
   },
   {
    "duration": 11,
    "start_time": "2022-03-08T22:19:35.941Z"
   },
   {
    "duration": 39,
    "start_time": "2022-03-08T22:19:35.954Z"
   },
   {
    "duration": 16,
    "start_time": "2022-03-08T22:19:35.995Z"
   },
   {
    "duration": 40,
    "start_time": "2022-03-08T22:19:36.013Z"
   },
   {
    "duration": 28,
    "start_time": "2022-03-08T22:20:23.610Z"
   },
   {
    "duration": 31,
    "start_time": "2022-03-08T22:20:56.694Z"
   },
   {
    "duration": 28,
    "start_time": "2022-03-08T22:22:00.166Z"
   },
   {
    "duration": 29,
    "start_time": "2022-03-08T22:23:46.827Z"
   },
   {
    "duration": 28,
    "start_time": "2022-03-08T22:24:31.145Z"
   },
   {
    "duration": 25,
    "start_time": "2022-03-08T22:24:38.663Z"
   },
   {
    "duration": 88,
    "start_time": "2022-03-08T22:25:00.462Z"
   },
   {
    "duration": 25,
    "start_time": "2022-03-08T22:25:19.365Z"
   },
   {
    "duration": 25,
    "start_time": "2022-03-08T22:25:43.543Z"
   },
   {
    "duration": 6,
    "start_time": "2022-03-08T22:28:19.377Z"
   },
   {
    "duration": 872,
    "start_time": "2022-03-08T22:28:19.386Z"
   },
   {
    "duration": 38,
    "start_time": "2022-03-08T22:28:20.262Z"
   },
   {
    "duration": 6,
    "start_time": "2022-03-08T22:28:20.303Z"
   },
   {
    "duration": 5547,
    "start_time": "2022-03-08T22:28:20.312Z"
   },
   {
    "duration": 2,
    "start_time": "2022-03-08T22:28:25.862Z"
   },
   {
    "duration": 23,
    "start_time": "2022-03-08T22:28:25.866Z"
   },
   {
    "duration": 10,
    "start_time": "2022-03-08T22:28:25.893Z"
   },
   {
    "duration": 12,
    "start_time": "2022-03-08T22:28:25.906Z"
   },
   {
    "duration": 3,
    "start_time": "2022-03-08T22:28:25.920Z"
   },
   {
    "duration": 67,
    "start_time": "2022-03-08T22:28:25.925Z"
   },
   {
    "duration": 29,
    "start_time": "2022-03-08T22:30:35.656Z"
   },
   {
    "duration": 9,
    "start_time": "2022-03-08T22:30:51.744Z"
   },
   {
    "duration": 68,
    "start_time": "2022-03-08T22:41:26.175Z"
   },
   {
    "duration": 7,
    "start_time": "2022-03-08T22:41:57.329Z"
   },
   {
    "duration": 6,
    "start_time": "2022-03-08T22:42:41.014Z"
   },
   {
    "duration": 5,
    "start_time": "2022-03-08T22:43:39.854Z"
   },
   {
    "duration": 828,
    "start_time": "2022-03-08T22:43:39.861Z"
   },
   {
    "duration": 24,
    "start_time": "2022-03-08T22:43:40.694Z"
   },
   {
    "duration": 8,
    "start_time": "2022-03-08T22:43:40.721Z"
   },
   {
    "duration": 5728,
    "start_time": "2022-03-08T22:43:40.732Z"
   },
   {
    "duration": 4,
    "start_time": "2022-03-08T22:43:46.463Z"
   },
   {
    "duration": 21,
    "start_time": "2022-03-08T22:43:46.469Z"
   },
   {
    "duration": 11,
    "start_time": "2022-03-08T22:43:46.495Z"
   },
   {
    "duration": 13,
    "start_time": "2022-03-08T22:43:46.508Z"
   },
   {
    "duration": 111,
    "start_time": "2022-03-08T22:43:46.524Z"
   },
   {
    "duration": 12,
    "start_time": "2022-03-08T22:43:46.638Z"
   },
   {
    "duration": 5,
    "start_time": "2022-03-08T22:43:46.653Z"
   },
   {
    "duration": 34,
    "start_time": "2022-03-08T22:43:46.661Z"
   },
   {
    "duration": 6,
    "start_time": "2022-03-08T22:45:06.749Z"
   },
   {
    "duration": 763,
    "start_time": "2022-03-08T22:45:06.758Z"
   },
   {
    "duration": 26,
    "start_time": "2022-03-08T22:45:07.524Z"
   },
   {
    "duration": 6,
    "start_time": "2022-03-08T22:45:07.554Z"
   },
   {
    "duration": 5685,
    "start_time": "2022-03-08T22:45:07.562Z"
   },
   {
    "duration": 3,
    "start_time": "2022-03-08T22:45:13.250Z"
   },
   {
    "duration": 17,
    "start_time": "2022-03-08T22:45:13.255Z"
   },
   {
    "duration": 9,
    "start_time": "2022-03-08T22:45:13.288Z"
   },
   {
    "duration": 18,
    "start_time": "2022-03-08T22:45:13.299Z"
   },
   {
    "duration": 12,
    "start_time": "2022-03-08T22:45:13.320Z"
   },
   {
    "duration": 21,
    "start_time": "2022-03-08T22:45:13.334Z"
   },
   {
    "duration": 86,
    "start_time": "2022-03-08T22:45:13.358Z"
   },
   {
    "duration": 20,
    "start_time": "2022-03-08T22:45:13.446Z"
   },
   {
    "duration": 31,
    "start_time": "2022-03-08T22:48:13.374Z"
   },
   {
    "duration": 7,
    "start_time": "2022-03-08T22:53:41.431Z"
   },
   {
    "duration": 10,
    "start_time": "2022-03-08T22:53:54.575Z"
   },
   {
    "duration": 6,
    "start_time": "2022-03-08T22:54:29.267Z"
   },
   {
    "duration": 788,
    "start_time": "2022-03-08T22:54:29.276Z"
   },
   {
    "duration": 32,
    "start_time": "2022-03-08T22:54:30.067Z"
   },
   {
    "duration": 6,
    "start_time": "2022-03-08T22:54:30.101Z"
   },
   {
    "duration": 5817,
    "start_time": "2022-03-08T22:54:30.110Z"
   },
   {
    "duration": 4,
    "start_time": "2022-03-08T22:54:35.929Z"
   },
   {
    "duration": 22,
    "start_time": "2022-03-08T22:54:35.936Z"
   },
   {
    "duration": 29,
    "start_time": "2022-03-08T22:54:35.963Z"
   },
   {
    "duration": 15,
    "start_time": "2022-03-08T22:54:35.995Z"
   },
   {
    "duration": 16,
    "start_time": "2022-03-08T22:54:36.012Z"
   },
   {
    "duration": 26,
    "start_time": "2022-03-08T22:54:36.030Z"
   },
   {
    "duration": 232,
    "start_time": "2022-03-08T22:54:36.059Z"
   },
   {
    "duration": 290,
    "start_time": "2022-03-08T22:54:36.004Z"
   },
   {
    "duration": 285,
    "start_time": "2022-03-08T22:54:36.010Z"
   },
   {
    "duration": 284,
    "start_time": "2022-03-08T22:54:36.013Z"
   },
   {
    "duration": 8,
    "start_time": "2022-03-08T22:54:39.912Z"
   },
   {
    "duration": 64,
    "start_time": "2022-03-08T22:55:04.472Z"
   },
   {
    "duration": 7,
    "start_time": "2022-03-08T22:55:06.166Z"
   },
   {
    "duration": 8,
    "start_time": "2022-03-08T22:57:08.725Z"
   },
   {
    "duration": 6,
    "start_time": "2022-03-08T22:58:05.451Z"
   },
   {
    "duration": 5,
    "start_time": "2022-03-08T22:58:21.075Z"
   },
   {
    "duration": 808,
    "start_time": "2022-03-08T22:58:21.083Z"
   },
   {
    "duration": 20,
    "start_time": "2022-03-08T22:58:21.894Z"
   },
   {
    "duration": 7,
    "start_time": "2022-03-08T22:58:21.916Z"
   },
   {
    "duration": 5592,
    "start_time": "2022-03-08T22:58:21.925Z"
   },
   {
    "duration": 3,
    "start_time": "2022-03-08T22:58:27.519Z"
   },
   {
    "duration": 10,
    "start_time": "2022-03-08T22:58:27.524Z"
   },
   {
    "duration": 11,
    "start_time": "2022-03-08T22:58:27.537Z"
   },
   {
    "duration": 43,
    "start_time": "2022-03-08T22:58:27.550Z"
   },
   {
    "duration": 4,
    "start_time": "2022-03-08T22:58:27.596Z"
   },
   {
    "duration": 15,
    "start_time": "2022-03-08T22:58:27.603Z"
   },
   {
    "duration": 7,
    "start_time": "2022-03-08T22:58:27.620Z"
   },
   {
    "duration": 8,
    "start_time": "2022-03-08T22:58:38.247Z"
   },
   {
    "duration": 8,
    "start_time": "2022-03-08T23:05:27.889Z"
   },
   {
    "duration": 9,
    "start_time": "2022-03-08T23:10:33.291Z"
   },
   {
    "duration": 103,
    "start_time": "2022-03-09T04:45:47.692Z"
   },
   {
    "duration": 1094,
    "start_time": "2022-03-09T04:46:20.314Z"
   },
   {
    "duration": 688,
    "start_time": "2022-03-09T04:46:21.410Z"
   },
   {
    "duration": 13,
    "start_time": "2022-03-09T04:46:22.100Z"
   },
   {
    "duration": 5,
    "start_time": "2022-03-09T04:46:22.115Z"
   },
   {
    "duration": 362,
    "start_time": "2022-03-09T04:46:22.121Z"
   },
   {
    "duration": 39,
    "start_time": "2022-03-09T04:46:37.938Z"
   },
   {
    "duration": 50,
    "start_time": "2022-03-09T04:47:18.742Z"
   },
   {
    "duration": 8,
    "start_time": "2022-03-09T04:47:35.051Z"
   },
   {
    "duration": 35,
    "start_time": "2022-03-09T04:48:10.609Z"
   },
   {
    "duration": 3,
    "start_time": "2022-03-09T04:48:29.881Z"
   },
   {
    "duration": 691,
    "start_time": "2022-03-09T04:48:29.886Z"
   },
   {
    "duration": 14,
    "start_time": "2022-03-09T04:48:30.579Z"
   },
   {
    "duration": 5,
    "start_time": "2022-03-09T04:48:30.601Z"
   },
   {
    "duration": 85,
    "start_time": "2022-03-09T04:48:30.607Z"
   },
   {
    "duration": 7,
    "start_time": "2022-03-09T04:48:59.892Z"
   },
   {
    "duration": 4,
    "start_time": "2022-03-09T04:49:36.031Z"
   },
   {
    "duration": 669,
    "start_time": "2022-03-09T04:49:36.037Z"
   },
   {
    "duration": 14,
    "start_time": "2022-03-09T04:49:36.708Z"
   },
   {
    "duration": 6,
    "start_time": "2022-03-09T04:49:36.723Z"
   },
   {
    "duration": 80,
    "start_time": "2022-03-09T04:49:36.730Z"
   },
   {
    "duration": 7,
    "start_time": "2022-03-09T04:50:13.698Z"
   },
   {
    "duration": 49,
    "start_time": "2022-03-09T04:51:35.007Z"
   },
   {
    "duration": 9,
    "start_time": "2022-03-09T04:52:11.646Z"
   },
   {
    "duration": 4,
    "start_time": "2022-03-09T04:55:55.692Z"
   },
   {
    "duration": 668,
    "start_time": "2022-03-09T04:55:55.698Z"
   },
   {
    "duration": 13,
    "start_time": "2022-03-09T04:55:56.368Z"
   },
   {
    "duration": 6,
    "start_time": "2022-03-09T04:55:56.383Z"
   },
   {
    "duration": 3,
    "start_time": "2022-03-09T04:55:56.401Z"
   },
   {
    "duration": 3383,
    "start_time": "2022-03-09T04:55:56.406Z"
   },
   {
    "duration": 2,
    "start_time": "2022-03-09T04:55:59.791Z"
   },
   {
    "duration": 9,
    "start_time": "2022-03-09T04:55:59.795Z"
   },
   {
    "duration": 7,
    "start_time": "2022-03-09T04:55:59.805Z"
   },
   {
    "duration": 7,
    "start_time": "2022-03-09T04:55:59.814Z"
   },
   {
    "duration": 2,
    "start_time": "2022-03-09T04:55:59.822Z"
   },
   {
    "duration": 14,
    "start_time": "2022-03-09T04:55:59.826Z"
   },
   {
    "duration": 7,
    "start_time": "2022-03-09T04:55:59.841Z"
   },
   {
    "duration": 77,
    "start_time": "2022-03-09T04:55:59.850Z"
   },
   {
    "duration": 6,
    "start_time": "2022-03-09T04:55:59.929Z"
   },
   {
    "duration": 21,
    "start_time": "2022-03-09T04:56:48.312Z"
   },
   {
    "duration": 304,
    "start_time": "2022-03-09T05:06:43.856Z"
   },
   {
    "duration": 24,
    "start_time": "2022-03-09T05:08:01.893Z"
   },
   {
    "duration": 30,
    "start_time": "2022-03-09T05:09:05.644Z"
   },
   {
    "duration": 6,
    "start_time": "2022-03-09T05:09:18.568Z"
   },
   {
    "duration": 4,
    "start_time": "2022-03-09T05:10:05.373Z"
   },
   {
    "duration": 269,
    "start_time": "2022-03-09T05:19:44.369Z"
   },
   {
    "duration": 214,
    "start_time": "2022-03-09T05:20:23.877Z"
   },
   {
    "duration": 518,
    "start_time": "2022-03-09T05:23:25.936Z"
   },
   {
    "duration": 533,
    "start_time": "2022-03-09T05:24:02.017Z"
   },
   {
    "duration": 524,
    "start_time": "2022-03-09T05:24:31.858Z"
   },
   {
    "duration": 532,
    "start_time": "2022-03-09T05:25:07.986Z"
   },
   {
    "duration": 103,
    "start_time": "2022-03-09T05:25:45.002Z"
   },
   {
    "duration": 219,
    "start_time": "2022-03-09T05:26:03.370Z"
   },
   {
    "duration": 6,
    "start_time": "2022-03-09T05:35:00.263Z"
   },
   {
    "duration": 8,
    "start_time": "2022-03-09T05:37:43.761Z"
   },
   {
    "duration": 9,
    "start_time": "2022-03-09T08:59:39.267Z"
   },
   {
    "duration": 9696,
    "start_time": "2022-03-09T09:12:07.690Z"
   },
   {
    "duration": 685,
    "start_time": "2022-03-09T09:13:34.999Z"
   },
   {
    "duration": 7,
    "start_time": "2022-03-09T09:27:15.981Z"
   },
   {
    "duration": 596,
    "start_time": "2022-03-09T09:31:33.591Z"
   },
   {
    "duration": 435,
    "start_time": "2022-03-09T09:31:43.187Z"
   },
   {
    "duration": 203,
    "start_time": "2022-03-09T09:31:49.657Z"
   },
   {
    "duration": 5,
    "start_time": "2022-03-09T09:32:24.454Z"
   },
   {
    "duration": 4,
    "start_time": "2022-03-09T09:36:56.076Z"
   },
   {
    "duration": 4,
    "start_time": "2022-03-09T09:37:43.842Z"
   },
   {
    "duration": 93,
    "start_time": "2022-03-09T09:42:32.851Z"
   },
   {
    "duration": 7,
    "start_time": "2022-03-09T09:42:42.172Z"
   },
   {
    "duration": 7,
    "start_time": "2022-03-09T09:49:55.375Z"
   },
   {
    "duration": 391,
    "start_time": "2022-03-09T13:29:34.879Z"
   },
   {
    "duration": 1431,
    "start_time": "2022-03-09T13:29:50.179Z"
   },
   {
    "duration": 1126,
    "start_time": "2022-03-09T13:29:51.612Z"
   },
   {
    "duration": 13,
    "start_time": "2022-03-09T13:29:52.740Z"
   },
   {
    "duration": 16,
    "start_time": "2022-03-09T13:51:25.001Z"
   },
   {
    "duration": 13,
    "start_time": "2022-03-09T13:51:50.081Z"
   },
   {
    "duration": 7,
    "start_time": "2022-03-09T14:10:34.319Z"
   },
   {
    "duration": 10,
    "start_time": "2022-03-09T14:10:44.982Z"
   },
   {
    "duration": 7,
    "start_time": "2022-03-09T14:10:49.691Z"
   },
   {
    "duration": 27,
    "start_time": "2022-03-09T15:03:02.958Z"
   },
   {
    "duration": 12,
    "start_time": "2022-03-09T15:03:09.769Z"
   },
   {
    "duration": 8,
    "start_time": "2022-03-09T15:03:12.184Z"
   },
   {
    "duration": 4,
    "start_time": "2022-03-09T15:26:14.090Z"
   },
   {
    "duration": 5497,
    "start_time": "2022-03-09T15:31:50.931Z"
   },
   {
    "duration": 6,
    "start_time": "2022-03-09T15:34:15.522Z"
   },
   {
    "duration": 920,
    "start_time": "2022-03-09T15:34:15.531Z"
   },
   {
    "duration": 9,
    "start_time": "2022-03-09T15:34:16.454Z"
   },
   {
    "duration": 12,
    "start_time": "2022-03-09T15:34:16.466Z"
   },
   {
    "duration": 22,
    "start_time": "2022-03-09T15:34:16.480Z"
   },
   {
    "duration": 31,
    "start_time": "2022-03-09T15:34:16.505Z"
   },
   {
    "duration": 4,
    "start_time": "2022-03-09T15:34:16.539Z"
   },
   {
    "duration": 9,
    "start_time": "2022-03-09T15:34:16.546Z"
   },
   {
    "duration": 12,
    "start_time": "2022-03-09T15:34:16.558Z"
   },
   {
    "duration": 11,
    "start_time": "2022-03-09T15:34:30.648Z"
   },
   {
    "duration": 10,
    "start_time": "2022-03-09T15:35:55.455Z"
   },
   {
    "duration": 13,
    "start_time": "2022-03-09T15:36:54.077Z"
   },
   {
    "duration": 7308,
    "start_time": "2022-03-09T15:37:01.724Z"
   },
   {
    "duration": 11,
    "start_time": "2022-03-09T15:38:06.292Z"
   },
   {
    "duration": 12,
    "start_time": "2022-03-09T15:38:20.824Z"
   },
   {
    "duration": 15,
    "start_time": "2022-03-09T15:38:30.951Z"
   },
   {
    "duration": 70,
    "start_time": "2022-03-09T15:38:39.782Z"
   },
   {
    "duration": 6,
    "start_time": "2022-03-09T15:38:42.332Z"
   },
   {
    "duration": 7,
    "start_time": "2022-03-09T19:05:06.046Z"
   },
   {
    "duration": 1299,
    "start_time": "2022-03-09T19:05:06.056Z"
   },
   {
    "duration": 12,
    "start_time": "2022-03-09T19:05:07.359Z"
   },
   {
    "duration": 14,
    "start_time": "2022-03-09T19:05:07.374Z"
   },
   {
    "duration": 60,
    "start_time": "2022-03-09T19:05:07.391Z"
   },
   {
    "duration": 8,
    "start_time": "2022-03-09T19:05:07.454Z"
   },
   {
    "duration": 3,
    "start_time": "2022-03-09T19:05:07.465Z"
   },
   {
    "duration": 12,
    "start_time": "2022-03-09T19:05:07.471Z"
   },
   {
    "duration": 53,
    "start_time": "2022-03-09T19:05:07.486Z"
   },
   {
    "duration": 5558,
    "start_time": "2022-03-09T19:05:07.541Z"
   },
   {
    "duration": 9,
    "start_time": "2022-03-09T19:05:13.101Z"
   },
   {
    "duration": 27,
    "start_time": "2022-03-09T19:05:13.112Z"
   },
   {
    "duration": 14,
    "start_time": "2022-03-09T19:05:13.141Z"
   },
   {
    "duration": 106,
    "start_time": "2022-03-09T19:05:13.158Z"
   },
   {
    "duration": 11,
    "start_time": "2022-03-09T19:05:13.266Z"
   },
   {
    "duration": 272,
    "start_time": "2022-03-09T21:06:14.411Z"
   },
   {
    "duration": 1133,
    "start_time": "2022-03-09T21:06:26.025Z"
   },
   {
    "duration": 4,
    "start_time": "2022-03-09T21:06:44.834Z"
   },
   {
    "duration": 822,
    "start_time": "2022-03-09T21:06:44.841Z"
   },
   {
    "duration": 11,
    "start_time": "2022-03-09T21:06:45.665Z"
   },
   {
    "duration": 25,
    "start_time": "2022-03-09T21:06:45.678Z"
   },
   {
    "duration": 41,
    "start_time": "2022-03-09T21:06:45.705Z"
   },
   {
    "duration": 6,
    "start_time": "2022-03-09T21:06:45.749Z"
   },
   {
    "duration": 18,
    "start_time": "2022-03-09T21:06:45.757Z"
   },
   {
    "duration": 25,
    "start_time": "2022-03-09T21:06:45.777Z"
   },
   {
    "duration": 20,
    "start_time": "2022-03-09T21:06:45.804Z"
   },
   {
    "duration": 4122,
    "start_time": "2022-03-09T21:06:45.827Z"
   },
   {
    "duration": 8,
    "start_time": "2022-03-09T21:06:49.951Z"
   },
   {
    "duration": 21,
    "start_time": "2022-03-09T21:06:49.962Z"
   },
   {
    "duration": 25,
    "start_time": "2022-03-09T21:06:49.985Z"
   },
   {
    "duration": 106,
    "start_time": "2022-03-09T21:06:50.011Z"
   },
   {
    "duration": 14,
    "start_time": "2022-03-09T21:06:50.119Z"
   },
   {
    "duration": 673,
    "start_time": "2022-03-09T21:06:50.135Z"
   },
   {
    "duration": 776,
    "start_time": "2022-03-09T21:07:08.530Z"
   },
   {
    "duration": 495,
    "start_time": "2022-03-09T21:07:43.262Z"
   },
   {
    "duration": 565,
    "start_time": "2022-03-09T21:08:00.207Z"
   },
   {
    "duration": 681,
    "start_time": "2022-03-09T21:08:15.151Z"
   },
   {
    "duration": 308,
    "start_time": "2022-03-09T21:08:21.180Z"
   },
   {
    "duration": 469,
    "start_time": "2022-03-09T21:08:26.977Z"
   },
   {
    "duration": 757,
    "start_time": "2022-03-09T21:08:51.355Z"
   },
   {
    "duration": 960,
    "start_time": "2022-03-09T21:09:02.714Z"
   },
   {
    "duration": 221,
    "start_time": "2022-03-09T21:11:24.611Z"
   },
   {
    "duration": 299,
    "start_time": "2022-03-09T21:11:42.089Z"
   },
   {
    "duration": 252,
    "start_time": "2022-03-09T21:12:03.924Z"
   },
   {
    "duration": 7,
    "start_time": "2022-03-09T21:18:04.474Z"
   },
   {
    "duration": 8,
    "start_time": "2022-03-09T21:19:09.354Z"
   },
   {
    "duration": 9,
    "start_time": "2022-03-09T21:24:25.393Z"
   },
   {
    "duration": 10,
    "start_time": "2022-03-09T21:25:54.396Z"
   },
   {
    "duration": 9,
    "start_time": "2022-03-09T21:26:03.290Z"
   },
   {
    "duration": 9,
    "start_time": "2022-03-09T21:26:26.669Z"
   },
   {
    "duration": 8,
    "start_time": "2022-03-09T21:27:36.297Z"
   },
   {
    "duration": 8,
    "start_time": "2022-03-09T21:27:42.848Z"
   },
   {
    "duration": 8,
    "start_time": "2022-03-09T21:27:46.883Z"
   },
   {
    "duration": 9,
    "start_time": "2022-03-09T21:29:35.340Z"
   },
   {
    "duration": 10,
    "start_time": "2022-03-09T21:46:39.748Z"
   },
   {
    "duration": 75,
    "start_time": "2022-03-09T21:55:38.483Z"
   },
   {
    "duration": 80,
    "start_time": "2022-03-09T21:55:59.317Z"
   },
   {
    "duration": 13,
    "start_time": "2022-03-09T21:56:59.721Z"
   },
   {
    "duration": 14,
    "start_time": "2022-03-09T21:57:27.461Z"
   },
   {
    "duration": 14,
    "start_time": "2022-03-09T21:57:37.256Z"
   },
   {
    "duration": 14,
    "start_time": "2022-03-09T21:57:40.913Z"
   },
   {
    "duration": 14,
    "start_time": "2022-03-09T21:57:46.111Z"
   },
   {
    "duration": 13,
    "start_time": "2022-03-09T21:58:26.945Z"
   },
   {
    "duration": 10,
    "start_time": "2022-03-09T22:01:31.697Z"
   },
   {
    "duration": 11,
    "start_time": "2022-03-09T22:04:34.260Z"
   },
   {
    "duration": 14,
    "start_time": "2022-03-09T22:07:05.299Z"
   },
   {
    "duration": 497,
    "start_time": "2022-03-10T12:46:51.018Z"
   },
   {
    "duration": 1543,
    "start_time": "2022-03-10T12:47:04.726Z"
   },
   {
    "duration": 911,
    "start_time": "2022-03-10T12:47:06.272Z"
   },
   {
    "duration": 16,
    "start_time": "2022-03-10T12:47:07.186Z"
   },
   {
    "duration": 30,
    "start_time": "2022-03-10T12:47:07.205Z"
   },
   {
    "duration": 26,
    "start_time": "2022-03-10T12:47:07.238Z"
   },
   {
    "duration": 7,
    "start_time": "2022-03-10T12:47:07.266Z"
   },
   {
    "duration": 12,
    "start_time": "2022-03-10T12:47:07.276Z"
   },
   {
    "duration": 41,
    "start_time": "2022-03-10T12:47:07.293Z"
   },
   {
    "duration": 20,
    "start_time": "2022-03-10T12:47:07.337Z"
   },
   {
    "duration": 5666,
    "start_time": "2022-03-10T12:47:07.359Z"
   },
   {
    "duration": 13,
    "start_time": "2022-03-10T12:47:13.028Z"
   },
   {
    "duration": 28,
    "start_time": "2022-03-10T12:47:13.044Z"
   },
   {
    "duration": 15,
    "start_time": "2022-03-10T12:47:13.074Z"
   },
   {
    "duration": 117,
    "start_time": "2022-03-10T12:47:13.091Z"
   },
   {
    "duration": 22,
    "start_time": "2022-03-10T12:47:13.211Z"
   },
   {
    "duration": 25,
    "start_time": "2022-03-10T12:47:13.237Z"
   },
   {
    "duration": 340,
    "start_time": "2022-03-10T12:47:13.265Z"
   },
   {
    "duration": 327,
    "start_time": "2022-03-10T12:47:36.070Z"
   },
   {
    "duration": 325,
    "start_time": "2022-03-10T12:48:35.210Z"
   },
   {
    "duration": 303,
    "start_time": "2022-03-10T12:49:02.262Z"
   },
   {
    "duration": 304,
    "start_time": "2022-03-10T12:49:13.296Z"
   },
   {
    "duration": 334,
    "start_time": "2022-03-10T12:49:25.410Z"
   },
   {
    "duration": 382,
    "start_time": "2022-03-10T12:49:39.819Z"
   },
   {
    "duration": 426,
    "start_time": "2022-03-10T12:49:52.961Z"
   },
   {
    "duration": 323,
    "start_time": "2022-03-10T12:50:02.516Z"
   },
   {
    "duration": 301,
    "start_time": "2022-03-10T12:50:47.540Z"
   },
   {
    "duration": 339,
    "start_time": "2022-03-10T12:51:00.542Z"
   },
   {
    "duration": 327,
    "start_time": "2022-03-10T12:51:25.184Z"
   },
   {
    "duration": 377,
    "start_time": "2022-03-10T12:52:42.360Z"
   },
   {
    "duration": 333,
    "start_time": "2022-03-10T12:55:30.082Z"
   },
   {
    "duration": 117,
    "start_time": "2022-03-10T12:55:55.372Z"
   },
   {
    "duration": 116,
    "start_time": "2022-03-10T12:56:05.818Z"
   },
   {
    "duration": 126,
    "start_time": "2022-03-10T12:56:28.584Z"
   },
   {
    "duration": 328,
    "start_time": "2022-03-10T12:56:52.417Z"
   },
   {
    "duration": 339,
    "start_time": "2022-03-10T12:57:03.384Z"
   },
   {
    "duration": 8092,
    "start_time": "2022-03-10T12:57:22.140Z"
   },
   {
    "duration": 10237,
    "start_time": "2022-03-10T12:57:45.866Z"
   },
   {
    "duration": 472,
    "start_time": "2022-03-10T12:58:03.338Z"
   },
   {
    "duration": 318,
    "start_time": "2022-03-10T12:58:17.456Z"
   },
   {
    "duration": 330,
    "start_time": "2022-03-10T12:58:43.546Z"
   },
   {
    "duration": 312,
    "start_time": "2022-03-10T12:59:18.958Z"
   },
   {
    "duration": 353,
    "start_time": "2022-03-10T12:59:44.831Z"
   },
   {
    "duration": 327,
    "start_time": "2022-03-10T13:00:03.122Z"
   },
   {
    "duration": 347,
    "start_time": "2022-03-10T13:00:28.603Z"
   },
   {
    "duration": 327,
    "start_time": "2022-03-10T13:00:39.768Z"
   },
   {
    "duration": 323,
    "start_time": "2022-03-10T13:00:56.227Z"
   },
   {
    "duration": 325,
    "start_time": "2022-03-10T13:01:15.781Z"
   },
   {
    "duration": 462,
    "start_time": "2022-03-10T13:01:44.043Z"
   },
   {
    "duration": 465,
    "start_time": "2022-03-10T13:01:50.367Z"
   },
   {
    "duration": 337,
    "start_time": "2022-03-10T13:17:43.032Z"
   },
   {
    "duration": 12,
    "start_time": "2022-03-10T13:41:28.354Z"
   },
   {
    "duration": 14,
    "start_time": "2022-03-10T13:43:05.272Z"
   },
   {
    "duration": 321,
    "start_time": "2022-03-10T13:43:45.916Z"
   },
   {
    "duration": 354,
    "start_time": "2022-03-10T13:43:55.384Z"
   },
   {
    "duration": 18,
    "start_time": "2022-03-10T13:44:17.446Z"
   },
   {
    "duration": 12,
    "start_time": "2022-03-10T13:44:48.363Z"
   },
   {
    "duration": 9,
    "start_time": "2022-03-10T13:45:01.279Z"
   },
   {
    "duration": 166,
    "start_time": "2022-03-10T13:46:10.107Z"
   },
   {
    "duration": 13,
    "start_time": "2022-03-10T13:46:17.554Z"
   },
   {
    "duration": 11,
    "start_time": "2022-03-10T13:46:25.405Z"
   },
   {
    "duration": 13,
    "start_time": "2022-03-10T13:46:41.650Z"
   },
   {
    "duration": 13,
    "start_time": "2022-03-10T13:47:31.750Z"
   },
   {
    "duration": 390,
    "start_time": "2022-03-10T14:05:51.348Z"
   },
   {
    "duration": 13,
    "start_time": "2022-03-10T14:05:55.752Z"
   },
   {
    "duration": 10,
    "start_time": "2022-03-10T14:12:39.520Z"
   },
   {
    "duration": 357,
    "start_time": "2022-03-10T14:13:03.699Z"
   },
   {
    "duration": 342,
    "start_time": "2022-03-10T14:13:24.157Z"
   },
   {
    "duration": 340,
    "start_time": "2022-03-10T14:13:31.341Z"
   },
   {
    "duration": 618,
    "start_time": "2022-03-10T14:16:51.596Z"
   },
   {
    "duration": 1045,
    "start_time": "2022-03-10T14:17:30.753Z"
   },
   {
    "duration": 706,
    "start_time": "2022-03-10T14:18:59.299Z"
   },
   {
    "duration": 768,
    "start_time": "2022-03-10T14:19:27.937Z"
   },
   {
    "duration": 715,
    "start_time": "2022-03-10T14:20:08.061Z"
   },
   {
    "duration": 924,
    "start_time": "2022-03-10T14:20:27.094Z"
   },
   {
    "duration": 935,
    "start_time": "2022-03-10T14:20:31.282Z"
   },
   {
    "duration": 707,
    "start_time": "2022-03-10T14:20:41.904Z"
   },
   {
    "duration": 669,
    "start_time": "2022-03-10T14:21:42.307Z"
   },
   {
    "duration": 719,
    "start_time": "2022-03-10T14:23:41.522Z"
   },
   {
    "duration": 741,
    "start_time": "2022-03-10T14:25:30.394Z"
   },
   {
    "duration": 770,
    "start_time": "2022-03-10T14:26:07.730Z"
   },
   {
    "duration": 735,
    "start_time": "2022-03-10T14:27:44.371Z"
   },
   {
    "duration": 1214,
    "start_time": "2022-03-10T14:31:10.624Z"
   },
   {
    "duration": 745,
    "start_time": "2022-03-10T14:31:36.931Z"
   },
   {
    "duration": 783,
    "start_time": "2022-03-10T14:31:39.927Z"
   },
   {
    "duration": 733,
    "start_time": "2022-03-10T14:31:50.584Z"
   },
   {
    "duration": 747,
    "start_time": "2022-03-10T14:32:45.729Z"
   },
   {
    "duration": 770,
    "start_time": "2022-03-10T14:33:08.312Z"
   },
   {
    "duration": 385,
    "start_time": "2022-03-10T14:45:19.166Z"
   },
   {
    "duration": 386,
    "start_time": "2022-03-10T14:45:51.261Z"
   },
   {
    "duration": 244,
    "start_time": "2022-03-10T14:46:00.580Z"
   },
   {
    "duration": 405,
    "start_time": "2022-03-10T14:46:34.277Z"
   },
   {
    "duration": 363,
    "start_time": "2022-03-10T14:52:32.189Z"
   },
   {
    "duration": 686,
    "start_time": "2022-03-10T14:53:04.144Z"
   },
   {
    "duration": 6,
    "start_time": "2022-03-10T14:53:42.527Z"
   },
   {
    "duration": 866,
    "start_time": "2022-03-10T14:53:42.541Z"
   },
   {
    "duration": 10,
    "start_time": "2022-03-10T14:53:43.409Z"
   },
   {
    "duration": 11,
    "start_time": "2022-03-10T14:53:43.433Z"
   },
   {
    "duration": 22,
    "start_time": "2022-03-10T14:53:43.447Z"
   },
   {
    "duration": 7,
    "start_time": "2022-03-10T14:53:43.472Z"
   },
   {
    "duration": 3,
    "start_time": "2022-03-10T14:53:43.481Z"
   },
   {
    "duration": 52,
    "start_time": "2022-03-10T14:53:43.487Z"
   },
   {
    "duration": 14,
    "start_time": "2022-03-10T14:53:43.544Z"
   },
   {
    "duration": 5477,
    "start_time": "2022-03-10T14:53:43.562Z"
   },
   {
    "duration": 10,
    "start_time": "2022-03-10T14:53:49.041Z"
   },
   {
    "duration": 12,
    "start_time": "2022-03-10T14:53:49.053Z"
   },
   {
    "duration": 14,
    "start_time": "2022-03-10T14:53:49.068Z"
   },
   {
    "duration": 110,
    "start_time": "2022-03-10T14:53:49.084Z"
   },
   {
    "duration": 7,
    "start_time": "2022-03-10T14:53:49.196Z"
   },
   {
    "duration": 42,
    "start_time": "2022-03-10T14:53:49.205Z"
   },
   {
    "duration": 355,
    "start_time": "2022-03-10T14:53:49.249Z"
   },
   {
    "duration": 12,
    "start_time": "2022-03-10T14:53:49.607Z"
   },
   {
    "duration": 762,
    "start_time": "2022-03-10T14:53:49.633Z"
   },
   {
    "duration": 367,
    "start_time": "2022-03-10T14:53:50.398Z"
   },
   {
    "duration": 359,
    "start_time": "2022-03-10T14:55:01.964Z"
   },
   {
    "duration": 345,
    "start_time": "2022-03-10T15:00:47.406Z"
   },
   {
    "duration": 8,
    "start_time": "2022-03-10T15:01:32.594Z"
   },
   {
    "duration": 8,
    "start_time": "2022-03-10T15:01:42.698Z"
   },
   {
    "duration": 10,
    "start_time": "2022-03-10T15:04:05.075Z"
   },
   {
    "duration": 753,
    "start_time": "2022-03-10T15:04:30.338Z"
   },
   {
    "duration": 6,
    "start_time": "2022-03-10T15:05:47.178Z"
   },
   {
    "duration": 904,
    "start_time": "2022-03-10T15:05:47.186Z"
   },
   {
    "duration": 9,
    "start_time": "2022-03-10T15:05:48.093Z"
   },
   {
    "duration": 32,
    "start_time": "2022-03-10T15:05:48.105Z"
   },
   {
    "duration": 21,
    "start_time": "2022-03-10T15:05:48.139Z"
   },
   {
    "duration": 6,
    "start_time": "2022-03-10T15:05:48.163Z"
   },
   {
    "duration": 3,
    "start_time": "2022-03-10T15:05:48.171Z"
   },
   {
    "duration": 10,
    "start_time": "2022-03-10T15:05:48.178Z"
   },
   {
    "duration": 14,
    "start_time": "2022-03-10T15:05:48.234Z"
   },
   {
    "duration": 5568,
    "start_time": "2022-03-10T15:05:48.251Z"
   },
   {
    "duration": 14,
    "start_time": "2022-03-10T15:05:53.821Z"
   },
   {
    "duration": 12,
    "start_time": "2022-03-10T15:05:53.837Z"
   },
   {
    "duration": 15,
    "start_time": "2022-03-10T15:05:53.852Z"
   },
   {
    "duration": 120,
    "start_time": "2022-03-10T15:05:53.869Z"
   },
   {
    "duration": 9,
    "start_time": "2022-03-10T15:05:53.992Z"
   },
   {
    "duration": 18,
    "start_time": "2022-03-10T15:05:54.032Z"
   },
   {
    "duration": 345,
    "start_time": "2022-03-10T15:05:54.052Z"
   },
   {
    "duration": 13,
    "start_time": "2022-03-10T15:05:54.399Z"
   },
   {
    "duration": 759,
    "start_time": "2022-03-10T15:05:54.414Z"
   },
   {
    "duration": 414,
    "start_time": "2022-03-10T15:05:55.175Z"
   },
   {
    "duration": 1266,
    "start_time": "2022-03-10T15:05:54.326Z"
   },
   {
    "duration": 1240,
    "start_time": "2022-03-10T15:05:54.354Z"
   },
   {
    "duration": 14,
    "start_time": "2022-03-10T15:06:13.777Z"
   },
   {
    "duration": 872,
    "start_time": "2022-03-10T15:06:14.779Z"
   },
   {
    "duration": 10,
    "start_time": "2022-03-10T15:06:50.870Z"
   },
   {
    "duration": 756,
    "start_time": "2022-03-10T15:06:50.988Z"
   },
   {
    "duration": 6,
    "start_time": "2022-03-10T15:07:21.069Z"
   },
   {
    "duration": 902,
    "start_time": "2022-03-10T15:07:21.119Z"
   },
   {
    "duration": 14,
    "start_time": "2022-03-10T15:07:22.024Z"
   },
   {
    "duration": 13,
    "start_time": "2022-03-10T15:07:22.043Z"
   },
   {
    "duration": 26,
    "start_time": "2022-03-10T15:07:22.059Z"
   },
   {
    "duration": 48,
    "start_time": "2022-03-10T15:07:22.088Z"
   },
   {
    "duration": 4,
    "start_time": "2022-03-10T15:07:22.139Z"
   },
   {
    "duration": 12,
    "start_time": "2022-03-10T15:07:22.146Z"
   },
   {
    "duration": 13,
    "start_time": "2022-03-10T15:07:22.164Z"
   },
   {
    "duration": 5462,
    "start_time": "2022-03-10T15:07:22.232Z"
   },
   {
    "duration": 9,
    "start_time": "2022-03-10T15:07:27.697Z"
   },
   {
    "duration": 30,
    "start_time": "2022-03-10T15:07:27.709Z"
   },
   {
    "duration": 13,
    "start_time": "2022-03-10T15:07:27.742Z"
   },
   {
    "duration": 93,
    "start_time": "2022-03-10T15:07:27.757Z"
   },
   {
    "duration": 6,
    "start_time": "2022-03-10T15:07:27.853Z"
   },
   {
    "duration": 19,
    "start_time": "2022-03-10T15:07:27.861Z"
   },
   {
    "duration": 372,
    "start_time": "2022-03-10T15:07:27.883Z"
   },
   {
    "duration": 13,
    "start_time": "2022-03-10T15:07:28.257Z"
   },
   {
    "duration": 754,
    "start_time": "2022-03-10T15:07:28.272Z"
   },
   {
    "duration": 18,
    "start_time": "2022-03-10T15:07:29.032Z"
   },
   {
    "duration": 730,
    "start_time": "2022-03-10T15:07:29.053Z"
   },
   {
    "duration": 732,
    "start_time": "2022-03-10T15:09:03.250Z"
   },
   {
    "duration": 1175,
    "start_time": "2022-03-10T15:09:39.352Z"
   },
   {
    "duration": 6,
    "start_time": "2022-03-10T15:10:37.162Z"
   },
   {
    "duration": 922,
    "start_time": "2022-03-10T15:10:37.174Z"
   },
   {
    "duration": 10,
    "start_time": "2022-03-10T15:10:38.099Z"
   },
   {
    "duration": 31,
    "start_time": "2022-03-10T15:10:38.112Z"
   },
   {
    "duration": 25,
    "start_time": "2022-03-10T15:10:38.146Z"
   },
   {
    "duration": 7,
    "start_time": "2022-03-10T15:10:38.173Z"
   },
   {
    "duration": 3,
    "start_time": "2022-03-10T15:10:38.182Z"
   },
   {
    "duration": 52,
    "start_time": "2022-03-10T15:10:38.187Z"
   },
   {
    "duration": 17,
    "start_time": "2022-03-10T15:10:38.241Z"
   },
   {
    "duration": 5421,
    "start_time": "2022-03-10T15:10:38.262Z"
   },
   {
    "duration": 9,
    "start_time": "2022-03-10T15:10:43.685Z"
   },
   {
    "duration": 12,
    "start_time": "2022-03-10T15:10:43.697Z"
   },
   {
    "duration": 15,
    "start_time": "2022-03-10T15:10:43.732Z"
   },
   {
    "duration": 97,
    "start_time": "2022-03-10T15:10:43.749Z"
   },
   {
    "duration": 9,
    "start_time": "2022-03-10T15:10:43.849Z"
   },
   {
    "duration": 19,
    "start_time": "2022-03-10T15:10:43.861Z"
   },
   {
    "duration": 381,
    "start_time": "2022-03-10T15:10:43.883Z"
   },
   {
    "duration": 13,
    "start_time": "2022-03-10T15:10:44.267Z"
   },
   {
    "duration": 780,
    "start_time": "2022-03-10T15:10:44.282Z"
   },
   {
    "duration": 19,
    "start_time": "2022-03-10T15:10:45.065Z"
   },
   {
    "duration": 738,
    "start_time": "2022-03-10T15:10:45.087Z"
   },
   {
    "duration": 10,
    "start_time": "2022-03-10T15:24:04.151Z"
   },
   {
    "duration": 17,
    "start_time": "2022-03-10T15:25:42.445Z"
   },
   {
    "duration": 16,
    "start_time": "2022-03-10T15:26:13.605Z"
   },
   {
    "duration": 16,
    "start_time": "2022-03-10T15:27:10.506Z"
   },
   {
    "duration": 17,
    "start_time": "2022-03-10T15:27:30.980Z"
   },
   {
    "duration": 1443,
    "start_time": "2022-03-11T14:56:20.312Z"
   },
   {
    "duration": 906,
    "start_time": "2022-03-11T14:56:21.758Z"
   },
   {
    "duration": 22,
    "start_time": "2022-03-11T14:56:22.668Z"
   },
   {
    "duration": 17,
    "start_time": "2022-03-11T14:56:22.694Z"
   },
   {
    "duration": 26,
    "start_time": "2022-03-11T14:56:22.714Z"
   },
   {
    "duration": 47,
    "start_time": "2022-03-11T14:56:22.742Z"
   },
   {
    "duration": 4,
    "start_time": "2022-03-11T14:56:22.792Z"
   },
   {
    "duration": 13,
    "start_time": "2022-03-11T14:56:22.801Z"
   },
   {
    "duration": 19,
    "start_time": "2022-03-11T14:56:22.818Z"
   },
   {
    "duration": 5651,
    "start_time": "2022-03-11T14:56:22.839Z"
   },
   {
    "duration": 10,
    "start_time": "2022-03-11T14:56:28.493Z"
   },
   {
    "duration": 20,
    "start_time": "2022-03-11T14:56:28.506Z"
   },
   {
    "duration": 16,
    "start_time": "2022-03-11T14:56:28.529Z"
   },
   {
    "duration": 106,
    "start_time": "2022-03-11T14:56:28.547Z"
   },
   {
    "duration": 12,
    "start_time": "2022-03-11T14:56:28.656Z"
   },
   {
    "duration": 18,
    "start_time": "2022-03-11T14:56:28.686Z"
   },
   {
    "duration": 394,
    "start_time": "2022-03-11T14:56:28.706Z"
   },
   {
    "duration": 13,
    "start_time": "2022-03-11T14:56:29.103Z"
   },
   {
    "duration": 823,
    "start_time": "2022-03-11T14:56:29.118Z"
   },
   {
    "duration": 17,
    "start_time": "2022-03-11T14:56:29.943Z"
   },
   {
    "duration": 768,
    "start_time": "2022-03-11T14:56:29.963Z"
   },
   {
    "duration": 18,
    "start_time": "2022-03-11T14:56:30.733Z"
   },
   {
    "duration": 407,
    "start_time": "2022-03-11T15:00:44.865Z"
   },
   {
    "duration": 221,
    "start_time": "2022-03-11T15:01:26.085Z"
   },
   {
    "duration": 5,
    "start_time": "2022-03-11T15:02:47.458Z"
   },
   {
    "duration": 5,
    "start_time": "2022-03-11T15:02:53.022Z"
   },
   {
    "duration": 4,
    "start_time": "2022-03-11T15:04:27.683Z"
   },
   {
    "duration": 4,
    "start_time": "2022-03-11T15:07:16.827Z"
   },
   {
    "duration": 10,
    "start_time": "2022-03-11T15:11:04.613Z"
   },
   {
    "duration": 3,
    "start_time": "2022-03-11T15:11:25.637Z"
   },
   {
    "duration": 10,
    "start_time": "2022-03-11T15:11:54.335Z"
   },
   {
    "duration": 8,
    "start_time": "2022-03-11T15:12:49.592Z"
   },
   {
    "duration": 92,
    "start_time": "2022-03-11T17:44:13.319Z"
   },
   {
    "duration": 1434,
    "start_time": "2022-03-11T17:44:26.857Z"
   },
   {
    "duration": 832,
    "start_time": "2022-03-11T17:44:28.294Z"
   },
   {
    "duration": 14,
    "start_time": "2022-03-11T17:44:29.130Z"
   },
   {
    "duration": 21,
    "start_time": "2022-03-11T17:44:29.147Z"
   },
   {
    "duration": 20,
    "start_time": "2022-03-11T17:44:29.184Z"
   },
   {
    "duration": 11,
    "start_time": "2022-03-11T17:44:29.206Z"
   },
   {
    "duration": 14,
    "start_time": "2022-03-11T17:44:29.220Z"
   },
   {
    "duration": 13,
    "start_time": "2022-03-11T17:44:29.237Z"
   },
   {
    "duration": 37,
    "start_time": "2022-03-11T17:44:29.254Z"
   },
   {
    "duration": 5255,
    "start_time": "2022-03-11T17:44:29.294Z"
   },
   {
    "duration": 9,
    "start_time": "2022-03-11T17:44:34.551Z"
   },
   {
    "duration": 27,
    "start_time": "2022-03-11T17:44:34.562Z"
   },
   {
    "duration": 14,
    "start_time": "2022-03-11T17:44:34.591Z"
   },
   {
    "duration": 92,
    "start_time": "2022-03-11T17:44:34.607Z"
   },
   {
    "duration": 13,
    "start_time": "2022-03-11T17:44:34.701Z"
   },
   {
    "duration": 18,
    "start_time": "2022-03-11T17:44:34.716Z"
   },
   {
    "duration": 350,
    "start_time": "2022-03-11T17:44:34.736Z"
   },
   {
    "duration": 12,
    "start_time": "2022-03-11T17:44:35.089Z"
   },
   {
    "duration": 734,
    "start_time": "2022-03-11T17:44:35.103Z"
   },
   {
    "duration": 18,
    "start_time": "2022-03-11T17:44:35.839Z"
   },
   {
    "duration": 734,
    "start_time": "2022-03-11T17:44:35.859Z"
   },
   {
    "duration": 19,
    "start_time": "2022-03-11T17:44:36.596Z"
   },
   {
    "duration": 5,
    "start_time": "2022-03-11T17:44:36.617Z"
   },
   {
    "duration": 102,
    "start_time": "2022-03-11T17:44:36.625Z"
   },
   {
    "duration": 14,
    "start_time": "2022-03-11T17:44:46.003Z"
   },
   {
    "duration": 18,
    "start_time": "2022-03-11T17:45:34.162Z"
   },
   {
    "duration": 16,
    "start_time": "2022-03-11T17:45:42.544Z"
   },
   {
    "duration": 15,
    "start_time": "2022-03-11T17:45:47.235Z"
   },
   {
    "duration": 15,
    "start_time": "2022-03-11T17:45:51.695Z"
   },
   {
    "duration": 18,
    "start_time": "2022-03-11T17:45:59.169Z"
   },
   {
    "duration": 20,
    "start_time": "2022-03-11T17:46:02.594Z"
   },
   {
    "duration": 17,
    "start_time": "2022-03-11T17:46:15.252Z"
   },
   {
    "duration": 30,
    "start_time": "2022-03-11T17:46:30.069Z"
   },
   {
    "duration": 20,
    "start_time": "2022-03-11T17:47:28.650Z"
   },
   {
    "duration": 13,
    "start_time": "2022-03-11T17:47:37.455Z"
   },
   {
    "duration": 23,
    "start_time": "2022-03-11T17:53:06.617Z"
   },
   {
    "duration": 10,
    "start_time": "2022-03-11T17:57:15.697Z"
   },
   {
    "duration": 7,
    "start_time": "2022-03-11T18:05:27.078Z"
   },
   {
    "duration": 517,
    "start_time": "2022-03-11T18:08:28.119Z"
   },
   {
    "duration": 5,
    "start_time": "2022-03-11T18:12:56.315Z"
   },
   {
    "duration": 5,
    "start_time": "2022-03-11T18:14:02.330Z"
   },
   {
    "duration": 301,
    "start_time": "2022-03-11T18:16:16.226Z"
   },
   {
    "duration": 6,
    "start_time": "2022-03-11T18:17:00.561Z"
   },
   {
    "duration": 26,
    "start_time": "2022-03-11T18:17:12.668Z"
   },
   {
    "duration": 284,
    "start_time": "2022-03-11T18:17:18.026Z"
   },
   {
    "duration": 2319,
    "start_time": "2022-03-11T18:17:36.462Z"
   },
   {
    "duration": 6,
    "start_time": "2022-03-11T18:17:51.639Z"
   },
   {
    "duration": 923,
    "start_time": "2022-03-11T18:17:51.649Z"
   },
   {
    "duration": 16,
    "start_time": "2022-03-11T18:17:52.575Z"
   },
   {
    "duration": 24,
    "start_time": "2022-03-11T18:17:52.596Z"
   },
   {
    "duration": 20,
    "start_time": "2022-03-11T18:17:52.623Z"
   },
   {
    "duration": 46,
    "start_time": "2022-03-11T18:17:52.645Z"
   },
   {
    "duration": 4,
    "start_time": "2022-03-11T18:17:52.694Z"
   },
   {
    "duration": 10,
    "start_time": "2022-03-11T18:17:52.702Z"
   },
   {
    "duration": 15,
    "start_time": "2022-03-11T18:17:52.715Z"
   },
   {
    "duration": 5650,
    "start_time": "2022-03-11T18:17:52.732Z"
   },
   {
    "duration": 12,
    "start_time": "2022-03-11T18:17:58.385Z"
   },
   {
    "duration": 16,
    "start_time": "2022-03-11T18:17:58.400Z"
   },
   {
    "duration": 25,
    "start_time": "2022-03-11T18:17:58.418Z"
   },
   {
    "duration": 113,
    "start_time": "2022-03-11T18:17:58.445Z"
   },
   {
    "duration": 24,
    "start_time": "2022-03-11T18:17:58.561Z"
   },
   {
    "duration": 21,
    "start_time": "2022-03-11T18:17:58.588Z"
   },
   {
    "duration": 425,
    "start_time": "2022-03-11T18:17:58.612Z"
   },
   {
    "duration": 16,
    "start_time": "2022-03-11T18:17:59.041Z"
   },
   {
    "duration": 792,
    "start_time": "2022-03-11T18:17:59.059Z"
   },
   {
    "duration": 37,
    "start_time": "2022-03-11T18:17:59.854Z"
   },
   {
    "duration": 791,
    "start_time": "2022-03-11T18:17:59.895Z"
   },
   {
    "duration": 22,
    "start_time": "2022-03-11T18:18:00.689Z"
   },
   {
    "duration": 13,
    "start_time": "2022-03-11T18:18:00.715Z"
   },
   {
    "duration": 30,
    "start_time": "2022-03-11T18:18:00.731Z"
   },
   {
    "duration": 56,
    "start_time": "2022-03-11T18:18:00.763Z"
   },
   {
    "duration": 2172,
    "start_time": "2022-03-11T18:18:00.822Z"
   },
   {
    "duration": 2127,
    "start_time": "2022-03-11T18:23:25.076Z"
   },
   {
    "duration": 281,
    "start_time": "2022-03-11T18:25:35.671Z"
   },
   {
    "duration": 382,
    "start_time": "2022-03-11T18:27:36.038Z"
   },
   {
    "duration": 378,
    "start_time": "2022-03-11T18:28:03.661Z"
   },
   {
    "duration": 2165,
    "start_time": "2022-03-11T18:29:46.043Z"
   },
   {
    "duration": 626,
    "start_time": "2022-03-11T18:31:07.778Z"
   },
   {
    "duration": 686,
    "start_time": "2022-03-11T18:31:12.006Z"
   },
   {
    "duration": 1844,
    "start_time": "2022-03-11T18:31:16.654Z"
   },
   {
    "duration": 4162,
    "start_time": "2022-03-11T18:31:21.329Z"
   },
   {
    "duration": 1736,
    "start_time": "2022-03-11T18:31:29.253Z"
   },
   {
    "duration": 317,
    "start_time": "2022-03-11T18:35:57.356Z"
   },
   {
    "duration": 241,
    "start_time": "2022-03-11T18:36:10.449Z"
   },
   {
    "duration": 142,
    "start_time": "2022-03-11T18:36:24.954Z"
   },
   {
    "duration": 509,
    "start_time": "2022-03-11T18:37:16.974Z"
   },
   {
    "duration": 1978,
    "start_time": "2022-03-11T18:37:57.919Z"
   },
   {
    "duration": 1960,
    "start_time": "2022-03-11T18:43:09.145Z"
   },
   {
    "duration": 1951,
    "start_time": "2022-03-11T18:43:44.436Z"
   },
   {
    "duration": 983,
    "start_time": "2022-03-11T19:00:50.313Z"
   },
   {
    "duration": 260,
    "start_time": "2022-03-11T19:00:59.549Z"
   },
   {
    "duration": 3896,
    "start_time": "2022-03-11T19:01:18.303Z"
   },
   {
    "duration": 144,
    "start_time": "2022-03-11T19:05:40.858Z"
   },
   {
    "duration": 272,
    "start_time": "2022-03-11T19:06:58.043Z"
   },
   {
    "duration": 7,
    "start_time": "2022-03-11T19:08:13.823Z"
   },
   {
    "duration": 282,
    "start_time": "2022-03-11T19:08:29.523Z"
   },
   {
    "duration": 293,
    "start_time": "2022-03-11T19:08:32.064Z"
   },
   {
    "duration": 5108,
    "start_time": "2022-03-11T19:09:12.178Z"
   },
   {
    "duration": 413,
    "start_time": "2022-03-11T19:09:27.181Z"
   },
   {
    "duration": 7,
    "start_time": "2022-03-11T19:12:21.800Z"
   },
   {
    "duration": 4242,
    "start_time": "2022-03-11T19:12:45.140Z"
   },
   {
    "duration": 1563,
    "start_time": "2022-03-11T19:12:55.835Z"
   },
   {
    "duration": 1246,
    "start_time": "2022-03-11T19:13:56.945Z"
   },
   {
    "duration": 1347,
    "start_time": "2022-03-11T19:14:08.843Z"
   },
   {
    "duration": 528,
    "start_time": "2022-03-11T19:15:09.760Z"
   },
   {
    "duration": 310,
    "start_time": "2022-03-11T19:17:21.384Z"
   },
   {
    "duration": 1531,
    "start_time": "2022-03-11T19:17:40.752Z"
   },
   {
    "duration": 2866,
    "start_time": "2022-03-11T19:18:45.817Z"
   },
   {
    "duration": 4973,
    "start_time": "2022-03-11T19:20:46.216Z"
   },
   {
    "duration": 5127,
    "start_time": "2022-03-11T19:20:52.365Z"
   },
   {
    "duration": 5,
    "start_time": "2022-03-11T19:25:56.188Z"
   },
   {
    "duration": 6421,
    "start_time": "2022-03-11T19:26:04.769Z"
   },
   {
    "duration": 2153,
    "start_time": "2022-03-11T19:28:28.544Z"
   },
   {
    "duration": 5,
    "start_time": "2022-03-11T19:35:51.646Z"
   },
   {
    "duration": 1587,
    "start_time": "2022-03-11T19:36:03.004Z"
   },
   {
    "duration": 1388,
    "start_time": "2022-03-11T19:36:09.500Z"
   },
   {
    "duration": 5,
    "start_time": "2022-03-11T19:36:57.087Z"
   },
   {
    "duration": 1638,
    "start_time": "2022-03-11T19:37:04.551Z"
   },
   {
    "duration": 6,
    "start_time": "2022-03-11T19:47:51.455Z"
   },
   {
    "duration": 4030,
    "start_time": "2022-03-11T19:51:38.355Z"
   },
   {
    "duration": 3929,
    "start_time": "2022-03-11T19:51:46.334Z"
   },
   {
    "duration": 4774,
    "start_time": "2022-03-11T19:52:09.712Z"
   },
   {
    "duration": 318,
    "start_time": "2022-03-11T19:54:01.474Z"
   },
   {
    "duration": 2491,
    "start_time": "2022-03-11T19:54:41.295Z"
   },
   {
    "duration": 5,
    "start_time": "2022-03-11T19:55:47.175Z"
   },
   {
    "duration": 2258,
    "start_time": "2022-03-11T19:55:53.726Z"
   },
   {
    "duration": 2340,
    "start_time": "2022-03-11T19:58:08.756Z"
   },
   {
    "duration": 3800,
    "start_time": "2022-03-11T19:58:26.187Z"
   },
   {
    "duration": 4381,
    "start_time": "2022-03-11T19:58:44.505Z"
   },
   {
    "duration": 445,
    "start_time": "2022-03-11T20:00:28.147Z"
   },
   {
    "duration": 4070,
    "start_time": "2022-03-11T20:00:50.122Z"
   },
   {
    "duration": 5,
    "start_time": "2022-03-11T20:02:33.447Z"
   },
   {
    "duration": 6,
    "start_time": "2022-03-11T20:02:39.436Z"
   },
   {
    "duration": 12,
    "start_time": "2022-03-11T20:07:31.892Z"
   },
   {
    "duration": 3603,
    "start_time": "2022-03-11T20:08:06.689Z"
   },
   {
    "duration": 3494,
    "start_time": "2022-03-11T20:19:53.798Z"
   },
   {
    "duration": 3830,
    "start_time": "2022-03-11T20:20:37.901Z"
   },
   {
    "duration": 3238,
    "start_time": "2022-03-11T20:20:58.157Z"
   },
   {
    "duration": 3220,
    "start_time": "2022-03-11T20:21:07.964Z"
   },
   {
    "duration": 3312,
    "start_time": "2022-03-11T20:21:23.972Z"
   },
   {
    "duration": 225,
    "start_time": "2022-03-11T20:21:56.568Z"
   },
   {
    "duration": 324,
    "start_time": "2022-03-11T20:22:01.267Z"
   },
   {
    "duration": 3326,
    "start_time": "2022-03-11T20:42:19.857Z"
   },
   {
    "duration": 3175,
    "start_time": "2022-03-11T20:42:53.912Z"
   },
   {
    "duration": 254,
    "start_time": "2022-03-11T20:44:21.377Z"
   },
   {
    "duration": 568,
    "start_time": "2022-03-11T20:44:25.516Z"
   },
   {
    "duration": 3279,
    "start_time": "2022-03-11T20:44:36.704Z"
   },
   {
    "duration": 271,
    "start_time": "2022-03-11T20:57:17.620Z"
   },
   {
    "duration": 303,
    "start_time": "2022-03-11T20:57:49.683Z"
   },
   {
    "duration": 7,
    "start_time": "2022-03-11T20:59:13.879Z"
   },
   {
    "duration": 12,
    "start_time": "2022-03-11T20:59:21.553Z"
   },
   {
    "duration": 9,
    "start_time": "2022-03-11T20:59:58.876Z"
   },
   {
    "duration": 6,
    "start_time": "2022-03-11T21:00:12.586Z"
   },
   {
    "duration": 7,
    "start_time": "2022-03-11T21:00:57.618Z"
   },
   {
    "duration": 3,
    "start_time": "2022-03-11T21:01:03.158Z"
   },
   {
    "duration": 8,
    "start_time": "2022-03-11T21:01:12.370Z"
   },
   {
    "duration": 90,
    "start_time": "2022-03-11T21:01:33.747Z"
   },
   {
    "duration": 11,
    "start_time": "2022-03-11T21:01:37.503Z"
   },
   {
    "duration": 8,
    "start_time": "2022-03-11T21:01:51.029Z"
   },
   {
    "duration": 6,
    "start_time": "2022-03-11T21:01:59.818Z"
   },
   {
    "duration": 8,
    "start_time": "2022-03-11T21:02:11.076Z"
   },
   {
    "duration": 10,
    "start_time": "2022-03-11T21:02:30.772Z"
   },
   {
    "duration": 11,
    "start_time": "2022-03-11T21:04:09.787Z"
   },
   {
    "duration": 7,
    "start_time": "2022-03-11T21:04:56.977Z"
   },
   {
    "duration": 12,
    "start_time": "2022-03-11T21:05:00.254Z"
   },
   {
    "duration": 13,
    "start_time": "2022-03-11T21:05:16.928Z"
   },
   {
    "duration": 15,
    "start_time": "2022-03-11T21:05:36.773Z"
   },
   {
    "duration": 11,
    "start_time": "2022-03-11T21:05:44.616Z"
   },
   {
    "duration": 287,
    "start_time": "2022-03-11T21:24:30.897Z"
   },
   {
    "duration": 693,
    "start_time": "2022-03-11T21:25:20.944Z"
   },
   {
    "duration": 149,
    "start_time": "2022-03-11T21:26:23.340Z"
   },
   {
    "duration": 231,
    "start_time": "2022-03-11T21:26:29.161Z"
   },
   {
    "duration": 5,
    "start_time": "2022-03-11T21:26:49.867Z"
   },
   {
    "duration": 5,
    "start_time": "2022-03-11T21:27:49.866Z"
   },
   {
    "duration": 6,
    "start_time": "2022-03-11T21:28:40.268Z"
   },
   {
    "duration": 6,
    "start_time": "2022-03-11T21:29:38.135Z"
   },
   {
    "duration": 4,
    "start_time": "2022-03-12T13:31:55.878Z"
   },
   {
    "duration": 1093,
    "start_time": "2022-03-12T13:32:19.122Z"
   },
   {
    "duration": 694,
    "start_time": "2022-03-12T13:32:20.217Z"
   },
   {
    "duration": 6,
    "start_time": "2022-03-12T13:32:20.913Z"
   },
   {
    "duration": 10,
    "start_time": "2022-03-12T13:32:20.921Z"
   },
   {
    "duration": 14,
    "start_time": "2022-03-12T13:32:20.933Z"
   },
   {
    "duration": 4,
    "start_time": "2022-03-12T13:32:20.948Z"
   },
   {
    "duration": 3,
    "start_time": "2022-03-12T13:32:20.953Z"
   },
   {
    "duration": 9,
    "start_time": "2022-03-12T13:32:20.957Z"
   },
   {
    "duration": 38,
    "start_time": "2022-03-12T13:32:20.968Z"
   },
   {
    "duration": 3298,
    "start_time": "2022-03-12T13:32:21.008Z"
   },
   {
    "duration": 5,
    "start_time": "2022-03-12T13:32:24.307Z"
   },
   {
    "duration": 20,
    "start_time": "2022-03-12T13:32:24.314Z"
   },
   {
    "duration": 37,
    "start_time": "2022-03-12T13:32:24.336Z"
   },
   {
    "duration": 67,
    "start_time": "2022-03-12T13:32:24.375Z"
   },
   {
    "duration": 18,
    "start_time": "2022-03-12T13:32:24.444Z"
   },
   {
    "duration": 17,
    "start_time": "2022-03-12T13:32:24.464Z"
   },
   {
    "duration": 193,
    "start_time": "2022-03-12T13:32:24.483Z"
   },
   {
    "duration": 9,
    "start_time": "2022-03-12T13:32:24.678Z"
   },
   {
    "duration": 415,
    "start_time": "2022-03-12T13:32:24.688Z"
   },
   {
    "duration": 11,
    "start_time": "2022-03-12T13:32:25.105Z"
   },
   {
    "duration": 408,
    "start_time": "2022-03-12T13:32:25.118Z"
   },
   {
    "duration": 11,
    "start_time": "2022-03-12T13:32:25.528Z"
   },
   {
    "duration": 4,
    "start_time": "2022-03-12T13:32:25.541Z"
   },
   {
    "duration": 10,
    "start_time": "2022-03-12T13:32:25.547Z"
   },
   {
    "duration": 21,
    "start_time": "2022-03-12T13:32:25.559Z"
   },
   {
    "duration": 2483,
    "start_time": "2022-03-12T13:32:25.601Z"
   },
   {
    "duration": 2741,
    "start_time": "2022-03-12T13:33:27.363Z"
   },
   {
    "duration": 2619,
    "start_time": "2022-03-12T13:33:57.385Z"
   },
   {
    "duration": 2699,
    "start_time": "2022-03-12T13:34:09.708Z"
   },
   {
    "duration": 3314,
    "start_time": "2022-03-12T13:35:15.995Z"
   },
   {
    "duration": 2892,
    "start_time": "2022-03-12T13:35:32.515Z"
   },
   {
    "duration": 2706,
    "start_time": "2022-03-12T13:36:19.097Z"
   },
   {
    "duration": 2472,
    "start_time": "2022-03-12T13:37:19.529Z"
   },
   {
    "duration": 5,
    "start_time": "2022-03-12T13:41:29.016Z"
   },
   {
    "duration": 53,
    "start_time": "2022-03-12T13:42:59.727Z"
   },
   {
    "duration": 51,
    "start_time": "2022-03-12T13:43:29.721Z"
   },
   {
    "duration": 2730,
    "start_time": "2022-03-12T13:43:35.776Z"
   },
   {
    "duration": 48,
    "start_time": "2022-03-12T13:44:16.171Z"
   },
   {
    "duration": 2851,
    "start_time": "2022-03-12T13:44:25.558Z"
   },
   {
    "duration": 2397,
    "start_time": "2022-03-12T13:44:54.706Z"
   },
   {
    "duration": 47,
    "start_time": "2022-03-12T13:45:39.864Z"
   },
   {
    "duration": 45,
    "start_time": "2022-03-12T13:45:43.189Z"
   },
   {
    "duration": 6,
    "start_time": "2022-03-12T13:46:49.352Z"
   },
   {
    "duration": 48,
    "start_time": "2022-03-12T13:47:02.196Z"
   },
   {
    "duration": 48,
    "start_time": "2022-03-12T13:47:18.097Z"
   },
   {
    "duration": 57,
    "start_time": "2022-03-12T13:47:42.540Z"
   },
   {
    "duration": 3,
    "start_time": "2022-03-12T14:36:21.378Z"
   },
   {
    "duration": 1084,
    "start_time": "2022-03-13T09:45:16.181Z"
   },
   {
    "duration": 4,
    "start_time": "2022-03-13T09:54:25.656Z"
   },
   {
    "duration": 780,
    "start_time": "2022-03-13T09:54:25.664Z"
   },
   {
    "duration": 11,
    "start_time": "2022-03-13T09:54:26.447Z"
   },
   {
    "duration": 20,
    "start_time": "2022-03-13T09:54:26.460Z"
   },
   {
    "duration": 24,
    "start_time": "2022-03-13T09:54:26.482Z"
   },
   {
    "duration": 4,
    "start_time": "2022-03-13T09:54:26.508Z"
   },
   {
    "duration": 2,
    "start_time": "2022-03-13T09:54:26.514Z"
   },
   {
    "duration": 24,
    "start_time": "2022-03-13T09:54:26.518Z"
   },
   {
    "duration": 11,
    "start_time": "2022-03-13T09:54:26.544Z"
   },
   {
    "duration": 3916,
    "start_time": "2022-03-13T09:54:26.560Z"
   },
   {
    "duration": 6,
    "start_time": "2022-03-13T09:54:30.478Z"
   },
   {
    "duration": 13,
    "start_time": "2022-03-13T09:54:30.486Z"
   },
   {
    "duration": 10,
    "start_time": "2022-03-13T09:54:30.501Z"
   },
   {
    "duration": 88,
    "start_time": "2022-03-13T09:54:30.512Z"
   },
   {
    "duration": 5,
    "start_time": "2022-03-13T09:54:30.602Z"
   },
   {
    "duration": 34,
    "start_time": "2022-03-13T09:54:30.609Z"
   },
   {
    "duration": 221,
    "start_time": "2022-03-13T09:54:30.645Z"
   },
   {
    "duration": 8,
    "start_time": "2022-03-13T09:54:30.868Z"
   },
   {
    "duration": 483,
    "start_time": "2022-03-13T09:54:30.877Z"
   },
   {
    "duration": 12,
    "start_time": "2022-03-13T09:54:31.362Z"
   },
   {
    "duration": 469,
    "start_time": "2022-03-13T09:54:31.376Z"
   },
   {
    "duration": 16,
    "start_time": "2022-03-13T09:54:31.847Z"
   },
   {
    "duration": 4,
    "start_time": "2022-03-13T09:54:31.865Z"
   },
   {
    "duration": 10,
    "start_time": "2022-03-13T09:54:31.871Z"
   },
   {
    "duration": 28,
    "start_time": "2022-03-13T09:54:31.882Z"
   },
   {
    "duration": 30,
    "start_time": "2022-03-13T09:54:31.912Z"
   },
   {
    "duration": 74,
    "start_time": "2022-03-13T09:54:31.944Z"
   },
   {
    "duration": 3411,
    "start_time": "2022-03-13T09:54:32.022Z"
   },
   {
    "duration": 313,
    "start_time": "2022-03-13T09:54:35.436Z"
   },
   {
    "duration": 468,
    "start_time": "2022-03-13T09:54:35.285Z"
   },
   {
    "duration": 460,
    "start_time": "2022-03-13T09:55:23.091Z"
   },
   {
    "duration": 176,
    "start_time": "2022-03-13T10:03:00.258Z"
   },
   {
    "duration": 170,
    "start_time": "2022-03-13T10:04:31.167Z"
   },
   {
    "duration": 202,
    "start_time": "2022-03-13T10:04:45.283Z"
   },
   {
    "duration": 925998,
    "start_time": "2022-03-13T10:05:12.326Z"
   },
   {
    "duration": 622591,
    "start_time": "2022-03-13T10:24:57.483Z"
   },
   {
    "duration": 4,
    "start_time": "2022-03-13T10:36:31.937Z"
   },
   {
    "duration": 218,
    "start_time": "2022-03-13T10:36:34.761Z"
   },
   {
    "duration": 194,
    "start_time": "2022-03-13T10:36:40.714Z"
   },
   {
    "duration": 212,
    "start_time": "2022-03-13T10:40:45.089Z"
   },
   {
    "duration": 289771,
    "start_time": "2022-03-13T10:42:23.616Z"
   },
   {
    "duration": 3,
    "start_time": "2022-03-13T10:54:12.297Z"
   },
   {
    "duration": 183,
    "start_time": "2022-03-13T10:54:14.558Z"
   },
   {
    "duration": 4,
    "start_time": "2022-03-13T10:54:33.100Z"
   },
   {
    "duration": 4,
    "start_time": "2022-03-13T10:54:55.126Z"
   },
   {
    "duration": 579889,
    "start_time": "2022-03-13T11:07:55.053Z"
   },
   {
    "duration": 4,
    "start_time": "2022-03-13T11:19:26.838Z"
   },
   {
    "duration": 4,
    "start_time": "2022-03-13T11:19:29.726Z"
   },
   {
    "duration": 83,
    "start_time": "2022-03-13T11:22:05.508Z"
   },
   {
    "duration": 4,
    "start_time": "2022-03-13T11:38:21.143Z"
   },
   {
    "duration": 4,
    "start_time": "2022-03-13T11:46:04.038Z"
   },
   {
    "duration": 6,
    "start_time": "2022-03-13T11:46:26.514Z"
   },
   {
    "duration": 7,
    "start_time": "2022-03-13T11:49:02.517Z"
   },
   {
    "duration": 4,
    "start_time": "2022-03-13T12:04:23.167Z"
   },
   {
    "duration": 7,
    "start_time": "2022-03-13T12:04:38.787Z"
   },
   {
    "duration": 10,
    "start_time": "2022-03-13T12:05:09.158Z"
   },
   {
    "duration": 6,
    "start_time": "2022-03-13T12:05:15.853Z"
   },
   {
    "duration": 7,
    "start_time": "2022-03-13T12:13:52.193Z"
   },
   {
    "duration": 8,
    "start_time": "2022-03-13T12:14:16.597Z"
   },
   {
    "duration": 7,
    "start_time": "2022-03-13T12:14:26.916Z"
   },
   {
    "duration": 4428,
    "start_time": "2022-03-13T13:01:10.816Z"
   },
   {
    "duration": 5,
    "start_time": "2022-03-13T13:01:51.900Z"
   },
   {
    "duration": 735,
    "start_time": "2022-03-13T13:01:51.908Z"
   },
   {
    "duration": 9,
    "start_time": "2022-03-13T13:01:52.645Z"
   },
   {
    "duration": 11,
    "start_time": "2022-03-13T13:01:57.346Z"
   },
   {
    "duration": 9,
    "start_time": "2022-03-13T13:02:19.696Z"
   },
   {
    "duration": 224,
    "start_time": "2022-03-13T13:03:33.166Z"
   },
   {
    "duration": 8,
    "start_time": "2022-03-13T13:04:07.158Z"
   },
   {
    "duration": 10,
    "start_time": "2022-03-13T13:04:57.521Z"
   },
   {
    "duration": 6,
    "start_time": "2022-03-13T13:10:32.172Z"
   },
   {
    "duration": 7,
    "start_time": "2022-03-13T13:10:40.008Z"
   },
   {
    "duration": 4,
    "start_time": "2022-03-13T13:15:46.161Z"
   },
   {
    "duration": 682,
    "start_time": "2022-03-13T13:15:46.168Z"
   },
   {
    "duration": 7,
    "start_time": "2022-03-13T13:15:46.852Z"
   },
   {
    "duration": 12,
    "start_time": "2022-03-13T13:15:46.861Z"
   },
   {
    "duration": 14,
    "start_time": "2022-03-13T13:15:46.874Z"
   },
   {
    "duration": 3,
    "start_time": "2022-03-13T13:15:46.890Z"
   },
   {
    "duration": 3,
    "start_time": "2022-03-13T13:15:46.895Z"
   },
   {
    "duration": 35,
    "start_time": "2022-03-13T13:15:46.899Z"
   },
   {
    "duration": 8,
    "start_time": "2022-03-13T13:15:46.935Z"
   },
   {
    "duration": 3766,
    "start_time": "2022-03-13T13:15:46.945Z"
   },
   {
    "duration": 7,
    "start_time": "2022-03-13T13:15:50.713Z"
   },
   {
    "duration": 18,
    "start_time": "2022-03-13T13:15:50.722Z"
   },
   {
    "duration": 10,
    "start_time": "2022-03-13T13:15:50.741Z"
   },
   {
    "duration": 56,
    "start_time": "2022-03-13T13:15:50.752Z"
   },
   {
    "duration": 25,
    "start_time": "2022-03-13T13:15:50.810Z"
   },
   {
    "duration": 82,
    "start_time": "2022-03-13T13:15:50.837Z"
   },
   {
    "duration": 20,
    "start_time": "2022-03-13T13:15:50.920Z"
   },
   {
    "duration": 218,
    "start_time": "2022-03-13T13:15:50.942Z"
   },
   {
    "duration": 8,
    "start_time": "2022-03-13T13:15:51.162Z"
   },
   {
    "duration": 444,
    "start_time": "2022-03-13T13:15:51.171Z"
   },
   {
    "duration": 23,
    "start_time": "2022-03-13T13:15:51.617Z"
   },
   {
    "duration": 426,
    "start_time": "2022-03-13T13:15:51.641Z"
   },
   {
    "duration": 13,
    "start_time": "2022-03-13T13:15:52.068Z"
   },
   {
    "duration": 6,
    "start_time": "2022-03-13T13:15:52.083Z"
   },
   {
    "duration": 7,
    "start_time": "2022-03-13T13:15:52.091Z"
   },
   {
    "duration": 11,
    "start_time": "2022-03-13T13:15:52.099Z"
   },
   {
    "duration": 25,
    "start_time": "2022-03-13T13:15:52.133Z"
   },
   {
    "duration": 7,
    "start_time": "2022-03-13T13:15:52.160Z"
   },
   {
    "duration": 186,
    "start_time": "2022-03-13T13:18:38.166Z"
   },
   {
    "duration": 66,
    "start_time": "2022-03-13T13:20:14.870Z"
   },
   {
    "duration": 96,
    "start_time": "2022-03-13T13:21:06.785Z"
   },
   {
    "duration": 96,
    "start_time": "2022-03-13T13:21:35.610Z"
   },
   {
    "duration": 87,
    "start_time": "2022-03-13T13:21:52.263Z"
   },
   {
    "duration": 4041,
    "start_time": "2022-03-13T13:22:53.596Z"
   },
   {
    "duration": 61,
    "start_time": "2022-03-13T13:23:22.635Z"
   },
   {
    "duration": 65,
    "start_time": "2022-03-13T13:23:32.350Z"
   },
   {
    "duration": 86,
    "start_time": "2022-03-13T13:23:51.165Z"
   },
   {
    "duration": 4389,
    "start_time": "2022-03-13T13:24:03.445Z"
   },
   {
    "duration": 403,
    "start_time": "2022-03-13T13:24:29.136Z"
   },
   {
    "duration": 4,
    "start_time": "2022-03-13T13:24:43.164Z"
   },
   {
    "duration": 204,
    "start_time": "2022-03-13T13:29:53.999Z"
   },
   {
    "duration": 60,
    "start_time": "2022-03-13T13:30:15.920Z"
   },
   {
    "duration": 5,
    "start_time": "2022-03-13T13:31:09.585Z"
   },
   {
    "duration": 716,
    "start_time": "2022-03-13T13:31:09.592Z"
   },
   {
    "duration": 6,
    "start_time": "2022-03-13T13:31:10.310Z"
   },
   {
    "duration": 17,
    "start_time": "2022-03-13T13:31:10.318Z"
   },
   {
    "duration": 15,
    "start_time": "2022-03-13T13:31:10.337Z"
   },
   {
    "duration": 5,
    "start_time": "2022-03-13T13:31:10.353Z"
   },
   {
    "duration": 4,
    "start_time": "2022-03-13T13:31:10.360Z"
   },
   {
    "duration": 7,
    "start_time": "2022-03-13T13:31:10.367Z"
   },
   {
    "duration": 16,
    "start_time": "2022-03-13T13:31:10.376Z"
   },
   {
    "duration": 3466,
    "start_time": "2022-03-13T13:31:10.394Z"
   },
   {
    "duration": 7,
    "start_time": "2022-03-13T13:31:13.861Z"
   },
   {
    "duration": 8,
    "start_time": "2022-03-13T13:31:13.869Z"
   },
   {
    "duration": 9,
    "start_time": "2022-03-13T13:31:13.879Z"
   },
   {
    "duration": 84,
    "start_time": "2022-03-13T13:31:13.889Z"
   },
   {
    "duration": 4,
    "start_time": "2022-03-13T13:31:13.975Z"
   },
   {
    "duration": 100,
    "start_time": "2022-03-13T13:31:13.980Z"
   },
   {
    "duration": 12,
    "start_time": "2022-03-13T13:31:14.083Z"
   },
   {
    "duration": 280,
    "start_time": "2022-03-13T13:31:14.097Z"
   },
   {
    "duration": 9,
    "start_time": "2022-03-13T13:31:14.379Z"
   },
   {
    "duration": 432,
    "start_time": "2022-03-13T13:31:14.389Z"
   },
   {
    "duration": 18,
    "start_time": "2022-03-13T13:31:14.823Z"
   },
   {
    "duration": 427,
    "start_time": "2022-03-13T13:31:14.843Z"
   },
   {
    "duration": 11,
    "start_time": "2022-03-13T13:31:15.273Z"
   },
   {
    "duration": 7,
    "start_time": "2022-03-13T13:31:15.286Z"
   },
   {
    "duration": 4,
    "start_time": "2022-03-13T13:31:15.295Z"
   },
   {
    "duration": 9,
    "start_time": "2022-03-13T13:31:15.300Z"
   },
   {
    "duration": 39,
    "start_time": "2022-03-13T13:31:15.310Z"
   },
   {
    "duration": 6,
    "start_time": "2022-03-13T13:31:15.351Z"
   },
   {
    "duration": 74,
    "start_time": "2022-03-13T13:31:15.359Z"
   },
   {
    "duration": 2302,
    "start_time": "2022-03-13T13:31:15.435Z"
   },
   {
    "duration": 295,
    "start_time": "2022-03-13T13:31:17.739Z"
   },
   {
    "duration": 5,
    "start_time": "2022-03-13T13:31:18.037Z"
   },
   {
    "duration": 188,
    "start_time": "2022-03-13T13:31:40.670Z"
   },
   {
    "duration": 5,
    "start_time": "2022-03-13T13:32:13.686Z"
   },
   {
    "duration": 696,
    "start_time": "2022-03-13T13:32:13.693Z"
   },
   {
    "duration": 6,
    "start_time": "2022-03-13T13:32:14.391Z"
   },
   {
    "duration": 11,
    "start_time": "2022-03-13T13:32:14.398Z"
   },
   {
    "duration": 26,
    "start_time": "2022-03-13T13:32:14.411Z"
   },
   {
    "duration": 4,
    "start_time": "2022-03-13T13:32:14.439Z"
   },
   {
    "duration": 3,
    "start_time": "2022-03-13T13:32:14.444Z"
   },
   {
    "duration": 8,
    "start_time": "2022-03-13T13:32:14.449Z"
   },
   {
    "duration": 8,
    "start_time": "2022-03-13T13:32:14.459Z"
   },
   {
    "duration": 3650,
    "start_time": "2022-03-13T13:32:14.469Z"
   },
   {
    "duration": 13,
    "start_time": "2022-03-13T13:32:18.121Z"
   },
   {
    "duration": 9,
    "start_time": "2022-03-13T13:32:18.135Z"
   },
   {
    "duration": 10,
    "start_time": "2022-03-13T13:32:18.146Z"
   },
   {
    "duration": 85,
    "start_time": "2022-03-13T13:32:18.157Z"
   },
   {
    "duration": 5,
    "start_time": "2022-03-13T13:32:18.243Z"
   },
   {
    "duration": 95,
    "start_time": "2022-03-13T13:32:18.249Z"
   },
   {
    "duration": 13,
    "start_time": "2022-03-13T13:32:18.346Z"
   },
   {
    "duration": 212,
    "start_time": "2022-03-13T13:32:18.361Z"
   },
   {
    "duration": 9,
    "start_time": "2022-03-13T13:32:18.574Z"
   },
   {
    "duration": 453,
    "start_time": "2022-03-13T13:32:18.584Z"
   },
   {
    "duration": 12,
    "start_time": "2022-03-13T13:32:19.039Z"
   },
   {
    "duration": 468,
    "start_time": "2022-03-13T13:32:19.052Z"
   },
   {
    "duration": 17,
    "start_time": "2022-03-13T13:32:19.523Z"
   },
   {
    "duration": 8,
    "start_time": "2022-03-13T13:32:19.542Z"
   },
   {
    "duration": 4,
    "start_time": "2022-03-13T13:32:19.552Z"
   },
   {
    "duration": 10,
    "start_time": "2022-03-13T13:32:19.558Z"
   },
   {
    "duration": 22,
    "start_time": "2022-03-13T13:32:19.570Z"
   },
   {
    "duration": 6,
    "start_time": "2022-03-13T13:32:19.594Z"
   },
   {
    "duration": 181,
    "start_time": "2022-03-13T13:32:19.602Z"
   },
   {
    "duration": 2453,
    "start_time": "2022-03-13T13:32:19.785Z"
   },
   {
    "duration": 2305,
    "start_time": "2022-03-13T13:32:49.834Z"
   },
   {
    "duration": 151,
    "start_time": "2022-03-13T13:33:01.183Z"
   },
   {
    "duration": 6,
    "start_time": "2022-03-13T13:34:43.822Z"
   },
   {
    "duration": 678,
    "start_time": "2022-03-13T13:34:43.834Z"
   },
   {
    "duration": 7,
    "start_time": "2022-03-13T13:34:44.513Z"
   },
   {
    "duration": 15,
    "start_time": "2022-03-13T13:34:44.523Z"
   },
   {
    "duration": 15,
    "start_time": "2022-03-13T13:34:44.540Z"
   },
   {
    "duration": 4,
    "start_time": "2022-03-13T13:34:44.556Z"
   },
   {
    "duration": 5,
    "start_time": "2022-03-13T13:34:44.561Z"
   },
   {
    "duration": 10,
    "start_time": "2022-03-13T13:34:44.567Z"
   },
   {
    "duration": 7,
    "start_time": "2022-03-13T13:34:44.578Z"
   },
   {
    "duration": 3479,
    "start_time": "2022-03-13T13:34:44.588Z"
   },
   {
    "duration": 6,
    "start_time": "2022-03-13T13:34:48.069Z"
   },
   {
    "duration": 8,
    "start_time": "2022-03-13T13:34:48.077Z"
   },
   {
    "duration": 11,
    "start_time": "2022-03-13T13:34:48.087Z"
   },
   {
    "duration": 83,
    "start_time": "2022-03-13T13:34:48.100Z"
   },
   {
    "duration": 11,
    "start_time": "2022-03-13T13:34:48.185Z"
   },
   {
    "duration": 87,
    "start_time": "2022-03-13T13:34:48.197Z"
   },
   {
    "duration": 12,
    "start_time": "2022-03-13T13:34:48.286Z"
   },
   {
    "duration": 221,
    "start_time": "2022-03-13T13:34:48.299Z"
   },
   {
    "duration": 15,
    "start_time": "2022-03-13T13:34:48.522Z"
   },
   {
    "duration": 495,
    "start_time": "2022-03-13T13:34:48.538Z"
   },
   {
    "duration": 14,
    "start_time": "2022-03-13T13:34:49.034Z"
   },
   {
    "duration": 431,
    "start_time": "2022-03-13T13:34:49.049Z"
   },
   {
    "duration": 12,
    "start_time": "2022-03-13T13:34:49.481Z"
   },
   {
    "duration": 6,
    "start_time": "2022-03-13T13:34:49.495Z"
   },
   {
    "duration": 4,
    "start_time": "2022-03-13T13:34:49.502Z"
   },
   {
    "duration": 27,
    "start_time": "2022-03-13T13:34:49.508Z"
   },
   {
    "duration": 22,
    "start_time": "2022-03-13T13:34:49.537Z"
   },
   {
    "duration": 6,
    "start_time": "2022-03-13T13:34:49.562Z"
   },
   {
    "duration": 77,
    "start_time": "2022-03-13T13:34:49.569Z"
   },
   {
    "duration": 2387,
    "start_time": "2022-03-13T13:34:49.648Z"
   },
   {
    "duration": 302,
    "start_time": "2022-03-13T13:34:52.037Z"
   },
   {
    "duration": 6,
    "start_time": "2022-03-13T13:34:52.341Z"
   },
   {
    "duration": 85,
    "start_time": "2022-03-13T13:34:52.349Z"
   },
   {
    "duration": 4266,
    "start_time": "2022-03-13T13:34:52.436Z"
   },
   {
    "duration": 64,
    "start_time": "2022-03-13T13:34:56.704Z"
   },
   {
    "duration": 4341,
    "start_time": "2022-03-13T13:35:40.044Z"
   },
   {
    "duration": 510,
    "start_time": "2022-03-13T13:36:48.833Z"
   },
   {
    "duration": 5,
    "start_time": "2022-03-13T13:38:01.872Z"
   },
   {
    "duration": 668,
    "start_time": "2022-03-13T13:38:01.880Z"
   },
   {
    "duration": 6,
    "start_time": "2022-03-13T13:38:02.550Z"
   },
   {
    "duration": 12,
    "start_time": "2022-03-13T13:38:02.558Z"
   },
   {
    "duration": 20,
    "start_time": "2022-03-13T13:38:02.571Z"
   },
   {
    "duration": 4,
    "start_time": "2022-03-13T13:38:02.593Z"
   },
   {
    "duration": 7,
    "start_time": "2022-03-13T13:38:02.598Z"
   },
   {
    "duration": 28,
    "start_time": "2022-03-13T13:38:02.607Z"
   },
   {
    "duration": 11,
    "start_time": "2022-03-13T13:38:02.637Z"
   },
   {
    "duration": 3598,
    "start_time": "2022-03-13T13:38:02.650Z"
   },
   {
    "duration": 5,
    "start_time": "2022-03-13T13:38:06.250Z"
   },
   {
    "duration": 10,
    "start_time": "2022-03-13T13:38:06.257Z"
   },
   {
    "duration": 10,
    "start_time": "2022-03-13T13:38:06.268Z"
   },
   {
    "duration": 86,
    "start_time": "2022-03-13T13:38:06.280Z"
   },
   {
    "duration": 4,
    "start_time": "2022-03-13T13:38:06.368Z"
   },
   {
    "duration": 98,
    "start_time": "2022-03-13T13:38:06.374Z"
   },
   {
    "duration": 11,
    "start_time": "2022-03-13T13:38:06.474Z"
   },
   {
    "duration": 210,
    "start_time": "2022-03-13T13:38:06.486Z"
   },
   {
    "duration": 9,
    "start_time": "2022-03-13T13:38:06.697Z"
   },
   {
    "duration": 440,
    "start_time": "2022-03-13T13:38:06.707Z"
   },
   {
    "duration": 14,
    "start_time": "2022-03-13T13:38:07.149Z"
   },
   {
    "duration": 505,
    "start_time": "2022-03-13T13:38:07.165Z"
   },
   {
    "duration": 11,
    "start_time": "2022-03-13T13:38:07.672Z"
   },
   {
    "duration": 6,
    "start_time": "2022-03-13T13:38:07.685Z"
   },
   {
    "duration": 5,
    "start_time": "2022-03-13T13:38:07.692Z"
   },
   {
    "duration": 10,
    "start_time": "2022-03-13T13:38:07.698Z"
   },
   {
    "duration": 35,
    "start_time": "2022-03-13T13:38:07.709Z"
   },
   {
    "duration": 7,
    "start_time": "2022-03-13T13:38:07.746Z"
   },
   {
    "duration": 59,
    "start_time": "2022-03-13T13:38:07.754Z"
   },
   {
    "duration": 2605,
    "start_time": "2022-03-13T13:38:07.833Z"
   },
   {
    "duration": 399,
    "start_time": "2022-03-13T13:38:10.440Z"
   },
   {
    "duration": 5,
    "start_time": "2022-03-13T13:38:10.842Z"
   },
   {
    "duration": 11,
    "start_time": "2022-03-13T13:38:10.934Z"
   },
   {
    "duration": 583,
    "start_time": "2022-03-13T13:38:10.947Z"
   },
   {
    "duration": 53,
    "start_time": "2022-03-13T13:38:49.465Z"
   },
   {
    "duration": 4,
    "start_time": "2022-03-13T13:40:26.316Z"
   },
   {
    "duration": 497,
    "start_time": "2022-03-13T13:40:32.432Z"
   },
   {
    "duration": 5,
    "start_time": "2022-03-13T13:41:34.959Z"
   },
   {
    "duration": 1165907,
    "start_time": "2022-03-13T13:41:39.019Z"
   },
   {
    "duration": 4,
    "start_time": "2022-03-13T14:06:57.039Z"
   },
   {
    "duration": 4,
    "start_time": "2022-03-13T14:16:21.997Z"
   },
   {
    "duration": 169,
    "start_time": "2022-03-13T14:32:37.575Z"
   },
   {
    "duration": 258,
    "start_time": "2022-03-13T14:33:13.054Z"
   },
   {
    "duration": 170,
    "start_time": "2022-03-13T14:33:17.018Z"
   },
   {
    "duration": 4730,
    "start_time": "2022-03-13T14:33:50.126Z"
   },
   {
    "duration": 3,
    "start_time": "2022-03-13T14:34:53.582Z"
   },
   {
    "duration": 4,
    "start_time": "2022-03-13T14:35:03.907Z"
   },
   {
    "duration": 167,
    "start_time": "2022-03-13T14:37:25.792Z"
   },
   {
    "duration": 200,
    "start_time": "2022-03-13T14:41:46.559Z"
   },
   {
    "duration": 4,
    "start_time": "2022-03-13T14:41:57.906Z"
   },
   {
    "duration": 182,
    "start_time": "2022-03-13T14:42:00.569Z"
   },
   {
    "duration": 166,
    "start_time": "2022-03-13T14:43:06.207Z"
   },
   {
    "duration": 179,
    "start_time": "2022-03-13T14:43:16.435Z"
   },
   {
    "duration": 172,
    "start_time": "2022-03-13T14:43:20.672Z"
   },
   {
    "duration": 243,
    "start_time": "2022-03-13T14:46:12.125Z"
   },
   {
    "duration": 4,
    "start_time": "2022-03-13T14:46:34.291Z"
   },
   {
    "duration": 233,
    "start_time": "2022-03-13T14:46:41.845Z"
   },
   {
    "duration": 175,
    "start_time": "2022-03-13T14:47:29.637Z"
   },
   {
    "duration": 5,
    "start_time": "2022-03-13T14:47:34.201Z"
   },
   {
    "duration": 6,
    "start_time": "2022-03-13T14:52:55.993Z"
   },
   {
    "duration": 15,
    "start_time": "2022-03-13T14:54:26.850Z"
   },
   {
    "duration": 11,
    "start_time": "2022-03-13T14:54:49.908Z"
   },
   {
    "duration": 14,
    "start_time": "2022-03-13T14:54:58.967Z"
   },
   {
    "duration": 14,
    "start_time": "2022-03-13T14:55:27.946Z"
   },
   {
    "duration": 12,
    "start_time": "2022-03-13T14:55:42.990Z"
   },
   {
    "duration": 9,
    "start_time": "2022-03-13T14:56:11.432Z"
   },
   {
    "duration": 4078,
    "start_time": "2022-03-13T14:57:45.967Z"
   },
   {
    "duration": 11,
    "start_time": "2022-03-13T14:58:05.705Z"
   },
   {
    "duration": 3,
    "start_time": "2022-03-13T15:11:35.153Z"
   },
   {
    "duration": 11,
    "start_time": "2022-03-13T15:15:31.573Z"
   },
   {
    "duration": 10,
    "start_time": "2022-03-13T15:15:45.410Z"
   },
   {
    "duration": 11,
    "start_time": "2022-03-13T15:15:54.777Z"
   },
   {
    "duration": 4,
    "start_time": "2022-03-13T15:17:29.468Z"
   },
   {
    "duration": 688,
    "start_time": "2022-03-13T15:17:29.474Z"
   },
   {
    "duration": 6,
    "start_time": "2022-03-13T15:17:30.165Z"
   },
   {
    "duration": 12,
    "start_time": "2022-03-13T15:17:30.173Z"
   },
   {
    "duration": 19,
    "start_time": "2022-03-13T15:17:30.187Z"
   },
   {
    "duration": 5,
    "start_time": "2022-03-13T15:17:30.208Z"
   },
   {
    "duration": 2,
    "start_time": "2022-03-13T15:17:30.233Z"
   },
   {
    "duration": 11,
    "start_time": "2022-03-13T15:17:30.238Z"
   },
   {
    "duration": 12,
    "start_time": "2022-03-13T15:17:30.251Z"
   },
   {
    "duration": 3481,
    "start_time": "2022-03-13T15:17:30.265Z"
   },
   {
    "duration": 8,
    "start_time": "2022-03-13T15:17:33.748Z"
   },
   {
    "duration": 15,
    "start_time": "2022-03-13T15:17:33.758Z"
   },
   {
    "duration": 10,
    "start_time": "2022-03-13T15:17:33.774Z"
   },
   {
    "duration": 84,
    "start_time": "2022-03-13T15:17:33.786Z"
   },
   {
    "duration": 5,
    "start_time": "2022-03-13T15:17:33.872Z"
   },
   {
    "duration": 102,
    "start_time": "2022-03-13T15:17:33.879Z"
   },
   {
    "duration": 13,
    "start_time": "2022-03-13T15:17:33.983Z"
   },
   {
    "duration": 214,
    "start_time": "2022-03-13T15:17:33.998Z"
   },
   {
    "duration": 8,
    "start_time": "2022-03-13T15:17:34.214Z"
   },
   {
    "duration": 429,
    "start_time": "2022-03-13T15:17:34.223Z"
   },
   {
    "duration": 14,
    "start_time": "2022-03-13T15:17:34.653Z"
   },
   {
    "duration": 424,
    "start_time": "2022-03-13T15:17:34.669Z"
   },
   {
    "duration": 11,
    "start_time": "2022-03-13T15:17:35.096Z"
   },
   {
    "duration": 6,
    "start_time": "2022-03-13T15:17:35.109Z"
   },
   {
    "duration": 17,
    "start_time": "2022-03-13T15:17:35.117Z"
   },
   {
    "duration": 11,
    "start_time": "2022-03-13T15:17:35.135Z"
   },
   {
    "duration": 21,
    "start_time": "2022-03-13T15:17:35.148Z"
   },
   {
    "duration": 7,
    "start_time": "2022-03-13T15:17:35.171Z"
   },
   {
    "duration": 81,
    "start_time": "2022-03-13T15:17:35.179Z"
   },
   {
    "duration": 2473,
    "start_time": "2022-03-13T15:17:35.261Z"
   },
   {
    "duration": 104,
    "start_time": "2022-03-13T15:17:37.736Z"
   },
   {
    "duration": 93,
    "start_time": "2022-03-13T15:17:37.842Z"
   },
   {
    "duration": 64,
    "start_time": "2022-03-13T15:17:37.937Z"
   },
   {
    "duration": 211,
    "start_time": "2022-03-13T15:17:37.792Z"
   },
   {
    "duration": 52,
    "start_time": "2022-03-13T15:18:12.898Z"
   },
   {
    "duration": 61,
    "start_time": "2022-03-13T15:18:20.549Z"
   },
   {
    "duration": 57,
    "start_time": "2022-03-13T15:19:05.810Z"
   },
   {
    "duration": 5,
    "start_time": "2022-03-13T15:19:13.134Z"
   },
   {
    "duration": 693,
    "start_time": "2022-03-13T15:19:13.141Z"
   },
   {
    "duration": 6,
    "start_time": "2022-03-13T15:19:13.836Z"
   },
   {
    "duration": 13,
    "start_time": "2022-03-13T15:19:13.844Z"
   },
   {
    "duration": 16,
    "start_time": "2022-03-13T15:19:13.858Z"
   },
   {
    "duration": 5,
    "start_time": "2022-03-13T15:19:13.875Z"
   },
   {
    "duration": 4,
    "start_time": "2022-03-13T15:19:13.881Z"
   },
   {
    "duration": 10,
    "start_time": "2022-03-13T15:19:13.888Z"
   },
   {
    "duration": 44,
    "start_time": "2022-03-13T15:19:13.899Z"
   },
   {
    "duration": 3530,
    "start_time": "2022-03-13T15:19:13.944Z"
   },
   {
    "duration": 7,
    "start_time": "2022-03-13T15:19:17.475Z"
   },
   {
    "duration": 11,
    "start_time": "2022-03-13T15:19:17.484Z"
   },
   {
    "duration": 10,
    "start_time": "2022-03-13T15:19:17.496Z"
   },
   {
    "duration": 82,
    "start_time": "2022-03-13T15:19:17.507Z"
   },
   {
    "duration": 7,
    "start_time": "2022-03-13T15:19:17.591Z"
   },
   {
    "duration": 94,
    "start_time": "2022-03-13T15:19:17.599Z"
   },
   {
    "duration": 15,
    "start_time": "2022-03-13T15:19:17.695Z"
   },
   {
    "duration": 317,
    "start_time": "2022-03-13T15:19:17.712Z"
   },
   {
    "duration": 13,
    "start_time": "2022-03-13T15:19:18.036Z"
   },
   {
    "duration": 797,
    "start_time": "2022-03-13T15:19:18.051Z"
   },
   {
    "duration": 19,
    "start_time": "2022-03-13T15:19:18.851Z"
   },
   {
    "duration": 678,
    "start_time": "2022-03-13T15:19:18.872Z"
   },
   {
    "duration": 14,
    "start_time": "2022-03-13T15:19:19.553Z"
   },
   {
    "duration": 9,
    "start_time": "2022-03-13T15:19:19.570Z"
   },
   {
    "duration": 6,
    "start_time": "2022-03-13T15:19:19.581Z"
   },
   {
    "duration": 11,
    "start_time": "2022-03-13T15:19:19.589Z"
   },
   {
    "duration": 49,
    "start_time": "2022-03-13T15:19:19.602Z"
   },
   {
    "duration": 8,
    "start_time": "2022-03-13T15:19:19.653Z"
   },
   {
    "duration": 72,
    "start_time": "2022-03-13T15:19:19.662Z"
   },
   {
    "duration": 2500,
    "start_time": "2022-03-13T15:19:19.735Z"
   },
   {
    "duration": 203,
    "start_time": "2022-03-13T15:19:22.241Z"
   },
   {
    "duration": 12,
    "start_time": "2022-03-13T15:19:22.535Z"
   },
   {
    "duration": 57,
    "start_time": "2022-03-13T15:19:28.753Z"
   },
   {
    "duration": 127,
    "start_time": "2022-03-13T15:19:48.641Z"
   },
   {
    "duration": 1199369,
    "start_time": "2022-03-13T15:21:18.332Z"
   },
   {
    "duration": 4,
    "start_time": "2022-03-13T18:04:25.633Z"
   },
   {
    "duration": 10,
    "start_time": "2022-03-13T18:05:47.795Z"
   },
   {
    "duration": 7,
    "start_time": "2022-03-13T18:06:00.509Z"
   },
   {
    "duration": 7821,
    "start_time": "2022-03-13T18:07:15.739Z"
   },
   {
    "duration": 7857,
    "start_time": "2022-03-13T18:11:47.846Z"
   },
   {
    "duration": 7955,
    "start_time": "2022-03-13T18:15:13.777Z"
   },
   {
    "duration": 7591,
    "start_time": "2022-03-13T18:17:09.710Z"
   },
   {
    "duration": 7617,
    "start_time": "2022-03-13T18:24:08.503Z"
   },
   {
    "duration": 8081,
    "start_time": "2022-03-13T18:26:01.329Z"
   },
   {
    "duration": 7888,
    "start_time": "2022-03-13T18:28:18.757Z"
   },
   {
    "duration": 8753,
    "start_time": "2022-03-13T18:29:33.954Z"
   },
   {
    "duration": 4,
    "start_time": "2022-03-13T18:34:03.100Z"
   },
   {
    "duration": 934,
    "start_time": "2022-03-13T18:34:03.109Z"
   },
   {
    "duration": 7,
    "start_time": "2022-03-13T18:34:04.045Z"
   },
   {
    "duration": 15,
    "start_time": "2022-03-13T18:34:04.054Z"
   },
   {
    "duration": 19,
    "start_time": "2022-03-13T18:34:04.072Z"
   },
   {
    "duration": 4,
    "start_time": "2022-03-13T18:34:04.093Z"
   },
   {
    "duration": 9,
    "start_time": "2022-03-13T18:34:04.099Z"
   },
   {
    "duration": 26,
    "start_time": "2022-03-13T18:34:04.110Z"
   },
   {
    "duration": 9,
    "start_time": "2022-03-13T18:34:04.139Z"
   },
   {
    "duration": 3875,
    "start_time": "2022-03-13T18:34:04.150Z"
   },
   {
    "duration": 8,
    "start_time": "2022-03-13T18:34:08.027Z"
   },
   {
    "duration": 16,
    "start_time": "2022-03-13T18:34:08.036Z"
   },
   {
    "duration": 12,
    "start_time": "2022-03-13T18:34:08.054Z"
   },
   {
    "duration": 77,
    "start_time": "2022-03-13T18:34:08.068Z"
   },
   {
    "duration": 9,
    "start_time": "2022-03-13T18:34:08.146Z"
   },
   {
    "duration": 95,
    "start_time": "2022-03-13T18:34:08.156Z"
   },
   {
    "duration": 12,
    "start_time": "2022-03-13T18:34:08.252Z"
   },
   {
    "duration": 219,
    "start_time": "2022-03-13T18:34:08.265Z"
   },
   {
    "duration": 9,
    "start_time": "2022-03-13T18:34:08.486Z"
   },
   {
    "duration": 472,
    "start_time": "2022-03-13T18:34:08.497Z"
   },
   {
    "duration": 15,
    "start_time": "2022-03-13T18:34:08.971Z"
   },
   {
    "duration": 448,
    "start_time": "2022-03-13T18:34:08.987Z"
   },
   {
    "duration": 12,
    "start_time": "2022-03-13T18:34:09.437Z"
   },
   {
    "duration": 5,
    "start_time": "2022-03-13T18:34:09.452Z"
   },
   {
    "duration": 10,
    "start_time": "2022-03-13T18:34:09.459Z"
   },
   {
    "duration": 25,
    "start_time": "2022-03-13T18:34:09.470Z"
   },
   {
    "duration": 7,
    "start_time": "2022-03-13T18:34:09.497Z"
   },
   {
    "duration": 95,
    "start_time": "2022-03-13T18:34:09.505Z"
   },
   {
    "duration": 3040,
    "start_time": "2022-03-13T18:34:09.601Z"
   },
   {
    "duration": 1091,
    "start_time": "2022-03-13T18:34:12.644Z"
   },
   {
    "duration": 65,
    "start_time": "2022-03-13T18:34:56.627Z"
   },
   {
    "duration": 58,
    "start_time": "2022-03-13T18:35:09.355Z"
   },
   {
    "duration": 60,
    "start_time": "2022-03-13T18:35:12.184Z"
   },
   {
    "duration": 66,
    "start_time": "2022-03-13T18:35:22.987Z"
   },
   {
    "duration": 68,
    "start_time": "2022-03-13T18:35:35.348Z"
   },
   {
    "duration": 58,
    "start_time": "2022-03-13T18:36:03.320Z"
   },
   {
    "duration": 70,
    "start_time": "2022-03-13T18:36:07.217Z"
   },
   {
    "duration": 59,
    "start_time": "2022-03-13T18:36:18.512Z"
   },
   {
    "duration": 64,
    "start_time": "2022-03-13T18:36:28.516Z"
   },
   {
    "duration": 2582,
    "start_time": "2022-03-13T18:36:50.458Z"
   },
   {
    "duration": 5,
    "start_time": "2022-03-13T18:37:50.917Z"
   },
   {
    "duration": 717,
    "start_time": "2022-03-13T18:37:50.925Z"
   },
   {
    "duration": 6,
    "start_time": "2022-03-13T18:37:51.644Z"
   },
   {
    "duration": 13,
    "start_time": "2022-03-13T18:37:51.652Z"
   },
   {
    "duration": 15,
    "start_time": "2022-03-13T18:37:51.666Z"
   },
   {
    "duration": 4,
    "start_time": "2022-03-13T18:37:51.683Z"
   },
   {
    "duration": 3,
    "start_time": "2022-03-13T18:37:51.688Z"
   },
   {
    "duration": 11,
    "start_time": "2022-03-13T18:37:51.693Z"
   },
   {
    "duration": 8,
    "start_time": "2022-03-13T18:37:51.734Z"
   },
   {
    "duration": 3531,
    "start_time": "2022-03-13T18:37:51.745Z"
   },
   {
    "duration": 6,
    "start_time": "2022-03-13T18:37:55.278Z"
   },
   {
    "duration": 9,
    "start_time": "2022-03-13T18:37:55.286Z"
   },
   {
    "duration": 10,
    "start_time": "2022-03-13T18:37:55.296Z"
   },
   {
    "duration": 54,
    "start_time": "2022-03-13T18:37:55.332Z"
   },
   {
    "duration": 4,
    "start_time": "2022-03-13T18:37:55.388Z"
   },
   {
    "duration": 96,
    "start_time": "2022-03-13T18:37:55.394Z"
   },
   {
    "duration": 12,
    "start_time": "2022-03-13T18:37:55.492Z"
   },
   {
    "duration": 289,
    "start_time": "2022-03-13T18:37:55.506Z"
   },
   {
    "duration": 9,
    "start_time": "2022-03-13T18:37:55.797Z"
   },
   {
    "duration": 449,
    "start_time": "2022-03-13T18:37:55.808Z"
   },
   {
    "duration": 13,
    "start_time": "2022-03-13T18:37:56.258Z"
   },
   {
    "duration": 435,
    "start_time": "2022-03-13T18:37:56.272Z"
   },
   {
    "duration": 11,
    "start_time": "2022-03-13T18:37:56.709Z"
   },
   {
    "duration": 3,
    "start_time": "2022-03-13T18:37:56.733Z"
   },
   {
    "duration": 10,
    "start_time": "2022-03-13T18:37:56.738Z"
   },
   {
    "duration": 22,
    "start_time": "2022-03-13T18:37:56.749Z"
   },
   {
    "duration": 6,
    "start_time": "2022-03-13T18:37:56.773Z"
   },
   {
    "duration": 78,
    "start_time": "2022-03-13T18:37:56.782Z"
   },
   {
    "duration": 2781,
    "start_time": "2022-03-13T18:37:56.862Z"
   },
   {
    "duration": 487,
    "start_time": "2022-03-13T18:37:59.646Z"
   },
   {
    "duration": 6,
    "start_time": "2022-03-13T18:52:36.242Z"
   },
   {
    "duration": 736,
    "start_time": "2022-03-13T18:52:36.250Z"
   },
   {
    "duration": 6,
    "start_time": "2022-03-13T18:52:36.988Z"
   },
   {
    "duration": 10,
    "start_time": "2022-03-13T18:52:36.996Z"
   },
   {
    "duration": 31,
    "start_time": "2022-03-13T18:52:37.008Z"
   },
   {
    "duration": 6,
    "start_time": "2022-03-13T18:52:37.042Z"
   },
   {
    "duration": 3,
    "start_time": "2022-03-13T18:52:37.050Z"
   },
   {
    "duration": 7,
    "start_time": "2022-03-13T18:52:37.057Z"
   },
   {
    "duration": 10,
    "start_time": "2022-03-13T18:52:37.066Z"
   },
   {
    "duration": 3746,
    "start_time": "2022-03-13T18:52:37.077Z"
   },
   {
    "duration": 13,
    "start_time": "2022-03-13T18:52:40.824Z"
   },
   {
    "duration": 12,
    "start_time": "2022-03-13T18:52:40.840Z"
   },
   {
    "duration": 13,
    "start_time": "2022-03-13T18:52:40.853Z"
   },
   {
    "duration": 95,
    "start_time": "2022-03-13T18:52:40.867Z"
   },
   {
    "duration": 5,
    "start_time": "2022-03-13T18:52:40.964Z"
   },
   {
    "duration": 111,
    "start_time": "2022-03-13T18:52:40.970Z"
   },
   {
    "duration": 12,
    "start_time": "2022-03-13T18:52:41.083Z"
   },
   {
    "duration": 222,
    "start_time": "2022-03-13T18:52:41.096Z"
   },
   {
    "duration": 18,
    "start_time": "2022-03-13T18:52:41.320Z"
   },
   {
    "duration": 455,
    "start_time": "2022-03-13T18:52:41.340Z"
   },
   {
    "duration": 12,
    "start_time": "2022-03-13T18:52:41.797Z"
   },
   {
    "duration": 454,
    "start_time": "2022-03-13T18:52:41.811Z"
   },
   {
    "duration": 12,
    "start_time": "2022-03-13T18:52:42.267Z"
   },
   {
    "duration": 3,
    "start_time": "2022-03-13T18:52:42.281Z"
   },
   {
    "duration": 11,
    "start_time": "2022-03-13T18:52:42.285Z"
   },
   {
    "duration": 36,
    "start_time": "2022-03-13T18:52:42.298Z"
   },
   {
    "duration": 11,
    "start_time": "2022-03-13T18:52:42.337Z"
   },
   {
    "duration": 173,
    "start_time": "2022-03-13T18:52:42.350Z"
   },
   {
    "duration": 3114,
    "start_time": "2022-03-13T18:52:42.524Z"
   },
   {
    "duration": 208,
    "start_time": "2022-03-13T18:52:45.640Z"
   },
   {
    "duration": 4,
    "start_time": "2022-03-13T18:53:34.605Z"
   },
   {
    "duration": 1217675,
    "start_time": "2022-03-13T18:55:15.304Z"
   },
   {
    "duration": 3,
    "start_time": "2022-03-13T19:39:08.907Z"
   },
   {
    "duration": 3,
    "start_time": "2022-03-13T19:39:20.758Z"
   },
   {
    "duration": 4,
    "start_time": "2022-03-13T19:39:28.444Z"
   },
   {
    "duration": 58,
    "start_time": "2022-03-13T19:40:14.773Z"
   },
   {
    "duration": 3,
    "start_time": "2022-03-13T19:40:20.098Z"
   },
   {
    "duration": 4,
    "start_time": "2022-03-13T19:40:49.251Z"
   },
   {
    "duration": 4,
    "start_time": "2022-03-13T19:40:58.399Z"
   },
   {
    "duration": 7896,
    "start_time": "2022-03-13T19:41:47.914Z"
   },
   {
    "duration": 6,
    "start_time": "2022-03-13T19:48:14.657Z"
   },
   {
    "duration": 4,
    "start_time": "2022-03-13T19:48:36.734Z"
   },
   {
    "duration": 61,
    "start_time": "2022-03-13T19:49:17.859Z"
   },
   {
    "duration": 4,
    "start_time": "2022-03-13T19:49:31.605Z"
   },
   {
    "duration": 7887,
    "start_time": "2022-03-13T19:51:46.467Z"
   },
   {
    "duration": 8265,
    "start_time": "2022-03-13T19:53:01.282Z"
   },
   {
    "duration": 7682,
    "start_time": "2022-03-13T19:53:24.229Z"
   },
   {
    "duration": 7964,
    "start_time": "2022-03-13T19:53:38.108Z"
   },
   {
    "duration": 12155,
    "start_time": "2022-03-13T19:54:17.050Z"
   },
   {
    "duration": 4,
    "start_time": "2022-03-13T20:11:32.190Z"
   },
   {
    "duration": 666,
    "start_time": "2022-03-13T20:11:32.198Z"
   },
   {
    "duration": 7,
    "start_time": "2022-03-13T20:11:32.866Z"
   },
   {
    "duration": 11,
    "start_time": "2022-03-13T20:11:32.874Z"
   },
   {
    "duration": 18,
    "start_time": "2022-03-13T20:11:32.887Z"
   },
   {
    "duration": 27,
    "start_time": "2022-03-13T20:11:32.906Z"
   },
   {
    "duration": 3583,
    "start_time": "2022-03-13T20:11:32.935Z"
   },
   {
    "duration": 13,
    "start_time": "2022-03-13T20:11:36.520Z"
   },
   {
    "duration": 68,
    "start_time": "2022-03-13T20:11:36.534Z"
   },
   {
    "duration": 5,
    "start_time": "2022-03-13T20:11:36.604Z"
   },
   {
    "duration": 4,
    "start_time": "2022-03-13T20:16:08.695Z"
   },
   {
    "duration": 656,
    "start_time": "2022-03-13T20:16:08.703Z"
   },
   {
    "duration": 6,
    "start_time": "2022-03-13T20:16:09.360Z"
   },
   {
    "duration": 14,
    "start_time": "2022-03-13T20:16:09.368Z"
   },
   {
    "duration": 15,
    "start_time": "2022-03-13T20:16:09.384Z"
   },
   {
    "duration": 4,
    "start_time": "2022-03-13T20:16:09.400Z"
   },
   {
    "duration": 3697,
    "start_time": "2022-03-13T20:16:09.406Z"
   },
   {
    "duration": 7,
    "start_time": "2022-03-13T20:16:13.104Z"
   },
   {
    "duration": 73,
    "start_time": "2022-03-13T20:16:13.113Z"
   },
   {
    "duration": 7,
    "start_time": "2022-03-13T20:16:13.188Z"
   },
   {
    "duration": 11,
    "start_time": "2022-03-13T20:16:13.197Z"
   },
   {
    "duration": 214,
    "start_time": "2022-03-13T20:16:13.210Z"
   },
   {
    "duration": 15,
    "start_time": "2022-03-13T20:16:13.425Z"
   },
   {
    "duration": 444,
    "start_time": "2022-03-13T20:16:13.441Z"
   },
   {
    "duration": 12,
    "start_time": "2022-03-13T20:16:13.887Z"
   },
   {
    "duration": 426,
    "start_time": "2022-03-13T20:16:13.900Z"
   },
   {
    "duration": 12,
    "start_time": "2022-03-13T20:16:14.328Z"
   },
   {
    "duration": 4,
    "start_time": "2022-03-13T20:23:20.785Z"
   },
   {
    "duration": 682,
    "start_time": "2022-03-13T20:23:20.792Z"
   },
   {
    "duration": 8,
    "start_time": "2022-03-13T20:23:21.476Z"
   },
   {
    "duration": 8,
    "start_time": "2022-03-13T20:23:21.486Z"
   },
   {
    "duration": 36,
    "start_time": "2022-03-13T20:23:21.497Z"
   },
   {
    "duration": 5,
    "start_time": "2022-03-13T20:23:21.535Z"
   },
   {
    "duration": 3472,
    "start_time": "2022-03-13T20:23:21.541Z"
   },
   {
    "duration": 7,
    "start_time": "2022-03-13T20:23:25.015Z"
   },
   {
    "duration": 75,
    "start_time": "2022-03-13T20:23:25.023Z"
   },
   {
    "duration": 4,
    "start_time": "2022-03-13T20:23:25.101Z"
   },
   {
    "duration": 31,
    "start_time": "2022-03-13T20:23:25.107Z"
   },
   {
    "duration": 207,
    "start_time": "2022-03-13T20:23:25.140Z"
   },
   {
    "duration": 9,
    "start_time": "2022-03-13T20:23:25.348Z"
   },
   {
    "duration": 423,
    "start_time": "2022-03-13T20:23:25.359Z"
   },
   {
    "duration": 13,
    "start_time": "2022-03-13T20:23:25.783Z"
   },
   {
    "duration": 508,
    "start_time": "2022-03-13T20:23:25.798Z"
   },
   {
    "duration": 11,
    "start_time": "2022-03-13T20:23:26.308Z"
   },
   {
    "duration": 12,
    "start_time": "2022-03-13T20:23:26.321Z"
   },
   {
    "duration": 9,
    "start_time": "2022-03-13T20:23:26.334Z"
   },
   {
    "duration": 22,
    "start_time": "2022-03-13T20:23:26.345Z"
   },
   {
    "duration": 77,
    "start_time": "2022-03-13T20:23:26.369Z"
   },
   {
    "duration": 2989,
    "start_time": "2022-03-13T20:23:26.447Z"
   },
   {
    "duration": 4,
    "start_time": "2022-03-13T20:23:29.438Z"
   },
   {
    "duration": 577177,
    "start_time": "2022-03-13T20:23:29.443Z"
   },
   {
    "duration": 12266,
    "start_time": "2022-03-13T20:33:06.622Z"
   },
   {
    "duration": 6,
    "start_time": "2022-03-13T20:36:54.030Z"
   },
   {
    "duration": 5,
    "start_time": "2022-03-13T20:37:10.256Z"
   },
   {
    "duration": 5,
    "start_time": "2022-03-13T20:37:29.076Z"
   },
   {
    "duration": 54,
    "start_time": "2022-03-13T20:38:50.108Z"
   },
   {
    "duration": 7,
    "start_time": "2022-03-13T20:38:58.307Z"
   },
   {
    "duration": 4,
    "start_time": "2022-03-13T20:40:46.725Z"
   },
   {
    "duration": 724,
    "start_time": "2022-03-13T20:40:46.732Z"
   },
   {
    "duration": 7,
    "start_time": "2022-03-13T20:40:47.458Z"
   },
   {
    "duration": 10,
    "start_time": "2022-03-13T20:40:47.467Z"
   },
   {
    "duration": 15,
    "start_time": "2022-03-13T20:40:47.479Z"
   },
   {
    "duration": 4,
    "start_time": "2022-03-13T20:40:47.495Z"
   },
   {
    "duration": 3585,
    "start_time": "2022-03-13T20:40:47.501Z"
   },
   {
    "duration": 12,
    "start_time": "2022-03-13T20:40:51.088Z"
   },
   {
    "duration": 83,
    "start_time": "2022-03-13T20:40:51.101Z"
   },
   {
    "duration": 5,
    "start_time": "2022-03-13T20:40:51.187Z"
   },
   {
    "duration": 7,
    "start_time": "2022-03-13T20:40:51.194Z"
   },
   {
    "duration": 4,
    "start_time": "2022-03-13T20:43:23.254Z"
   },
   {
    "duration": 699,
    "start_time": "2022-03-13T20:43:23.263Z"
   },
   {
    "duration": 6,
    "start_time": "2022-03-13T20:43:23.964Z"
   },
   {
    "duration": 10,
    "start_time": "2022-03-13T20:43:23.971Z"
   },
   {
    "duration": 15,
    "start_time": "2022-03-13T20:43:23.983Z"
   },
   {
    "duration": 4,
    "start_time": "2022-03-13T20:43:23.999Z"
   },
   {
    "duration": 3543,
    "start_time": "2022-03-13T20:43:24.005Z"
   },
   {
    "duration": 11,
    "start_time": "2022-03-13T20:43:27.550Z"
   },
   {
    "duration": 87,
    "start_time": "2022-03-13T20:43:27.562Z"
   },
   {
    "duration": 4,
    "start_time": "2022-03-13T20:43:27.651Z"
   },
   {
    "duration": 7,
    "start_time": "2022-03-13T20:43:27.656Z"
   },
   {
    "duration": 4209,
    "start_time": "2022-03-13T20:49:34.539Z"
   },
   {
    "duration": 4,
    "start_time": "2022-03-13T20:52:34.541Z"
   },
   {
    "duration": 697,
    "start_time": "2022-03-13T20:52:34.549Z"
   },
   {
    "duration": 6,
    "start_time": "2022-03-13T20:52:35.248Z"
   },
   {
    "duration": 11,
    "start_time": "2022-03-13T20:52:35.256Z"
   },
   {
    "duration": 17,
    "start_time": "2022-03-13T20:52:35.268Z"
   },
   {
    "duration": 4,
    "start_time": "2022-03-13T20:52:35.287Z"
   },
   {
    "duration": 7,
    "start_time": "2022-03-13T20:52:35.292Z"
   },
   {
    "duration": 3440,
    "start_time": "2022-03-13T20:52:35.301Z"
   },
   {
    "duration": 6,
    "start_time": "2022-03-13T20:52:38.743Z"
   },
   {
    "duration": 10,
    "start_time": "2022-03-13T20:52:38.750Z"
   },
   {
    "duration": 83,
    "start_time": "2022-03-13T20:52:38.761Z"
   },
   {
    "duration": 4,
    "start_time": "2022-03-13T20:52:38.846Z"
   },
   {
    "duration": 9,
    "start_time": "2022-03-13T20:52:38.852Z"
   },
   {
    "duration": 4,
    "start_time": "2022-03-13T20:55:05.642Z"
   },
   {
    "duration": 750,
    "start_time": "2022-03-13T20:55:05.649Z"
   },
   {
    "duration": 6,
    "start_time": "2022-03-13T20:55:06.401Z"
   },
   {
    "duration": 12,
    "start_time": "2022-03-13T20:55:06.409Z"
   },
   {
    "duration": 24,
    "start_time": "2022-03-13T20:55:06.422Z"
   },
   {
    "duration": 4,
    "start_time": "2022-03-13T20:55:06.447Z"
   },
   {
    "duration": 8,
    "start_time": "2022-03-13T20:55:06.453Z"
   },
   {
    "duration": 3462,
    "start_time": "2022-03-13T20:55:06.462Z"
   },
   {
    "duration": 10,
    "start_time": "2022-03-13T20:55:09.926Z"
   },
   {
    "duration": 12,
    "start_time": "2022-03-13T20:55:09.938Z"
   },
   {
    "duration": 81,
    "start_time": "2022-03-13T20:55:09.952Z"
   },
   {
    "duration": 6,
    "start_time": "2022-03-13T20:55:10.035Z"
   },
   {
    "duration": 14,
    "start_time": "2022-03-13T20:55:10.042Z"
   },
   {
    "duration": 4,
    "start_time": "2022-03-13T20:55:55.408Z"
   },
   {
    "duration": 661,
    "start_time": "2022-03-13T20:55:55.417Z"
   },
   {
    "duration": 7,
    "start_time": "2022-03-13T20:55:56.079Z"
   },
   {
    "duration": 13,
    "start_time": "2022-03-13T20:55:56.088Z"
   },
   {
    "duration": 32,
    "start_time": "2022-03-13T20:55:56.103Z"
   },
   {
    "duration": 5,
    "start_time": "2022-03-13T20:55:56.136Z"
   },
   {
    "duration": 9,
    "start_time": "2022-03-13T20:55:56.142Z"
   },
   {
    "duration": 3465,
    "start_time": "2022-03-13T20:55:56.153Z"
   },
   {
    "duration": 6,
    "start_time": "2022-03-13T20:55:59.619Z"
   },
   {
    "duration": 7,
    "start_time": "2022-03-13T20:55:59.633Z"
   },
   {
    "duration": 61,
    "start_time": "2022-03-13T20:55:59.642Z"
   },
   {
    "duration": 29,
    "start_time": "2022-03-13T20:55:59.704Z"
   },
   {
    "duration": 9,
    "start_time": "2022-03-13T20:55:59.735Z"
   },
   {
    "duration": 5,
    "start_time": "2022-03-13T20:58:11.218Z"
   },
   {
    "duration": 623,
    "start_time": "2022-03-13T20:58:11.225Z"
   },
   {
    "duration": 7,
    "start_time": "2022-03-13T20:58:11.849Z"
   },
   {
    "duration": 12,
    "start_time": "2022-03-13T20:58:11.857Z"
   },
   {
    "duration": 16,
    "start_time": "2022-03-13T20:58:11.871Z"
   },
   {
    "duration": 4,
    "start_time": "2022-03-13T20:58:11.888Z"
   },
   {
    "duration": 3482,
    "start_time": "2022-03-13T20:58:11.893Z"
   },
   {
    "duration": 5,
    "start_time": "2022-03-13T20:58:15.377Z"
   },
   {
    "duration": 69,
    "start_time": "2022-03-13T20:58:15.384Z"
   },
   {
    "duration": 5,
    "start_time": "2022-03-13T20:58:15.455Z"
   },
   {
    "duration": 12,
    "start_time": "2022-03-13T20:58:15.461Z"
   },
   {
    "duration": 222,
    "start_time": "2022-03-13T20:58:15.474Z"
   },
   {
    "duration": 10,
    "start_time": "2022-03-13T20:58:15.698Z"
   },
   {
    "duration": 437,
    "start_time": "2022-03-13T20:58:15.710Z"
   },
   {
    "duration": 13,
    "start_time": "2022-03-13T20:58:16.149Z"
   },
   {
    "duration": 431,
    "start_time": "2022-03-13T20:58:16.164Z"
   },
   {
    "duration": 12,
    "start_time": "2022-03-13T20:58:16.597Z"
   },
   {
    "duration": 4,
    "start_time": "2022-03-13T20:58:16.611Z"
   },
   {
    "duration": 9,
    "start_time": "2022-03-13T20:58:16.633Z"
   },
   {
    "duration": 19,
    "start_time": "2022-03-13T20:58:16.644Z"
   },
   {
    "duration": 83,
    "start_time": "2022-03-13T20:58:16.665Z"
   },
   {
    "duration": 2388,
    "start_time": "2022-03-13T20:58:16.750Z"
   },
   {
    "duration": 6,
    "start_time": "2022-03-13T20:58:19.140Z"
   },
   {
    "duration": 1120,
    "start_time": "2022-03-14T05:05:23.601Z"
   },
   {
    "duration": 709,
    "start_time": "2022-03-14T05:05:24.723Z"
   },
   {
    "duration": 9,
    "start_time": "2022-03-14T05:05:25.434Z"
   },
   {
    "duration": 9,
    "start_time": "2022-03-14T05:05:25.444Z"
   },
   {
    "duration": 13,
    "start_time": "2022-03-14T05:05:25.455Z"
   },
   {
    "duration": 3,
    "start_time": "2022-03-14T05:05:25.469Z"
   },
   {
    "duration": 3301,
    "start_time": "2022-03-14T05:05:25.474Z"
   },
   {
    "duration": 7,
    "start_time": "2022-03-14T05:05:28.778Z"
   },
   {
    "duration": 68,
    "start_time": "2022-03-14T05:05:28.787Z"
   },
   {
    "duration": 8,
    "start_time": "2022-03-14T05:05:28.857Z"
   },
   {
    "duration": 10,
    "start_time": "2022-03-14T05:05:28.867Z"
   },
   {
    "duration": 224,
    "start_time": "2022-03-14T05:05:28.879Z"
   },
   {
    "duration": 10,
    "start_time": "2022-03-14T05:05:29.105Z"
   },
   {
    "duration": 415,
    "start_time": "2022-03-14T05:05:29.116Z"
   },
   {
    "duration": 12,
    "start_time": "2022-03-14T05:05:29.533Z"
   },
   {
    "duration": 398,
    "start_time": "2022-03-14T05:05:29.547Z"
   },
   {
    "duration": 16,
    "start_time": "2022-03-14T05:05:29.947Z"
   },
   {
    "duration": 5,
    "start_time": "2022-03-14T05:05:29.964Z"
   },
   {
    "duration": 31,
    "start_time": "2022-03-14T05:05:29.970Z"
   },
   {
    "duration": 25,
    "start_time": "2022-03-14T05:05:30.003Z"
   },
   {
    "duration": 51,
    "start_time": "2022-03-14T05:05:30.030Z"
   },
   {
    "duration": 2422,
    "start_time": "2022-03-14T05:05:30.083Z"
   },
   {
    "duration": 4,
    "start_time": "2022-03-14T05:05:32.508Z"
   },
   {
    "duration": 1112566,
    "start_time": "2022-03-14T05:05:32.514Z"
   },
   {
    "duration": 11863,
    "start_time": "2022-03-14T05:24:05.081Z"
   },
   {
    "duration": 1070,
    "start_time": "2022-03-15T07:46:15.700Z"
   },
   {
    "duration": 706,
    "start_time": "2022-03-15T07:46:16.772Z"
   },
   {
    "duration": 8,
    "start_time": "2022-03-15T07:46:17.479Z"
   },
   {
    "duration": 12,
    "start_time": "2022-03-15T07:46:17.488Z"
   },
   {
    "duration": 14,
    "start_time": "2022-03-15T07:46:17.502Z"
   },
   {
    "duration": 4,
    "start_time": "2022-03-15T07:46:17.533Z"
   },
   {
    "duration": 403,
    "start_time": "2022-03-15T07:46:17.539Z"
   },
   {
    "duration": -353,
    "start_time": "2022-03-15T07:46:18.296Z"
   },
   {
    "duration": 311,
    "start_time": "2022-03-15T08:01:08.056Z"
   },
   {
    "duration": 4,
    "start_time": "2022-03-15T08:03:17.173Z"
   },
   {
    "duration": 302,
    "start_time": "2022-03-15T08:03:23.892Z"
   },
   {
    "duration": 355,
    "start_time": "2022-03-15T08:06:52.960Z"
   },
   {
    "duration": 462,
    "start_time": "2022-03-15T08:13:58.465Z"
   },
   {
    "duration": 18,
    "start_time": "2022-03-15T08:14:52.470Z"
   },
   {
    "duration": 7,
    "start_time": "2022-03-15T08:15:03.064Z"
   },
   {
    "duration": 19,
    "start_time": "2022-03-15T08:16:18.233Z"
   },
   {
    "duration": 17,
    "start_time": "2022-03-15T08:17:08.719Z"
   },
   {
    "duration": 17,
    "start_time": "2022-03-15T08:17:10.038Z"
   },
   {
    "duration": 222,
    "start_time": "2022-03-15T08:18:03.524Z"
   },
   {
    "duration": 64,
    "start_time": "2022-03-15T08:20:54.918Z"
   },
   {
    "duration": 16,
    "start_time": "2022-03-15T08:21:18.713Z"
   },
   {
    "duration": 4,
    "start_time": "2022-03-15T08:23:04.930Z"
   },
   {
    "duration": 668,
    "start_time": "2022-03-15T08:23:04.956Z"
   },
   {
    "duration": 10,
    "start_time": "2022-03-15T08:23:05.626Z"
   },
   {
    "duration": 12,
    "start_time": "2022-03-15T08:23:05.638Z"
   },
   {
    "duration": 16,
    "start_time": "2022-03-15T08:23:05.651Z"
   },
   {
    "duration": 4,
    "start_time": "2022-03-15T08:23:05.669Z"
   },
   {
    "duration": 19,
    "start_time": "2022-03-15T08:23:05.675Z"
   },
   {
    "duration": 11,
    "start_time": "2022-03-15T08:24:57.617Z"
   },
   {
    "duration": 7,
    "start_time": "2022-03-15T08:25:33.992Z"
   },
   {
    "duration": 6,
    "start_time": "2022-03-15T08:26:24.014Z"
   },
   {
    "duration": 6,
    "start_time": "2022-03-15T08:26:42.346Z"
   },
   {
    "duration": 6,
    "start_time": "2022-03-15T08:27:40.873Z"
   },
   {
    "duration": 5,
    "start_time": "2022-03-15T08:27:46.830Z"
   },
   {
    "duration": 5,
    "start_time": "2022-03-15T08:27:51.681Z"
   },
   {
    "duration": 7,
    "start_time": "2022-03-15T08:29:12.336Z"
   },
   {
    "duration": 5,
    "start_time": "2022-03-15T08:29:20.460Z"
   },
   {
    "duration": 5,
    "start_time": "2022-03-15T08:29:36.880Z"
   },
   {
    "duration": 689,
    "start_time": "2022-03-15T08:29:36.898Z"
   },
   {
    "duration": 7,
    "start_time": "2022-03-15T08:29:37.589Z"
   },
   {
    "duration": 12,
    "start_time": "2022-03-15T08:29:37.598Z"
   },
   {
    "duration": 31,
    "start_time": "2022-03-15T08:29:37.612Z"
   },
   {
    "duration": 5,
    "start_time": "2022-03-15T08:29:37.644Z"
   },
   {
    "duration": 26,
    "start_time": "2022-03-15T08:29:37.650Z"
   },
   {
    "duration": 6,
    "start_time": "2022-03-15T08:29:37.678Z"
   },
   {
    "duration": 7,
    "start_time": "2022-03-15T08:29:37.686Z"
   },
   {
    "duration": 37,
    "start_time": "2022-03-15T08:30:28.112Z"
   },
   {
    "duration": 5,
    "start_time": "2022-03-15T08:30:49.139Z"
   },
   {
    "duration": 659,
    "start_time": "2022-03-15T08:30:49.152Z"
   },
   {
    "duration": 7,
    "start_time": "2022-03-15T08:30:49.813Z"
   },
   {
    "duration": 16,
    "start_time": "2022-03-15T08:30:49.822Z"
   },
   {
    "duration": 15,
    "start_time": "2022-03-15T08:30:49.840Z"
   },
   {
    "duration": 5,
    "start_time": "2022-03-15T08:30:49.857Z"
   },
   {
    "duration": 22,
    "start_time": "2022-03-15T08:30:49.863Z"
   },
   {
    "duration": 968,
    "start_time": "2022-03-15T08:30:49.887Z"
   },
   {
    "duration": 25,
    "start_time": "2022-03-15T08:30:50.856Z"
   },
   {
    "duration": 31,
    "start_time": "2022-03-15T08:31:05.970Z"
   },
   {
    "duration": 5,
    "start_time": "2022-03-15T08:32:05.954Z"
   },
   {
    "duration": 669,
    "start_time": "2022-03-15T08:32:05.973Z"
   },
   {
    "duration": 7,
    "start_time": "2022-03-15T08:32:06.643Z"
   },
   {
    "duration": 12,
    "start_time": "2022-03-15T08:32:06.652Z"
   },
   {
    "duration": 13,
    "start_time": "2022-03-15T08:32:06.666Z"
   },
   {
    "duration": 4,
    "start_time": "2022-03-15T08:32:06.681Z"
   },
   {
    "duration": 49,
    "start_time": "2022-03-15T08:32:06.686Z"
   },
   {
    "duration": 5,
    "start_time": "2022-03-15T08:32:06.738Z"
   },
   {
    "duration": 6,
    "start_time": "2022-03-15T08:32:06.745Z"
   },
   {
    "duration": 5,
    "start_time": "2022-03-15T08:32:47.769Z"
   },
   {
    "duration": 10,
    "start_time": "2022-03-15T08:36:05.967Z"
   },
   {
    "duration": 7,
    "start_time": "2022-03-15T08:36:12.806Z"
   },
   {
    "duration": 5,
    "start_time": "2022-03-15T08:36:39.347Z"
   },
   {
    "duration": 6,
    "start_time": "2022-03-15T08:36:59.426Z"
   },
   {
    "duration": 8,
    "start_time": "2022-03-15T08:37:06.754Z"
   },
   {
    "duration": 9,
    "start_time": "2022-03-15T08:37:33.623Z"
   },
   {
    "duration": 5,
    "start_time": "2022-03-15T08:38:37.926Z"
   },
   {
    "duration": 703,
    "start_time": "2022-03-15T08:38:38.077Z"
   },
   {
    "duration": 7,
    "start_time": "2022-03-15T08:38:38.781Z"
   },
   {
    "duration": 12,
    "start_time": "2022-03-15T08:38:38.790Z"
   },
   {
    "duration": 33,
    "start_time": "2022-03-15T08:38:38.804Z"
   },
   {
    "duration": 5,
    "start_time": "2022-03-15T08:38:38.838Z"
   },
   {
    "duration": 29,
    "start_time": "2022-03-15T08:38:38.844Z"
   },
   {
    "duration": 18,
    "start_time": "2022-03-15T08:38:38.876Z"
   },
   {
    "duration": 10,
    "start_time": "2022-03-15T08:38:38.895Z"
   },
   {
    "duration": 5,
    "start_time": "2022-03-15T08:38:38.907Z"
   },
   {
    "duration": 22,
    "start_time": "2022-03-15T08:38:38.913Z"
   },
   {
    "duration": 9,
    "start_time": "2022-03-15T08:38:38.937Z"
   },
   {
    "duration": 7,
    "start_time": "2022-03-15T08:39:06.294Z"
   },
   {
    "duration": 6,
    "start_time": "2022-03-15T08:39:44.032Z"
   },
   {
    "duration": 8,
    "start_time": "2022-03-15T08:39:51.823Z"
   },
   {
    "duration": 5,
    "start_time": "2022-03-15T08:41:40.741Z"
   },
   {
    "duration": 8,
    "start_time": "2022-03-15T08:42:27.991Z"
   },
   {
    "duration": 5,
    "start_time": "2022-03-15T08:42:32.517Z"
   },
   {
    "duration": 79,
    "start_time": "2022-03-15T08:43:11.320Z"
   },
   {
    "duration": 67,
    "start_time": "2022-03-15T08:43:18.033Z"
   },
   {
    "duration": 7,
    "start_time": "2022-03-15T08:43:27.999Z"
   },
   {
    "duration": 7,
    "start_time": "2022-03-15T08:43:50.486Z"
   },
   {
    "duration": 7,
    "start_time": "2022-03-15T09:24:27.883Z"
   },
   {
    "duration": 7,
    "start_time": "2022-03-15T09:24:30.507Z"
   },
   {
    "duration": 8,
    "start_time": "2022-03-15T09:24:36.806Z"
   },
   {
    "duration": 185,
    "start_time": "2022-03-15T09:26:22.253Z"
   },
   {
    "duration": 7,
    "start_time": "2022-03-15T09:26:28.595Z"
   },
   {
    "duration": 55,
    "start_time": "2022-03-15T09:28:08.834Z"
   },
   {
    "duration": 12,
    "start_time": "2022-03-15T09:28:17.818Z"
   },
   {
    "duration": 7,
    "start_time": "2022-03-15T09:30:52.212Z"
   },
   {
    "duration": 18,
    "start_time": "2022-03-15T09:40:46.204Z"
   },
   {
    "duration": 17,
    "start_time": "2022-03-15T09:41:12.754Z"
   },
   {
    "duration": 7,
    "start_time": "2022-03-15T09:46:51.648Z"
   },
   {
    "duration": 173,
    "start_time": "2022-03-15T09:47:19.568Z"
   },
   {
    "duration": 8,
    "start_time": "2022-03-15T09:47:25.677Z"
   },
   {
    "duration": 6,
    "start_time": "2022-03-15T09:47:33.664Z"
   },
   {
    "duration": 6,
    "start_time": "2022-03-15T10:51:04.895Z"
   },
   {
    "duration": 6,
    "start_time": "2022-03-15T10:51:10.246Z"
   },
   {
    "duration": 5,
    "start_time": "2022-03-15T10:51:14.176Z"
   },
   {
    "duration": 5,
    "start_time": "2022-03-15T10:51:54.095Z"
   },
   {
    "duration": 5,
    "start_time": "2022-03-15T10:51:57.448Z"
   },
   {
    "duration": 5,
    "start_time": "2022-03-15T10:52:00.219Z"
   },
   {
    "duration": 5,
    "start_time": "2022-03-15T10:52:03.626Z"
   },
   {
    "duration": 5,
    "start_time": "2022-03-15T10:52:16.584Z"
   },
   {
    "duration": 6,
    "start_time": "2022-03-15T10:54:42.585Z"
   },
   {
    "duration": 5,
    "start_time": "2022-03-15T10:57:04.791Z"
   },
   {
    "duration": 4,
    "start_time": "2022-03-15T10:57:25.843Z"
   },
   {
    "duration": 719,
    "start_time": "2022-03-15T10:57:26.242Z"
   },
   {
    "duration": 7,
    "start_time": "2022-03-15T10:57:26.963Z"
   },
   {
    "duration": 7,
    "start_time": "2022-03-15T10:57:26.972Z"
   },
   {
    "duration": 18,
    "start_time": "2022-03-15T10:57:26.981Z"
   },
   {
    "duration": 4,
    "start_time": "2022-03-15T10:57:27.001Z"
   },
   {
    "duration": 21,
    "start_time": "2022-03-15T10:57:27.033Z"
   },
   {
    "duration": 5,
    "start_time": "2022-03-15T10:57:27.056Z"
   },
   {
    "duration": 6,
    "start_time": "2022-03-15T10:57:27.063Z"
   },
   {
    "duration": 6,
    "start_time": "2022-03-15T10:57:27.070Z"
   },
   {
    "duration": 6,
    "start_time": "2022-03-15T10:57:52.743Z"
   },
   {
    "duration": 4,
    "start_time": "2022-03-15T10:59:52.357Z"
   },
   {
    "duration": 654,
    "start_time": "2022-03-15T10:59:52.497Z"
   },
   {
    "duration": 7,
    "start_time": "2022-03-15T10:59:53.153Z"
   },
   {
    "duration": 11,
    "start_time": "2022-03-15T10:59:53.161Z"
   },
   {
    "duration": 14,
    "start_time": "2022-03-15T10:59:53.174Z"
   },
   {
    "duration": 4,
    "start_time": "2022-03-15T10:59:53.190Z"
   },
   {
    "duration": 49,
    "start_time": "2022-03-15T10:59:53.195Z"
   },
   {
    "duration": 3,
    "start_time": "2022-03-15T10:59:53.246Z"
   },
   {
    "duration": 7,
    "start_time": "2022-03-15T10:59:53.251Z"
   },
   {
    "duration": 7,
    "start_time": "2022-03-15T10:59:53.260Z"
   },
   {
    "duration": 6,
    "start_time": "2022-03-15T10:59:53.269Z"
   },
   {
    "duration": 5,
    "start_time": "2022-03-15T10:59:53.276Z"
   },
   {
    "duration": 4,
    "start_time": "2022-03-15T11:00:12.002Z"
   },
   {
    "duration": 5,
    "start_time": "2022-03-15T11:19:43.547Z"
   },
   {
    "duration": 656,
    "start_time": "2022-03-15T11:19:43.847Z"
   },
   {
    "duration": 9,
    "start_time": "2022-03-15T11:19:44.505Z"
   },
   {
    "duration": 21,
    "start_time": "2022-03-15T11:19:44.516Z"
   },
   {
    "duration": 15,
    "start_time": "2022-03-15T11:19:44.539Z"
   },
   {
    "duration": 4,
    "start_time": "2022-03-15T11:19:44.555Z"
   },
   {
    "duration": 5,
    "start_time": "2022-03-15T11:19:44.561Z"
   },
   {
    "duration": 23,
    "start_time": "2022-03-15T11:19:44.567Z"
   },
   {
    "duration": 2,
    "start_time": "2022-03-15T11:19:44.593Z"
   },
   {
    "duration": 6,
    "start_time": "2022-03-15T11:19:44.633Z"
   },
   {
    "duration": 7,
    "start_time": "2022-03-15T11:19:44.641Z"
   },
   {
    "duration": 7,
    "start_time": "2022-03-15T11:19:44.649Z"
   },
   {
    "duration": 8,
    "start_time": "2022-03-15T11:19:44.658Z"
   },
   {
    "duration": 6,
    "start_time": "2022-03-15T11:19:44.667Z"
   },
   {
    "duration": 15,
    "start_time": "2022-03-15T11:19:44.675Z"
   },
   {
    "duration": 54,
    "start_time": "2022-03-15T11:19:44.692Z"
   },
   {
    "duration": 8,
    "start_time": "2022-03-15T11:19:44.748Z"
   },
   {
    "duration": 6,
    "start_time": "2022-03-15T11:35:09.952Z"
   },
   {
    "duration": 6,
    "start_time": "2022-03-15T11:35:34.958Z"
   },
   {
    "duration": 6,
    "start_time": "2022-03-15T12:23:46.058Z"
   },
   {
    "duration": 6,
    "start_time": "2022-03-15T12:25:34.771Z"
   },
   {
    "duration": 24,
    "start_time": "2022-03-15T12:25:52.626Z"
   },
   {
    "duration": 4,
    "start_time": "2022-03-15T12:26:30.189Z"
   },
   {
    "duration": 682,
    "start_time": "2022-03-15T12:26:30.195Z"
   },
   {
    "duration": 7,
    "start_time": "2022-03-15T12:26:30.879Z"
   },
   {
    "duration": 11,
    "start_time": "2022-03-15T12:26:30.887Z"
   },
   {
    "duration": 34,
    "start_time": "2022-03-15T12:26:30.899Z"
   },
   {
    "duration": 4,
    "start_time": "2022-03-15T12:26:30.935Z"
   },
   {
    "duration": 18,
    "start_time": "2022-03-15T12:26:30.941Z"
   },
   {
    "duration": 22,
    "start_time": "2022-03-15T12:26:31.819Z"
   },
   {
    "duration": 6,
    "start_time": "2022-03-15T12:26:31.843Z"
   },
   {
    "duration": 7,
    "start_time": "2022-03-15T12:26:31.851Z"
   },
   {
    "duration": 7,
    "start_time": "2022-03-15T12:26:31.859Z"
   },
   {
    "duration": 79,
    "start_time": "2022-03-15T12:26:31.868Z"
   },
   {
    "duration": 8,
    "start_time": "2022-03-15T12:27:45.387Z"
   },
   {
    "duration": 5,
    "start_time": "2022-03-15T12:27:52.867Z"
   },
   {
    "duration": 7,
    "start_time": "2022-03-15T12:28:02.013Z"
   },
   {
    "duration": 5,
    "start_time": "2022-03-15T12:28:11.741Z"
   },
   {
    "duration": 4,
    "start_time": "2022-03-15T12:28:33.707Z"
   },
   {
    "duration": 658,
    "start_time": "2022-03-15T12:28:33.790Z"
   },
   {
    "duration": 7,
    "start_time": "2022-03-15T12:28:34.450Z"
   },
   {
    "duration": 12,
    "start_time": "2022-03-15T12:28:34.459Z"
   },
   {
    "duration": 15,
    "start_time": "2022-03-15T12:28:34.473Z"
   },
   {
    "duration": 4,
    "start_time": "2022-03-15T12:28:34.489Z"
   },
   {
    "duration": 9,
    "start_time": "2022-03-15T12:28:34.494Z"
   },
   {
    "duration": 46,
    "start_time": "2022-03-15T12:28:34.505Z"
   },
   {
    "duration": 7,
    "start_time": "2022-03-15T12:28:34.554Z"
   },
   {
    "duration": 13,
    "start_time": "2022-03-15T12:28:34.563Z"
   },
   {
    "duration": 6,
    "start_time": "2022-03-15T12:28:34.577Z"
   },
   {
    "duration": 10,
    "start_time": "2022-03-15T12:28:34.584Z"
   },
   {
    "duration": 191,
    "start_time": "2022-03-15T12:28:34.596Z"
   },
   {
    "duration": 6,
    "start_time": "2022-03-15T12:28:47.995Z"
   },
   {
    "duration": 5,
    "start_time": "2022-03-15T12:28:50.498Z"
   },
   {
    "duration": 4,
    "start_time": "2022-03-15T12:29:07.819Z"
   },
   {
    "duration": 649,
    "start_time": "2022-03-15T12:29:07.825Z"
   },
   {
    "duration": 8,
    "start_time": "2022-03-15T12:29:08.477Z"
   },
   {
    "duration": 11,
    "start_time": "2022-03-15T12:29:08.487Z"
   },
   {
    "duration": 16,
    "start_time": "2022-03-15T12:29:09.577Z"
   },
   {
    "duration": 4,
    "start_time": "2022-03-15T12:29:09.595Z"
   },
   {
    "duration": 8,
    "start_time": "2022-03-15T12:29:09.600Z"
   },
   {
    "duration": 30,
    "start_time": "2022-03-15T12:29:09.613Z"
   },
   {
    "duration": 6,
    "start_time": "2022-03-15T12:29:09.645Z"
   },
   {
    "duration": 6,
    "start_time": "2022-03-15T12:29:11.043Z"
   },
   {
    "duration": 7,
    "start_time": "2022-03-15T12:29:11.051Z"
   },
   {
    "duration": 15,
    "start_time": "2022-03-15T12:29:11.060Z"
   },
   {
    "duration": 18,
    "start_time": "2022-03-15T12:29:15.888Z"
   },
   {
    "duration": 5,
    "start_time": "2022-03-15T12:29:17.816Z"
   },
   {
    "duration": 6,
    "start_time": "2022-03-15T12:53:04.349Z"
   },
   {
    "duration": 946,
    "start_time": "2022-03-15T12:53:04.357Z"
   },
   {
    "duration": 8,
    "start_time": "2022-03-15T12:53:05.306Z"
   },
   {
    "duration": 20,
    "start_time": "2022-03-15T12:53:05.316Z"
   },
   {
    "duration": 13,
    "start_time": "2022-03-15T12:53:05.339Z"
   },
   {
    "duration": 7,
    "start_time": "2022-03-15T12:53:05.354Z"
   },
   {
    "duration": 23,
    "start_time": "2022-03-15T12:53:05.363Z"
   },
   {
    "duration": 53,
    "start_time": "2022-03-15T12:53:05.388Z"
   },
   {
    "duration": 16,
    "start_time": "2022-03-15T12:53:05.443Z"
   },
   {
    "duration": 7,
    "start_time": "2022-03-15T12:53:05.461Z"
   },
   {
    "duration": 64,
    "start_time": "2022-03-15T12:55:24.386Z"
   },
   {
    "duration": 181,
    "start_time": "2022-03-15T12:55:32.535Z"
   },
   {
    "duration": 60,
    "start_time": "2022-03-15T12:55:41.292Z"
   },
   {
    "duration": 4,
    "start_time": "2022-03-15T12:56:31.072Z"
   },
   {
    "duration": 637,
    "start_time": "2022-03-15T12:56:31.080Z"
   },
   {
    "duration": 14,
    "start_time": "2022-03-15T12:56:31.719Z"
   },
   {
    "duration": 7,
    "start_time": "2022-03-15T12:56:31.735Z"
   },
   {
    "duration": 14,
    "start_time": "2022-03-15T12:56:31.744Z"
   },
   {
    "duration": 5,
    "start_time": "2022-03-15T12:56:31.759Z"
   },
   {
    "duration": 23,
    "start_time": "2022-03-15T12:56:31.765Z"
   },
   {
    "duration": 58,
    "start_time": "2022-03-15T12:56:31.790Z"
   },
   {
    "duration": 14,
    "start_time": "2022-03-15T12:56:31.850Z"
   },
   {
    "duration": 7,
    "start_time": "2022-03-15T12:56:31.866Z"
   },
   {
    "duration": 87,
    "start_time": "2022-03-15T12:56:31.874Z"
   },
   {
    "duration": 6,
    "start_time": "2022-03-15T12:56:31.963Z"
   },
   {
    "duration": 5,
    "start_time": "2022-03-15T12:56:58.565Z"
   },
   {
    "duration": 661,
    "start_time": "2022-03-15T12:56:58.574Z"
   },
   {
    "duration": 8,
    "start_time": "2022-03-15T12:56:59.238Z"
   },
   {
    "duration": 9,
    "start_time": "2022-03-15T12:56:59.248Z"
   },
   {
    "duration": 14,
    "start_time": "2022-03-15T12:56:59.260Z"
   },
   {
    "duration": 5,
    "start_time": "2022-03-15T12:56:59.276Z"
   },
   {
    "duration": 67,
    "start_time": "2022-03-15T12:56:59.283Z"
   },
   {
    "duration": 21,
    "start_time": "2022-03-15T12:56:59.353Z"
   },
   {
    "duration": 16,
    "start_time": "2022-03-15T12:56:59.376Z"
   },
   {
    "duration": 40,
    "start_time": "2022-03-15T12:56:59.395Z"
   },
   {
    "duration": 69,
    "start_time": "2022-03-15T12:56:59.438Z"
   },
   {
    "duration": 6,
    "start_time": "2022-03-15T12:56:59.509Z"
   },
   {
    "duration": 13,
    "start_time": "2022-03-15T12:56:59.533Z"
   },
   {
    "duration": 225,
    "start_time": "2022-03-15T12:56:59.548Z"
   },
   {
    "duration": 8,
    "start_time": "2022-03-15T12:56:59.774Z"
   },
   {
    "duration": 442,
    "start_time": "2022-03-15T12:56:59.784Z"
   },
   {
    "duration": 12,
    "start_time": "2022-03-15T12:57:00.228Z"
   },
   {
    "duration": 499,
    "start_time": "2022-03-15T12:57:00.242Z"
   },
   {
    "duration": 12,
    "start_time": "2022-03-15T12:57:00.742Z"
   },
   {
    "duration": 11,
    "start_time": "2022-03-15T12:57:00.755Z"
   },
   {
    "duration": 15,
    "start_time": "2022-03-15T12:57:00.767Z"
   },
   {
    "duration": 34,
    "start_time": "2022-03-15T12:57:00.783Z"
   },
   {
    "duration": 67,
    "start_time": "2022-03-15T12:57:00.818Z"
   },
   {
    "duration": 2647,
    "start_time": "2022-03-15T12:57:00.887Z"
   },
   {
    "duration": 4,
    "start_time": "2022-03-15T12:57:03.536Z"
   },
   {
    "duration": 28,
    "start_time": "2022-03-15T12:57:03.542Z"
   },
   {
    "duration": 12310,
    "start_time": "2022-03-15T12:57:03.573Z"
   },
   {
    "duration": 318,
    "start_time": "2022-03-15T22:16:33.851Z"
   },
   {
    "duration": 1549,
    "start_time": "2022-03-15T22:16:48.016Z"
   },
   {
    "duration": 868,
    "start_time": "2022-03-15T22:16:49.568Z"
   },
   {
    "duration": 13,
    "start_time": "2022-03-15T22:16:50.440Z"
   },
   {
    "duration": 15,
    "start_time": "2022-03-15T22:16:50.456Z"
   },
   {
    "duration": 20,
    "start_time": "2022-03-15T22:16:50.473Z"
   },
   {
    "duration": 6,
    "start_time": "2022-03-15T22:16:50.496Z"
   },
   {
    "duration": 70,
    "start_time": "2022-03-15T22:16:50.504Z"
   },
   {
    "duration": 17,
    "start_time": "2022-03-15T22:16:50.578Z"
   },
   {
    "duration": 22,
    "start_time": "2022-03-15T22:16:50.598Z"
   },
   {
    "duration": 10,
    "start_time": "2022-03-15T22:16:50.650Z"
   },
   {
    "duration": 88,
    "start_time": "2022-03-15T22:16:50.663Z"
   },
   {
    "duration": 10,
    "start_time": "2022-03-15T22:16:50.753Z"
   },
   {
    "duration": 20,
    "start_time": "2022-03-15T22:16:50.765Z"
   },
   {
    "duration": 652,
    "start_time": "2022-03-15T22:16:50.787Z"
   },
   {
    "duration": 631,
    "start_time": "2022-03-15T22:17:41.224Z"
   },
   {
    "duration": 694,
    "start_time": "2022-03-15T22:18:48.700Z"
   },
   {
    "duration": 780,
    "start_time": "2022-03-15T22:19:39.036Z"
   },
   {
    "duration": 698,
    "start_time": "2022-03-15T22:20:18.989Z"
   },
   {
    "duration": 953,
    "start_time": "2022-03-15T22:26:23.658Z"
   },
   {
    "duration": 944,
    "start_time": "2022-03-15T22:26:40.990Z"
   },
   {
    "duration": 982,
    "start_time": "2022-03-15T22:27:57.621Z"
   },
   {
    "duration": 908,
    "start_time": "2022-03-15T22:28:29.362Z"
   },
   {
    "duration": 960,
    "start_time": "2022-03-15T22:29:07.677Z"
   },
   {
    "duration": 996,
    "start_time": "2022-03-15T22:29:31.326Z"
   },
   {
    "duration": 1008,
    "start_time": "2022-03-15T22:33:27.807Z"
   },
   {
    "duration": 905,
    "start_time": "2022-03-15T22:34:01.223Z"
   },
   {
    "duration": 61,
    "start_time": "2022-03-15T22:35:06.818Z"
   },
   {
    "duration": 987,
    "start_time": "2022-03-15T22:35:13.415Z"
   },
   {
    "duration": 1084,
    "start_time": "2022-03-15T22:35:51.819Z"
   },
   {
    "duration": 956,
    "start_time": "2022-03-15T22:36:38.748Z"
   },
   {
    "duration": 808,
    "start_time": "2022-03-15T22:37:44.196Z"
   },
   {
    "duration": 712,
    "start_time": "2022-03-15T22:38:21.212Z"
   },
   {
    "duration": 889,
    "start_time": "2022-03-15T22:38:27.020Z"
   },
   {
    "duration": 919,
    "start_time": "2022-03-15T22:40:26.212Z"
   },
   {
    "duration": 813,
    "start_time": "2022-03-15T22:40:44.778Z"
   },
   {
    "duration": 700,
    "start_time": "2022-03-15T22:41:55.851Z"
   },
   {
    "duration": 671,
    "start_time": "2022-03-15T22:46:37.723Z"
   },
   {
    "duration": 747,
    "start_time": "2022-03-15T22:46:52.991Z"
   },
   {
    "duration": 1416,
    "start_time": "2022-03-15T22:47:43.706Z"
   },
   {
    "duration": 965,
    "start_time": "2022-03-15T22:48:18.139Z"
   },
   {
    "duration": 950,
    "start_time": "2022-03-15T22:48:51.567Z"
   },
   {
    "duration": 950,
    "start_time": "2022-03-15T22:51:57.795Z"
   },
   {
    "duration": 1074,
    "start_time": "2022-03-15T22:52:14.817Z"
   },
   {
    "duration": 1162,
    "start_time": "2022-03-15T22:53:07.563Z"
   },
   {
    "duration": 1428,
    "start_time": "2022-03-15T22:54:19.973Z"
   },
   {
    "duration": 1198,
    "start_time": "2022-03-15T22:54:40.426Z"
   },
   {
    "duration": 1320,
    "start_time": "2022-03-15T23:06:28.634Z"
   },
   {
    "duration": 1186,
    "start_time": "2022-03-15T23:06:51.716Z"
   },
   {
    "duration": 784,
    "start_time": "2022-03-15T23:07:47.594Z"
   },
   {
    "duration": 1149,
    "start_time": "2022-03-15T23:08:57.945Z"
   },
   {
    "duration": 1416,
    "start_time": "2022-03-15T23:09:15.548Z"
   },
   {
    "duration": 1775,
    "start_time": "2022-03-15T23:09:28.766Z"
   },
   {
    "duration": 1274,
    "start_time": "2022-03-15T23:09:32.148Z"
   },
   {
    "duration": 1406,
    "start_time": "2022-03-15T23:10:11.445Z"
   },
   {
    "duration": 1219,
    "start_time": "2022-03-15T23:10:46.536Z"
   },
   {
    "duration": 1477,
    "start_time": "2022-03-15T23:11:00.724Z"
   },
   {
    "duration": 1194,
    "start_time": "2022-03-15T23:11:07.226Z"
   },
   {
    "duration": 1333,
    "start_time": "2022-03-15T23:11:11.216Z"
   },
   {
    "duration": 1318,
    "start_time": "2022-03-15T23:11:51.607Z"
   },
   {
    "duration": 1226,
    "start_time": "2022-03-15T23:11:56.853Z"
   },
   {
    "duration": 1232,
    "start_time": "2022-03-15T23:12:20.344Z"
   },
   {
    "duration": 1420,
    "start_time": "2022-03-15T23:12:46.926Z"
   },
   {
    "duration": 6,
    "start_time": "2022-03-15T23:29:48.123Z"
   },
   {
    "duration": 914,
    "start_time": "2022-03-15T23:29:48.132Z"
   },
   {
    "duration": 9,
    "start_time": "2022-03-15T23:29:49.051Z"
   },
   {
    "duration": 14,
    "start_time": "2022-03-15T23:29:49.063Z"
   },
   {
    "duration": 22,
    "start_time": "2022-03-15T23:29:49.080Z"
   },
   {
    "duration": 7,
    "start_time": "2022-03-15T23:29:49.104Z"
   },
   {
    "duration": 63,
    "start_time": "2022-03-15T23:29:49.113Z"
   },
   {
    "duration": 22,
    "start_time": "2022-03-15T23:29:49.179Z"
   },
   {
    "duration": 11,
    "start_time": "2022-03-15T23:29:49.205Z"
   },
   {
    "duration": 100,
    "start_time": "2022-03-15T23:29:49.219Z"
   },
   {
    "duration": 33,
    "start_time": "2022-03-15T23:29:49.321Z"
   },
   {
    "duration": 18,
    "start_time": "2022-03-15T23:29:49.356Z"
   },
   {
    "duration": 1236,
    "start_time": "2022-03-15T23:29:49.377Z"
   },
   {
    "duration": 327,
    "start_time": "2022-03-15T23:29:50.615Z"
   },
   {
    "duration": 17,
    "start_time": "2022-03-15T23:29:50.944Z"
   },
   {
    "duration": 718,
    "start_time": "2022-03-15T23:29:50.964Z"
   },
   {
    "duration": 22,
    "start_time": "2022-03-15T23:29:51.685Z"
   },
   {
    "duration": 714,
    "start_time": "2022-03-15T23:29:51.709Z"
   },
   {
    "duration": 28,
    "start_time": "2022-03-15T23:29:52.426Z"
   },
   {
    "duration": 5,
    "start_time": "2022-03-15T23:29:52.456Z"
   },
   {
    "duration": 14,
    "start_time": "2022-03-15T23:29:52.464Z"
   },
   {
    "duration": 33,
    "start_time": "2022-03-15T23:29:52.480Z"
   },
   {
    "duration": 215,
    "start_time": "2022-03-15T23:29:52.515Z"
   },
   {
    "duration": 3124,
    "start_time": "2022-03-15T23:29:52.734Z"
   },
   {
    "duration": 92,
    "start_time": "2022-03-15T23:29:55.861Z"
   },
   {
    "duration": 26,
    "start_time": "2022-03-15T23:29:55.955Z"
   },
   {
    "duration": 15202,
    "start_time": "2022-03-15T23:29:55.984Z"
   },
   {
    "duration": 1547,
    "start_time": "2022-07-20T11:21:34.294Z"
   },
   {
    "duration": 2996,
    "start_time": "2022-07-20T11:21:35.843Z"
   },
   {
    "duration": 11,
    "start_time": "2022-07-20T11:21:38.841Z"
   },
   {
    "duration": 16,
    "start_time": "2022-07-20T11:21:38.854Z"
   },
   {
    "duration": 19,
    "start_time": "2022-07-20T11:21:38.872Z"
   },
   {
    "duration": 33,
    "start_time": "2022-07-20T11:21:38.894Z"
   },
   {
    "duration": 44,
    "start_time": "2022-07-20T11:21:38.929Z"
   },
   {
    "duration": 21,
    "start_time": "2022-07-20T11:21:38.976Z"
   },
   {
    "duration": 89,
    "start_time": "2022-07-20T11:21:38.999Z"
   },
   {
    "duration": 14,
    "start_time": "2022-07-20T11:21:39.091Z"
   },
   {
    "duration": 26,
    "start_time": "2022-07-20T11:21:39.107Z"
   },
   {
    "duration": 704,
    "start_time": "2022-07-20T11:21:39.135Z"
   },
   {
    "duration": 196,
    "start_time": "2022-07-20T11:21:39.841Z"
   },
   {
    "duration": 11,
    "start_time": "2022-07-20T11:21:40.039Z"
   },
   {
    "duration": 424,
    "start_time": "2022-07-20T11:21:40.052Z"
   },
   {
    "duration": 13,
    "start_time": "2022-07-20T11:21:40.478Z"
   },
   {
    "duration": 338,
    "start_time": "2022-07-20T11:21:40.492Z"
   },
   {
    "duration": 15,
    "start_time": "2022-07-20T11:21:40.832Z"
   },
   {
    "duration": 4,
    "start_time": "2022-07-20T11:21:40.849Z"
   },
   {
    "duration": 9,
    "start_time": "2022-07-20T11:21:40.854Z"
   },
   {
    "duration": 25,
    "start_time": "2022-07-20T11:21:40.865Z"
   },
   {
    "duration": 80,
    "start_time": "2022-07-20T11:21:40.891Z"
   },
   {
    "duration": 2558,
    "start_time": "2022-07-20T11:21:40.973Z"
   },
   {
    "duration": 91,
    "start_time": "2022-07-20T11:21:43.533Z"
   },
   {
    "duration": 1129854,
    "start_time": "2022-07-20T11:21:43.627Z"
   },
   {
    "duration": 12148,
    "start_time": "2022-07-20T11:40:33.482Z"
   },
   {
    "duration": 12025,
    "start_time": "2022-07-20T11:49:09.444Z"
   },
   {
    "duration": 2344,
    "start_time": "2022-07-20T11:50:07.474Z"
   },
   {
    "duration": 5,
    "start_time": "2022-07-20T12:47:56.608Z"
   },
   {
    "duration": 699,
    "start_time": "2022-07-20T12:47:56.617Z"
   },
   {
    "duration": 8,
    "start_time": "2022-07-20T12:47:57.318Z"
   },
   {
    "duration": 22,
    "start_time": "2022-07-20T12:47:57.327Z"
   },
   {
    "duration": 21,
    "start_time": "2022-07-20T12:47:57.351Z"
   },
   {
    "duration": 20,
    "start_time": "2022-07-20T12:47:57.374Z"
   },
   {
    "duration": 25,
    "start_time": "2022-07-20T12:47:57.396Z"
   },
   {
    "duration": 8,
    "start_time": "2022-07-20T12:47:57.423Z"
   },
   {
    "duration": 68,
    "start_time": "2022-07-20T12:47:57.433Z"
   },
   {
    "duration": 18,
    "start_time": "2022-07-20T12:47:57.503Z"
   },
   {
    "duration": 23,
    "start_time": "2022-07-20T12:47:57.522Z"
   },
   {
    "duration": 619,
    "start_time": "2022-07-20T12:47:57.546Z"
   },
   {
    "duration": 194,
    "start_time": "2022-07-20T12:47:58.167Z"
   },
   {
    "duration": 12,
    "start_time": "2022-07-20T12:47:58.363Z"
   },
   {
    "duration": 420,
    "start_time": "2022-07-20T12:47:58.378Z"
   },
   {
    "duration": 26,
    "start_time": "2022-07-20T12:47:58.800Z"
   },
   {
    "duration": 412,
    "start_time": "2022-07-20T12:47:58.827Z"
   },
   {
    "duration": 15,
    "start_time": "2022-07-20T12:47:59.240Z"
   },
   {
    "duration": 4,
    "start_time": "2022-07-20T12:47:59.257Z"
   },
   {
    "duration": 11,
    "start_time": "2022-07-20T12:47:59.263Z"
   },
   {
    "duration": 26,
    "start_time": "2022-07-20T12:47:59.276Z"
   },
   {
    "duration": 61,
    "start_time": "2022-07-20T12:47:59.324Z"
   },
   {
    "duration": 2746,
    "start_time": "2022-07-20T12:47:59.386Z"
   },
   {
    "duration": 90,
    "start_time": "2022-07-20T12:48:02.134Z"
   },
   {
    "duration": 581727,
    "start_time": "2022-07-20T12:48:02.225Z"
   },
   {
    "duration": 4,
    "start_time": "2022-07-20T13:00:09.856Z"
   },
   {
    "duration": 907446,
    "start_time": "2022-07-20T13:00:15.756Z"
   },
   {
    "duration": 8180,
    "start_time": "2022-07-20T13:21:19.381Z"
   },
   {
    "duration": 2829,
    "start_time": "2022-07-20T13:23:18.962Z"
   },
   {
    "duration": 5,
    "start_time": "2022-07-20T13:25:42.651Z"
   },
   {
    "duration": 800,
    "start_time": "2022-07-20T13:25:42.658Z"
   },
   {
    "duration": 8,
    "start_time": "2022-07-20T13:25:43.461Z"
   },
   {
    "duration": 10,
    "start_time": "2022-07-20T13:25:43.472Z"
   },
   {
    "duration": 15,
    "start_time": "2022-07-20T13:25:43.484Z"
   },
   {
    "duration": 33,
    "start_time": "2022-07-20T13:25:43.501Z"
   },
   {
    "duration": 38,
    "start_time": "2022-07-20T13:25:43.536Z"
   },
   {
    "duration": 6,
    "start_time": "2022-07-20T13:25:43.576Z"
   },
   {
    "duration": 75,
    "start_time": "2022-07-20T13:25:43.585Z"
   },
   {
    "duration": 13,
    "start_time": "2022-07-20T13:25:43.662Z"
   },
   {
    "duration": 19,
    "start_time": "2022-07-20T13:25:43.676Z"
   },
   {
    "duration": 735,
    "start_time": "2022-07-20T13:25:43.697Z"
   },
   {
    "duration": 229,
    "start_time": "2022-07-20T13:25:44.443Z"
   },
   {
    "duration": 10,
    "start_time": "2022-07-20T13:25:44.674Z"
   },
   {
    "duration": 471,
    "start_time": "2022-07-20T13:25:44.686Z"
   },
   {
    "duration": 13,
    "start_time": "2022-07-20T13:25:45.159Z"
   },
   {
    "duration": 380,
    "start_time": "2022-07-20T13:25:45.174Z"
   },
   {
    "duration": 13,
    "start_time": "2022-07-20T13:25:45.555Z"
   },
   {
    "duration": 4,
    "start_time": "2022-07-20T13:25:45.570Z"
   },
   {
    "duration": 10,
    "start_time": "2022-07-20T13:25:45.576Z"
   },
   {
    "duration": 24,
    "start_time": "2022-07-20T13:25:45.588Z"
   },
   {
    "duration": 71,
    "start_time": "2022-07-20T13:25:45.626Z"
   },
   {
    "duration": 6941,
    "start_time": "2022-07-20T13:25:45.698Z"
   },
   {
    "duration": 10,
    "start_time": "2022-07-20T13:25:52.649Z"
   },
   {
    "duration": 1265103,
    "start_time": "2022-07-20T13:25:52.661Z"
   },
   {
    "duration": 2746,
    "start_time": "2022-07-20T13:46:57.766Z"
   }
  ],
  "kernelspec": {
   "display_name": "Python 3.9.13 64-bit (windows store)",
   "language": "python",
   "name": "python3"
  },
  "language_info": {
   "codemirror_mode": {
    "name": "ipython",
    "version": 3
   },
   "file_extension": ".py",
   "mimetype": "text/x-python",
   "name": "python",
   "nbconvert_exporter": "python",
   "pygments_lexer": "ipython3",
   "version": "3.9.13"
  },
  "toc": {
   "base_numbering": 1,
   "nav_menu": {},
   "number_sections": true,
   "sideBar": true,
   "skip_h1_title": true,
   "title_cell": "Содержание",
   "title_sidebar": "Contents",
   "toc_cell": true,
   "toc_position": {
    "height": "calc(100% - 180px)",
    "left": "10px",
    "top": "150px",
    "width": "203.8px"
   },
   "toc_section_display": true,
   "toc_window_display": false
  },
  "vscode": {
   "interpreter": {
    "hash": "591a79bee64ad568ec6f89e3b618efc0f99908eb6ec63c9e71e73f6f1e7a767a"
   }
  }
 },
 "nbformat": 4,
 "nbformat_minor": 2
}
